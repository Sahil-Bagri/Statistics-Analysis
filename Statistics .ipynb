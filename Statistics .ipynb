{
 "cells": [
  {
   "cell_type": "code",
   "execution_count": 343,
   "metadata": {
    "id": "aY_hd4AlEJcQ"
   },
   "outputs": [],
   "source": [
    "#libraries to work with\n",
    "import pandas as pd        #we use pandas to read our data we want to work with\n",
    "import numpy as np         #we use  numpy to work with mathematical expressions"
   ]
  },
  {
   "cell_type": "code",
   "execution_count": 345,
   "metadata": {
    "id": "3mEq1mzJGAoH"
   },
   "outputs": [],
   "source": [
    "df=pd.read_csv(\"C:\\\\Users\\\\sb193\\\\OneDrive\\\\Documents\\\\Pandas.csv\")\n",
    "                                          "
   ]
  },
  {
   "cell_type": "code",
   "execution_count": 347,
   "metadata": {
    "colab": {
     "base_uri": "https://localhost:8080/",
     "height": 258
    },
    "id": "hxDCShSgGAku",
    "outputId": "87f903a0-f39a-4942-f3a0-03d3462e8ebf"
   },
   "outputs": [
    {
     "data": {
      "text/html": [
       "<div>\n",
       "<style scoped>\n",
       "    .dataframe tbody tr th:only-of-type {\n",
       "        vertical-align: middle;\n",
       "    }\n",
       "\n",
       "    .dataframe tbody tr th {\n",
       "        vertical-align: top;\n",
       "    }\n",
       "\n",
       "    .dataframe thead th {\n",
       "        text-align: right;\n",
       "    }\n",
       "</style>\n",
       "<table border=\"1\" class=\"dataframe\">\n",
       "  <thead>\n",
       "    <tr style=\"text-align: right;\">\n",
       "      <th></th>\n",
       "      <th>Rank</th>\n",
       "      <th>Title</th>\n",
       "      <th>Employees</th>\n",
       "      <th>Sector</th>\n",
       "      <th>Industry</th>\n",
       "      <th>Hqcity</th>\n",
       "      <th>Ceo</th>\n",
       "      <th>Ceo-title</th>\n",
       "      <th>Revenues</th>\n",
       "      <th>Revchange</th>\n",
       "      <th>Profits</th>\n",
       "      <th>Prftchange</th>\n",
       "      <th>Assets</th>\n",
       "    </tr>\n",
       "  </thead>\n",
       "  <tbody>\n",
       "    <tr>\n",
       "      <th>0</th>\n",
       "      <td>1</td>\n",
       "      <td>Walmart</td>\n",
       "      <td>2300000</td>\n",
       "      <td>Retailing</td>\n",
       "      <td>General Merchandisers</td>\n",
       "      <td>Bentonville</td>\n",
       "      <td>C. Douglas McMillon</td>\n",
       "      <td>President, Chief Executive Officer &amp; Director</td>\n",
       "      <td>485873</td>\n",
       "      <td>0.8</td>\n",
       "      <td>13643.0</td>\n",
       "      <td>-7.2</td>\n",
       "      <td>198825</td>\n",
       "    </tr>\n",
       "    <tr>\n",
       "      <th>1</th>\n",
       "      <td>2</td>\n",
       "      <td>Berkshire Hathaway</td>\n",
       "      <td>367700</td>\n",
       "      <td>Financials</td>\n",
       "      <td>Insurance: Property and Casualty (Stock)</td>\n",
       "      <td>Omaha</td>\n",
       "      <td>Warren E. Buffett</td>\n",
       "      <td>Chairman &amp; Chief Executive Officer</td>\n",
       "      <td>223604</td>\n",
       "      <td>6.1</td>\n",
       "      <td>24074.0</td>\n",
       "      <td>0</td>\n",
       "      <td>620854</td>\n",
       "    </tr>\n",
       "    <tr>\n",
       "      <th>2</th>\n",
       "      <td>3</td>\n",
       "      <td>Apple</td>\n",
       "      <td>116000</td>\n",
       "      <td>Technology</td>\n",
       "      <td>Computers, Office Equipment</td>\n",
       "      <td>Cupertino</td>\n",
       "      <td>Timothy D. Cook</td>\n",
       "      <td>Chief Executive Officer &amp; Director</td>\n",
       "      <td>215639</td>\n",
       "      <td>-7.7</td>\n",
       "      <td>45687.0</td>\n",
       "      <td>-14.4</td>\n",
       "      <td>321686</td>\n",
       "    </tr>\n",
       "    <tr>\n",
       "      <th>3</th>\n",
       "      <td>4</td>\n",
       "      <td>Exxon Mobil</td>\n",
       "      <td>72700</td>\n",
       "      <td>Energy</td>\n",
       "      <td>Petroleum Refining</td>\n",
       "      <td>Irving</td>\n",
       "      <td>Darren W. Woods</td>\n",
       "      <td>Chairman &amp; Chief Executive Officer</td>\n",
       "      <td>205004</td>\n",
       "      <td>-16.7</td>\n",
       "      <td>7840.0</td>\n",
       "      <td>-51.5</td>\n",
       "      <td>330314</td>\n",
       "    </tr>\n",
       "    <tr>\n",
       "      <th>4</th>\n",
       "      <td>5</td>\n",
       "      <td>McKesson</td>\n",
       "      <td>68000</td>\n",
       "      <td>Wholesalers</td>\n",
       "      <td>Wholesalers: Health Care</td>\n",
       "      <td>San Francisco</td>\n",
       "      <td>John H. Hammergren</td>\n",
       "      <td>Chairman, President &amp; Chief Executive Officer</td>\n",
       "      <td>192487</td>\n",
       "      <td>6.2</td>\n",
       "      <td>2258.0</td>\n",
       "      <td>53</td>\n",
       "      <td>56563</td>\n",
       "    </tr>\n",
       "  </tbody>\n",
       "</table>\n",
       "</div>"
      ],
      "text/plain": [
       "   Rank               Title  Employees       Sector  \\\n",
       "0     1             Walmart    2300000    Retailing   \n",
       "1     2  Berkshire Hathaway     367700   Financials   \n",
       "2     3               Apple     116000   Technology   \n",
       "3     4         Exxon Mobil      72700       Energy   \n",
       "4     5            McKesson      68000  Wholesalers   \n",
       "\n",
       "                                   Industry         Hqcity  \\\n",
       "0                     General Merchandisers    Bentonville   \n",
       "1  Insurance: Property and Casualty (Stock)          Omaha   \n",
       "2               Computers, Office Equipment      Cupertino   \n",
       "3                        Petroleum Refining         Irving   \n",
       "4                  Wholesalers: Health Care  San Francisco   \n",
       "\n",
       "                   Ceo                                      Ceo-title  \\\n",
       "0  C. Douglas McMillon  President, Chief Executive Officer & Director   \n",
       "1    Warren E. Buffett             Chairman & Chief Executive Officer   \n",
       "2      Timothy D. Cook             Chief Executive Officer & Director   \n",
       "3      Darren W. Woods             Chairman & Chief Executive Officer   \n",
       "4   John H. Hammergren  Chairman, President & Chief Executive Officer   \n",
       "\n",
       "   Revenues  Revchange  Profits Prftchange  Assets  \n",
       "0    485873        0.8  13643.0       -7.2  198825  \n",
       "1    223604        6.1  24074.0          0  620854  \n",
       "2    215639       -7.7  45687.0      -14.4  321686  \n",
       "3    205004      -16.7   7840.0      -51.5  330314  \n",
       "4    192487        6.2   2258.0         53   56563  "
      ]
     },
     "execution_count": 347,
     "metadata": {},
     "output_type": "execute_result"
    }
   ],
   "source": [
    "# It gives us first five rows of the dataset. If we want more or less you put any number inside the head brackets\n",
    "df.head()"
   ]
  },
  {
   "cell_type": "code",
   "execution_count": 153,
   "metadata": {
    "colab": {
     "base_uri": "https://localhost:8080/",
     "height": 275
    },
    "id": "T1bkAke8GAif",
    "outputId": "01e2bffd-bc56-49d5-bf89-47b30ab7999a"
   },
   "outputs": [
    {
     "data": {
      "text/html": [
       "<div>\n",
       "<style scoped>\n",
       "    .dataframe tbody tr th:only-of-type {\n",
       "        vertical-align: middle;\n",
       "    }\n",
       "\n",
       "    .dataframe tbody tr th {\n",
       "        vertical-align: top;\n",
       "    }\n",
       "\n",
       "    .dataframe thead th {\n",
       "        text-align: right;\n",
       "    }\n",
       "</style>\n",
       "<table border=\"1\" class=\"dataframe\">\n",
       "  <thead>\n",
       "    <tr style=\"text-align: right;\">\n",
       "      <th></th>\n",
       "      <th>Rank</th>\n",
       "      <th>Title</th>\n",
       "      <th>Employees</th>\n",
       "      <th>Sector</th>\n",
       "      <th>Industry</th>\n",
       "      <th>Hqcity</th>\n",
       "      <th>Ceo</th>\n",
       "      <th>Ceo-title</th>\n",
       "      <th>Revenues</th>\n",
       "      <th>Revchange</th>\n",
       "      <th>Profits</th>\n",
       "      <th>Prftchange</th>\n",
       "      <th>Assets</th>\n",
       "    </tr>\n",
       "  </thead>\n",
       "  <tbody>\n",
       "    <tr>\n",
       "      <th>495</th>\n",
       "      <td>496</td>\n",
       "      <td>Michaels Cos.</td>\n",
       "      <td>31000</td>\n",
       "      <td>Retailing</td>\n",
       "      <td>Specialty Retailers: Other</td>\n",
       "      <td>Irving</td>\n",
       "      <td>Carl S. Rubin</td>\n",
       "      <td>Chairman &amp; Chief Executive Officer</td>\n",
       "      <td>5197</td>\n",
       "      <td>5.8</td>\n",
       "      <td>378.2</td>\n",
       "      <td>4.2</td>\n",
       "      <td>2148</td>\n",
       "    </tr>\n",
       "    <tr>\n",
       "      <th>496</th>\n",
       "      <td>497</td>\n",
       "      <td>Toll Brothers</td>\n",
       "      <td>4200</td>\n",
       "      <td>Engineering &amp; Construction</td>\n",
       "      <td>Homebuilders</td>\n",
       "      <td>Horsham</td>\n",
       "      <td>Douglas C. Yearley Jr.</td>\n",
       "      <td>Chief Executive Officer &amp; Director</td>\n",
       "      <td>5170</td>\n",
       "      <td>23.9</td>\n",
       "      <td>382.1</td>\n",
       "      <td>5.2</td>\n",
       "      <td>9737</td>\n",
       "    </tr>\n",
       "    <tr>\n",
       "      <th>497</th>\n",
       "      <td>498</td>\n",
       "      <td>Yahoo</td>\n",
       "      <td>8500</td>\n",
       "      <td>Technology</td>\n",
       "      <td>Internet Services and Retailing</td>\n",
       "      <td>Sunnyvale</td>\n",
       "      <td>Marissa A. Mayer</td>\n",
       "      <td>President, Chief Executive Officer &amp; Director</td>\n",
       "      <td>5169</td>\n",
       "      <td>4.0</td>\n",
       "      <td>-214.3</td>\n",
       "      <td>5.2</td>\n",
       "      <td>48083</td>\n",
       "    </tr>\n",
       "    <tr>\n",
       "      <th>498</th>\n",
       "      <td>499</td>\n",
       "      <td>Vistra Energy</td>\n",
       "      <td>4431</td>\n",
       "      <td>Energy</td>\n",
       "      <td>Energy</td>\n",
       "      <td>Dallas</td>\n",
       "      <td>Curtis A. Morgan</td>\n",
       "      <td>President, Chief Executive Officer &amp; Director</td>\n",
       "      <td>5164</td>\n",
       "      <td>4.0</td>\n",
       "      <td>-214.3</td>\n",
       "      <td>5.2</td>\n",
       "      <td>15167</td>\n",
       "    </tr>\n",
       "    <tr>\n",
       "      <th>499</th>\n",
       "      <td>500</td>\n",
       "      <td>ABM Industries</td>\n",
       "      <td>110000</td>\n",
       "      <td>Business Services</td>\n",
       "      <td>Diversified Outsourcing Services</td>\n",
       "      <td>New York</td>\n",
       "      <td>Scott B. Salmirs</td>\n",
       "      <td>President, Chief Executive Officer &amp; Director</td>\n",
       "      <td>5145</td>\n",
       "      <td>-2.8</td>\n",
       "      <td>57.2</td>\n",
       "      <td>-25</td>\n",
       "      <td>2281</td>\n",
       "    </tr>\n",
       "  </tbody>\n",
       "</table>\n",
       "</div>"
      ],
      "text/plain": [
       "     Rank           Title  Employees                      Sector  \\\n",
       "495   496   Michaels Cos.      31000                   Retailing   \n",
       "496   497   Toll Brothers       4200  Engineering & Construction   \n",
       "497   498           Yahoo       8500                  Technology   \n",
       "498   499   Vistra Energy       4431                      Energy   \n",
       "499   500  ABM Industries     110000           Business Services   \n",
       "\n",
       "                             Industry     Hqcity                     Ceo  \\\n",
       "495        Specialty Retailers: Other     Irving           Carl S. Rubin   \n",
       "496                      Homebuilders    Horsham  Douglas C. Yearley Jr.   \n",
       "497   Internet Services and Retailing  Sunnyvale        Marissa A. Mayer   \n",
       "498                            Energy     Dallas        Curtis A. Morgan   \n",
       "499  Diversified Outsourcing Services   New York        Scott B. Salmirs   \n",
       "\n",
       "                                         Ceo-title  Revenues  Revchange  \\\n",
       "495             Chairman & Chief Executive Officer      5197        5.8   \n",
       "496             Chief Executive Officer & Director      5170       23.9   \n",
       "497  President, Chief Executive Officer & Director      5169        4.0   \n",
       "498  President, Chief Executive Officer & Director      5164        4.0   \n",
       "499  President, Chief Executive Officer & Director      5145       -2.8   \n",
       "\n",
       "     Profits Prftchange  Assets  \n",
       "495    378.2        4.2    2148  \n",
       "496    382.1        5.2    9737  \n",
       "497   -214.3        5.2   48083  \n",
       "498   -214.3        5.2   15167  \n",
       "499     57.2        -25    2281  "
      ]
     },
     "execution_count": 153,
     "metadata": {},
     "output_type": "execute_result"
    }
   ],
   "source": [
    "#It gives last five rows of the dataset. If you want more so you can do how much you wanted to see.\n",
    "df.tail()"
   ]
  },
  {
   "cell_type": "code",
   "execution_count": 154,
   "metadata": {
    "colab": {
     "base_uri": "https://localhost:8080/"
    },
    "id": "rZSp1mF8GAgK",
    "outputId": "0afbf163-2189-4630-a46f-71a21043b65e"
   },
   "outputs": [
    {
     "data": {
      "text/plain": [
       "(500, 13)"
      ]
     },
     "execution_count": 154,
     "metadata": {},
     "output_type": "execute_result"
    }
   ],
   "source": [
    "# To find rows and columns\n",
    "df.shape"
   ]
  },
  {
   "cell_type": "code",
   "execution_count": 155,
   "metadata": {
    "colab": {
     "base_uri": "https://localhost:8080/"
    },
    "id": "fAwZoZPOGAdk",
    "outputId": "2352efd0-250c-4432-98a7-49438cf3e820"
   },
   "outputs": [
    {
     "name": "stdout",
     "output_type": "stream",
     "text": [
      "<class 'pandas.core.frame.DataFrame'>\n",
      "RangeIndex: 500 entries, 0 to 499\n",
      "Data columns (total 13 columns):\n",
      " #   Column      Non-Null Count  Dtype  \n",
      "---  ------      --------------  -----  \n",
      " 0   Rank        500 non-null    int64  \n",
      " 1   Title       500 non-null    object \n",
      " 2   Employees   500 non-null    int64  \n",
      " 3   Sector      500 non-null    object \n",
      " 4   Industry    500 non-null    object \n",
      " 5   Hqcity      500 non-null    object \n",
      " 6   Ceo         500 non-null    object \n",
      " 7   Ceo-title   500 non-null    object \n",
      " 8   Revenues    500 non-null    int64  \n",
      " 9   Revchange   500 non-null    float64\n",
      " 10  Profits     500 non-null    float64\n",
      " 11  Prftchange  500 non-null    object \n",
      " 12  Assets      500 non-null    int64  \n",
      "dtypes: float64(2), int64(4), object(7)\n",
      "memory usage: 50.9+ KB\n"
     ]
    }
   ],
   "source": [
    "# For the information about the data\n",
    "df.info()"
   ]
  },
  {
   "cell_type": "code",
   "execution_count": 156,
   "metadata": {
    "id": "aUzMYrRZGAbb"
   },
   "outputs": [],
   "source": [
    "#before using any column we are assiging them to a variable so it will be easy to work with instead of calling every column\n",
    "sub_df= df[[\"Rank\",\"Title\",\"Employees\",\"Sector\",\"Revenues\",\"Profits\"]]"
   ]
  },
  {
   "cell_type": "code",
   "execution_count": 157,
   "metadata": {
    "colab": {
     "base_uri": "https://localhost:8080/",
     "height": 143
    },
    "id": "fb9v35AJGARO",
    "outputId": "f8c35305-a7dd-4d00-8ee0-7508c8bfa0b8"
   },
   "outputs": [
    {
     "data": {
      "text/html": [
       "<div>\n",
       "<style scoped>\n",
       "    .dataframe tbody tr th:only-of-type {\n",
       "        vertical-align: middle;\n",
       "    }\n",
       "\n",
       "    .dataframe tbody tr th {\n",
       "        vertical-align: top;\n",
       "    }\n",
       "\n",
       "    .dataframe thead th {\n",
       "        text-align: right;\n",
       "    }\n",
       "</style>\n",
       "<table border=\"1\" class=\"dataframe\">\n",
       "  <thead>\n",
       "    <tr style=\"text-align: right;\">\n",
       "      <th></th>\n",
       "      <th>Rank</th>\n",
       "      <th>Title</th>\n",
       "      <th>Employees</th>\n",
       "      <th>Sector</th>\n",
       "      <th>Revenues</th>\n",
       "      <th>Profits</th>\n",
       "    </tr>\n",
       "  </thead>\n",
       "  <tbody>\n",
       "    <tr>\n",
       "      <th>0</th>\n",
       "      <td>1</td>\n",
       "      <td>Walmart</td>\n",
       "      <td>2300000</td>\n",
       "      <td>Retailing</td>\n",
       "      <td>485873</td>\n",
       "      <td>13643.0</td>\n",
       "    </tr>\n",
       "    <tr>\n",
       "      <th>1</th>\n",
       "      <td>2</td>\n",
       "      <td>Berkshire Hathaway</td>\n",
       "      <td>367700</td>\n",
       "      <td>Financials</td>\n",
       "      <td>223604</td>\n",
       "      <td>24074.0</td>\n",
       "    </tr>\n",
       "    <tr>\n",
       "      <th>2</th>\n",
       "      <td>3</td>\n",
       "      <td>Apple</td>\n",
       "      <td>116000</td>\n",
       "      <td>Technology</td>\n",
       "      <td>215639</td>\n",
       "      <td>45687.0</td>\n",
       "    </tr>\n",
       "  </tbody>\n",
       "</table>\n",
       "</div>"
      ],
      "text/plain": [
       "   Rank               Title  Employees      Sector  Revenues  Profits\n",
       "0     1             Walmart    2300000   Retailing    485873  13643.0\n",
       "1     2  Berkshire Hathaway     367700  Financials    223604  24074.0\n",
       "2     3               Apple     116000  Technology    215639  45687.0"
      ]
     },
     "execution_count": 157,
     "metadata": {},
     "output_type": "execute_result"
    }
   ],
   "source": [
    "sub_df.head(3)    #this will show only 3 rows"
   ]
  },
  {
   "cell_type": "code",
   "execution_count": 158,
   "metadata": {
    "colab": {
     "base_uri": "https://localhost:8080/",
     "height": 300
    },
    "id": "UCSfo5TdI76r",
    "outputId": "ec6ecf49-a6b2-4592-87bf-1aee6fc0ce9e"
   },
   "outputs": [
    {
     "data": {
      "text/html": [
       "<div>\n",
       "<style scoped>\n",
       "    .dataframe tbody tr th:only-of-type {\n",
       "        vertical-align: middle;\n",
       "    }\n",
       "\n",
       "    .dataframe tbody tr th {\n",
       "        vertical-align: top;\n",
       "    }\n",
       "\n",
       "    .dataframe thead th {\n",
       "        text-align: right;\n",
       "    }\n",
       "</style>\n",
       "<table border=\"1\" class=\"dataframe\">\n",
       "  <thead>\n",
       "    <tr style=\"text-align: right;\">\n",
       "      <th></th>\n",
       "      <th>Rank</th>\n",
       "      <th>Employees</th>\n",
       "      <th>Revenues</th>\n",
       "      <th>Profits</th>\n",
       "    </tr>\n",
       "  </thead>\n",
       "  <tbody>\n",
       "    <tr>\n",
       "      <th>count</th>\n",
       "      <td>500.000000</td>\n",
       "      <td>5.000000e+02</td>\n",
       "      <td>500.000000</td>\n",
       "      <td>500.000000</td>\n",
       "    </tr>\n",
       "    <tr>\n",
       "      <th>mean</th>\n",
       "      <td>250.492000</td>\n",
       "      <td>5.635013e+04</td>\n",
       "      <td>24111.748000</td>\n",
       "      <td>1779.479800</td>\n",
       "    </tr>\n",
       "    <tr>\n",
       "      <th>std</th>\n",
       "      <td>144.477366</td>\n",
       "      <td>1.234520e+05</td>\n",
       "      <td>38337.353337</td>\n",
       "      <td>3937.558721</td>\n",
       "    </tr>\n",
       "    <tr>\n",
       "      <th>min</th>\n",
       "      <td>1.000000</td>\n",
       "      <td>8.300000e+01</td>\n",
       "      <td>5145.000000</td>\n",
       "      <td>-6177.000000</td>\n",
       "    </tr>\n",
       "    <tr>\n",
       "      <th>25%</th>\n",
       "      <td>125.750000</td>\n",
       "      <td>1.190000e+04</td>\n",
       "      <td>7245.000000</td>\n",
       "      <td>235.725000</td>\n",
       "    </tr>\n",
       "    <tr>\n",
       "      <th>50%</th>\n",
       "      <td>250.500000</td>\n",
       "      <td>2.500000e+04</td>\n",
       "      <td>11384.000000</td>\n",
       "      <td>683.600000</td>\n",
       "    </tr>\n",
       "    <tr>\n",
       "      <th>75%</th>\n",
       "      <td>375.250000</td>\n",
       "      <td>5.682525e+04</td>\n",
       "      <td>22605.250000</td>\n",
       "      <td>1770.775000</td>\n",
       "    </tr>\n",
       "    <tr>\n",
       "      <th>max</th>\n",
       "      <td>500.000000</td>\n",
       "      <td>2.300000e+06</td>\n",
       "      <td>485873.000000</td>\n",
       "      <td>45687.000000</td>\n",
       "    </tr>\n",
       "  </tbody>\n",
       "</table>\n",
       "</div>"
      ],
      "text/plain": [
       "             Rank     Employees       Revenues       Profits\n",
       "count  500.000000  5.000000e+02     500.000000    500.000000\n",
       "mean   250.492000  5.635013e+04   24111.748000   1779.479800\n",
       "std    144.477366  1.234520e+05   38337.353337   3937.558721\n",
       "min      1.000000  8.300000e+01    5145.000000  -6177.000000\n",
       "25%    125.750000  1.190000e+04    7245.000000    235.725000\n",
       "50%    250.500000  2.500000e+04   11384.000000    683.600000\n",
       "75%    375.250000  5.682525e+04   22605.250000   1770.775000\n",
       "max    500.000000  2.300000e+06  485873.000000  45687.000000"
      ]
     },
     "execution_count": 158,
     "metadata": {},
     "output_type": "execute_result"
    }
   ],
   "source": [
    "sub_df.describe()        #this will describe our data its count,mean,std,min,max etc."
   ]
  },
  {
   "cell_type": "code",
   "execution_count": 159,
   "metadata": {
    "colab": {
     "base_uri": "https://localhost:8080/"
    },
    "id": "8NMiz-ACI73H",
    "outputId": "c6af3f18-5a6c-4396-f13f-80a39c319736"
   },
   "outputs": [
    {
     "data": {
      "text/plain": [
       "24111.748"
      ]
     },
     "execution_count": 159,
     "metadata": {},
     "output_type": "execute_result"
    }
   ],
   "source": [
    "mean_revenue= sub_df[\"Revenues\"].mean()           #to find mean of any column\n",
    "mean_revenue"
   ]
  },
  {
   "cell_type": "code",
   "execution_count": 160,
   "metadata": {
    "colab": {
     "base_uri": "https://localhost:8080/",
     "height": 115
    },
    "id": "UqpGVt2CI70v",
    "outputId": "b8b8d435-f009-492a-852e-d29b31965b2f"
   },
   "outputs": [
    {
     "data": {
      "text/plain": [
       "0    9061\n",
       "Name: Revenues, dtype: int64"
      ]
     },
     "execution_count": 160,
     "metadata": {},
     "output_type": "execute_result"
    }
   ],
   "source": [
    "mode_revenue= sub_df[\"Revenues\"].mode()           #to find mode of any column\n",
    "mode_revenue"
   ]
  },
  {
   "cell_type": "code",
   "execution_count": 161,
   "metadata": {
    "colab": {
     "base_uri": "https://localhost:8080/"
    },
    "id": "v0lNN9QMI7yV",
    "outputId": "709165ae-7957-4421-8a9f-35c1f3a49f23"
   },
   "outputs": [
    {
     "data": {
      "text/plain": [
       "11384.0"
      ]
     },
     "execution_count": 161,
     "metadata": {},
     "output_type": "execute_result"
    }
   ],
   "source": [
    "median_revenue= sub_df[\"Revenues\"].median()       #to find median of any column\n",
    "median_revenue"
   ]
  },
  {
   "cell_type": "code",
   "execution_count": 162,
   "metadata": {
    "colab": {
     "base_uri": "https://localhost:8080/"
    },
    "id": "bUxiiOAuI7vw",
    "outputId": "fcf8c2e2-df29-4c26-f115-68b3824c00c3"
   },
   "outputs": [
    {
     "data": {
      "text/plain": [
       "5145"
      ]
     },
     "execution_count": 162,
     "metadata": {},
     "output_type": "execute_result"
    }
   ],
   "source": [
    "C_revenue= sub_df[\"Revenues\"].min()              #to find min value in the column\n",
    "C_revenue"
   ]
  },
  {
   "cell_type": "code",
   "execution_count": 163,
   "metadata": {
    "colab": {
     "base_uri": "https://localhost:8080/"
    },
    "id": "RyKXzJjaI7tU",
    "outputId": "f776c6da-f512-4d14-8109-bcf6007af3d9"
   },
   "outputs": [
    {
     "data": {
      "text/plain": [
       "485873"
      ]
     },
     "execution_count": 163,
     "metadata": {},
     "output_type": "execute_result"
    }
   ],
   "source": [
    "W_revenue= sub_df[\"Revenues\"].max()               #to find the max value in the column\n",
    "W_revenue"
   ]
  },
  {
   "cell_type": "code",
   "execution_count": 164,
   "metadata": {
    "colab": {
     "base_uri": "https://localhost:8080/"
    },
    "id": "jlrTOtxNI7pH",
    "outputId": "1d26d485-b197-4ce1-d01b-26e6d66ff33b"
   },
   "outputs": [
    {
     "data": {
      "text/plain": [
       "480728"
      ]
     },
     "execution_count": 164,
     "metadata": {},
     "output_type": "execute_result"
    }
   ],
   "source": [
    "range= W_revenue-C_revenue                      #Find range while subtracting max by min value\n",
    "range"
   ]
  },
  {
   "cell_type": "code",
   "execution_count": 165,
   "metadata": {
    "colab": {
     "base_uri": "https://localhost:8080/"
    },
    "id": "BgvO39UsI7lv",
    "outputId": "d815273f-76f2-40fd-eae6-e2d8b93e20d3"
   },
   "outputs": [
    {
     "data": {
      "text/plain": [
       "480728"
      ]
     },
     "execution_count": 165,
     "metadata": {},
     "output_type": "execute_result"
    }
   ],
   "source": [
    "range=sub_df[\"Revenues\"].max()-sub_df[\"Revenues\"].min()\n",
    "range"
   ]
  },
  {
   "cell_type": "code",
   "execution_count": 166,
   "metadata": {
    "colab": {
     "base_uri": "https://localhost:8080/"
    },
    "id": "DkJ85_PPI7iq",
    "outputId": "cbcafd76-edf2-4c47-eaa3-80ac1885b143"
   },
   "outputs": [
    {
     "data": {
      "text/plain": [
       "38337.35333653324"
      ]
     },
     "execution_count": 166,
     "metadata": {},
     "output_type": "execute_result"
    }
   ],
   "source": [
    "st=sub_df[\"Revenues\"].std()               #find standard deviation of any column\n",
    "st"
   ]
  },
  {
   "cell_type": "code",
   "execution_count": 167,
   "metadata": {
    "colab": {
     "base_uri": "https://localhost:8080/"
    },
    "id": "3TFBreRr7URx",
    "outputId": "995781c5-3a01-402f-9a2f-892f0bb2745a"
   },
   "outputs": [
    {
     "data": {
      "text/plain": [
       "1469752660.8501961"
      ]
     },
     "execution_count": 167,
     "metadata": {},
     "output_type": "execute_result"
    }
   ],
   "source": [
    "sd=sub_df[\"Revenues\"].var()           #to find the variance of column\n",
    "sd"
   ]
  },
  {
   "cell_type": "markdown",
   "metadata": {
    "id": "ruZLB2X08Vrz"
   },
   "source": [
    "#IQR"
   ]
  },
  {
   "cell_type": "code",
   "execution_count": 169,
   "metadata": {
    "colab": {
     "base_uri": "https://localhost:8080/"
    },
    "id": "zeb0TaNZ8ZvZ",
    "outputId": "95709706-664d-427a-9e7d-a7ccdf430483"
   },
   "outputs": [
    {
     "data": {
      "text/plain": [
       "7245.0"
      ]
     },
     "execution_count": 169,
     "metadata": {},
     "output_type": "execute_result"
    }
   ],
   "source": [
    "#Its like quartile but in python we call it quantile\n",
    "#p75=Q3 and P25=Q1\n",
    "q1 = sub_df[\"Revenues\"].quantile(0.25)\n",
    "q1                                         # q1= 25%"
   ]
  },
  {
   "cell_type": "code",
   "execution_count": 299,
   "metadata": {
    "colab": {
     "base_uri": "https://localhost:8080/"
    },
    "id": "BY3r1GwD7UOP",
    "outputId": "048d512d-bb22-402a-f847-dc18ed34f368"
   },
   "outputs": [
    {
     "data": {
      "text/plain": [
       "11384.0"
      ]
     },
     "execution_count": 299,
     "metadata": {},
     "output_type": "execute_result"
    }
   ],
   "source": [
    "q2 = sub_df[\"Revenues\"].quantile(0.50)         #q2= 50%\n",
    "q2"
   ]
  },
  {
   "cell_type": "code",
   "execution_count": 303,
   "metadata": {},
   "outputs": [
    {
     "data": {
      "text/plain": [
       "22605.25"
      ]
     },
     "execution_count": 303,
     "metadata": {},
     "output_type": "execute_result"
    }
   ],
   "source": [
    "q3=sub_df[\"Revenues\"].quantile(0.75) #q3 75%\n",
    "q3"
   ]
  },
  {
   "cell_type": "code",
   "execution_count": 305,
   "metadata": {
    "colab": {
     "base_uri": "https://localhost:8080/"
    },
    "id": "RYne408J7UL4",
    "outputId": "6e7d18a0-516a-47a0-c476-c67b98447941"
   },
   "outputs": [
    {
     "data": {
      "text/plain": [
       "15360.25"
      ]
     },
     "execution_count": 305,
     "metadata": {},
     "output_type": "execute_result"
    }
   ],
   "source": [
    "iqr= q3-q1\n",
    "iqr"
   ]
  },
  {
   "cell_type": "code",
   "execution_count": 172,
   "metadata": {
    "colab": {
     "base_uri": "https://localhost:8080/"
    },
    "id": "4W4_frPF916m",
    "outputId": "402bde3b-0b17-4f1a-d0dc-c167257eba1e"
   },
   "outputs": [
    {
     "data": {
      "text/plain": [
       "15360.25"
      ]
     },
     "execution_count": 172,
     "metadata": {},
     "output_type": "execute_result"
    }
   ],
   "source": [
    "iqr2= sub_df[\"Revenues\"].quantile(0.75)-sub_df[\"Revenues\"].quantile(0.25)                    #Its the iqr\n",
    "iqr2"
   ]
  },
  {
   "cell_type": "code",
   "execution_count": 173,
   "metadata": {
    "colab": {
     "base_uri": "https://localhost:8080/"
    },
    "id": "yG75qQL_9ppv",
    "outputId": "b8c8fb5b-5b7d-43d9-f231-9c639e681ef2"
   },
   "outputs": [
    {
     "data": {
      "text/plain": [
       "5.480066970305041"
      ]
     },
     "execution_count": 173,
     "metadata": {},
     "output_type": "execute_result"
    }
   ],
   "source": [
    "skew= sub_df[\"Revenues\"].skew()        #to find skewness\n",
    "skew"
   ]
  },
  {
   "cell_type": "code",
   "execution_count": 174,
   "metadata": {
    "colab": {
     "base_uri": "https://localhost:8080/"
    },
    "id": "TWYgtL5Z9pmW",
    "outputId": "22bde818-61ee-486f-dc44-60ad5193b67f"
   },
   "outputs": [
    {
     "data": {
      "text/plain": [
       "158.99864803055027"
      ]
     },
     "execution_count": 174,
     "metadata": {},
     "output_type": "execute_result"
    }
   ],
   "source": [
    "cv= (sub_df[\"Revenues\"].std()/sub_df[\"Revenues\"].mean()) *100           #to find cv\n",
    "cv"
   ]
  },
  {
   "cell_type": "code",
   "execution_count": 175,
   "metadata": {
    "colab": {
     "base_uri": "https://localhost:8080/"
    },
    "id": "htGozmCw9phc",
    "outputId": "0e5d4a96-27be-477d-a5d2-a64e2e8cd090"
   },
   "outputs": [
    {
     "data": {
      "text/plain": [
       "221.2758313353473"
      ]
     },
     "execution_count": 175,
     "metadata": {},
     "output_type": "execute_result"
    }
   ],
   "source": [
    "cv2= (sub_df[\"Profits\"].std()/sub_df[\"Profits\"].mean()) *100\n",
    "cv2"
   ]
  },
  {
   "cell_type": "code",
   "execution_count": 307,
   "metadata": {
    "colab": {
     "base_uri": "https://localhost:8080/",
     "height": 81
    },
    "id": "bs7YTlo49pfH",
    "outputId": "cbc0792d-1d24-4240-c3ff-498d6a167847"
   },
   "outputs": [
    {
     "data": {
      "text/html": [
       "<div>\n",
       "<style scoped>\n",
       "    .dataframe tbody tr th:only-of-type {\n",
       "        vertical-align: middle;\n",
       "    }\n",
       "\n",
       "    .dataframe tbody tr th {\n",
       "        vertical-align: top;\n",
       "    }\n",
       "\n",
       "    .dataframe thead th {\n",
       "        text-align: right;\n",
       "    }\n",
       "</style>\n",
       "<table border=\"1\" class=\"dataframe\">\n",
       "  <thead>\n",
       "    <tr style=\"text-align: right;\">\n",
       "      <th></th>\n",
       "      <th>Rank</th>\n",
       "      <th>Title</th>\n",
       "      <th>Employees</th>\n",
       "      <th>Sector</th>\n",
       "      <th>Revenues</th>\n",
       "      <th>Profits</th>\n",
       "    </tr>\n",
       "  </thead>\n",
       "  <tbody>\n",
       "    <tr>\n",
       "      <th>136</th>\n",
       "      <td>137</td>\n",
       "      <td>Whirlpool</td>\n",
       "      <td>93000</td>\n",
       "      <td>Industrials</td>\n",
       "      <td>20718</td>\n",
       "      <td>888.0</td>\n",
       "    </tr>\n",
       "    <tr>\n",
       "      <th>401</th>\n",
       "      <td>402</td>\n",
       "      <td>Targa Resources</td>\n",
       "      <td>1970</td>\n",
       "      <td>Energy</td>\n",
       "      <td>6691</td>\n",
       "      <td>-187.3</td>\n",
       "    </tr>\n",
       "    <tr>\n",
       "      <th>365</th>\n",
       "      <td>366</td>\n",
       "      <td>Quest Diagnostics</td>\n",
       "      <td>43000</td>\n",
       "      <td>Health Care</td>\n",
       "      <td>7515</td>\n",
       "      <td>645.0</td>\n",
       "    </tr>\n",
       "    <tr>\n",
       "      <th>485</th>\n",
       "      <td>486</td>\n",
       "      <td>Seaboard</td>\n",
       "      <td>11781</td>\n",
       "      <td>Food, Beverages &amp; Tobacco</td>\n",
       "      <td>5379</td>\n",
       "      <td>312.0</td>\n",
       "    </tr>\n",
       "    <tr>\n",
       "      <th>418</th>\n",
       "      <td>419</td>\n",
       "      <td>CMS Energy</td>\n",
       "      <td>7750</td>\n",
       "      <td>Energy</td>\n",
       "      <td>6399</td>\n",
       "      <td>551.0</td>\n",
       "    </tr>\n",
       "    <tr>\n",
       "      <th>8</th>\n",
       "      <td>9</td>\n",
       "      <td>AT&amp;T</td>\n",
       "      <td>268540</td>\n",
       "      <td>Telecommunications</td>\n",
       "      <td>163786</td>\n",
       "      <td>12976.0</td>\n",
       "    </tr>\n",
       "    <tr>\n",
       "      <th>466</th>\n",
       "      <td>467</td>\n",
       "      <td>Olin</td>\n",
       "      <td>6400</td>\n",
       "      <td>Chemicals</td>\n",
       "      <td>5551</td>\n",
       "      <td>-3.9</td>\n",
       "    </tr>\n",
       "    <tr>\n",
       "      <th>210</th>\n",
       "      <td>211</td>\n",
       "      <td>Ecolab</td>\n",
       "      <td>47565</td>\n",
       "      <td>Chemicals</td>\n",
       "      <td>13153</td>\n",
       "      <td>1229.6</td>\n",
       "    </tr>\n",
       "    <tr>\n",
       "      <th>146</th>\n",
       "      <td>147</td>\n",
       "      <td>Bristol-Myers Squibb</td>\n",
       "      <td>25000</td>\n",
       "      <td>Health Care</td>\n",
       "      <td>19427</td>\n",
       "      <td>4457.0</td>\n",
       "    </tr>\n",
       "    <tr>\n",
       "      <th>7</th>\n",
       "      <td>8</td>\n",
       "      <td>General Motors</td>\n",
       "      <td>225000</td>\n",
       "      <td>Motor Vehicles &amp; Parts</td>\n",
       "      <td>166380</td>\n",
       "      <td>9427.0</td>\n",
       "    </tr>\n",
       "  </tbody>\n",
       "</table>\n",
       "</div>"
      ],
      "text/plain": [
       "     Rank                 Title  Employees                     Sector  \\\n",
       "136   137             Whirlpool      93000                Industrials   \n",
       "401   402       Targa Resources       1970                     Energy   \n",
       "365   366     Quest Diagnostics      43000                Health Care   \n",
       "485   486              Seaboard      11781  Food, Beverages & Tobacco   \n",
       "418   419            CMS Energy       7750                     Energy   \n",
       "8       9                  AT&T     268540         Telecommunications   \n",
       "466   467                  Olin       6400                  Chemicals   \n",
       "210   211                Ecolab      47565                  Chemicals   \n",
       "146   147  Bristol-Myers Squibb      25000                Health Care   \n",
       "7       8        General Motors     225000     Motor Vehicles & Parts   \n",
       "\n",
       "     Revenues  Profits  \n",
       "136     20718    888.0  \n",
       "401      6691   -187.3  \n",
       "365      7515    645.0  \n",
       "485      5379    312.0  \n",
       "418      6399    551.0  \n",
       "8      163786  12976.0  \n",
       "466      5551     -3.9  \n",
       "210     13153   1229.6  \n",
       "146     19427   4457.0  \n",
       "7      166380   9427.0  "
      ]
     },
     "execution_count": 307,
     "metadata": {},
     "output_type": "execute_result"
    }
   ],
   "source": [
    "sub_df.sample(frac =0.020)            #sample means any randome data from the dataset to use instead of using whole data"
   ]
  },
  {
   "cell_type": "code",
   "execution_count": 315,
   "metadata": {
    "colab": {
     "base_uri": "https://localhost:8080/"
    },
    "id": "o5x2TQtTDTsV",
    "outputId": "18283e6f-f902-4b18-c250-f786564a6438"
   },
   "outputs": [
    {
     "name": "stdout",
     "output_type": "stream",
     "text": [
      "24044.977142857144\n"
     ]
    }
   ],
   "source": [
    "df_sample=sub_df.sample(frac =0.70, random_state =0)\n",
    "mean_2= df_sample[\"Revenues\"].mean()\n",
    "print(mean_2)"
   ]
  },
  {
   "cell_type": "code",
   "execution_count": 178,
   "metadata": {
    "id": "Jb-OH6fyDTp-"
   },
   "outputs": [],
   "source": [
    "Que1= \"\"\"Select 70 % random rows from the dataset and condider this as a sample. calculate mean \n",
    "of this sample with respect to profit column. repeat the process 5 times\n",
    "# Comute the difference between actual mean and each of the sample mean seperately,tabulate your observations.\"\"\""
   ]
  },
  {
   "cell_type": "code",
   "execution_count": 179,
   "metadata": {
    "colab": {
     "base_uri": "https://localhost:8080/",
     "height": 1000
    },
    "id": "cfoeuJAjrO-Z",
    "outputId": "a4e8a578-a027-4ba3-d7b5-148d8b542287"
   },
   "outputs": [
    {
     "data": {
      "text/html": [
       "<div>\n",
       "<style scoped>\n",
       "    .dataframe tbody tr th:only-of-type {\n",
       "        vertical-align: middle;\n",
       "    }\n",
       "\n",
       "    .dataframe tbody tr th {\n",
       "        vertical-align: top;\n",
       "    }\n",
       "\n",
       "    .dataframe thead th {\n",
       "        text-align: right;\n",
       "    }\n",
       "</style>\n",
       "<table border=\"1\" class=\"dataframe\">\n",
       "  <thead>\n",
       "    <tr style=\"text-align: right;\">\n",
       "      <th></th>\n",
       "      <th>Rank</th>\n",
       "      <th>Title</th>\n",
       "      <th>Employees</th>\n",
       "      <th>Sector</th>\n",
       "      <th>Revenues</th>\n",
       "      <th>Profits</th>\n",
       "    </tr>\n",
       "  </thead>\n",
       "  <tbody>\n",
       "    <tr>\n",
       "      <th>33</th>\n",
       "      <td>34</td>\n",
       "      <td>Phillips 66</td>\n",
       "      <td>14800</td>\n",
       "      <td>Energy</td>\n",
       "      <td>72396</td>\n",
       "      <td>1555.0</td>\n",
       "    </tr>\n",
       "    <tr>\n",
       "      <th>78</th>\n",
       "      <td>79</td>\n",
       "      <td>Energy Transfer Equity</td>\n",
       "      <td>30992</td>\n",
       "      <td>Energy</td>\n",
       "      <td>37504</td>\n",
       "      <td>995.0</td>\n",
       "    </tr>\n",
       "    <tr>\n",
       "      <th>21</th>\n",
       "      <td>22</td>\n",
       "      <td>Express Scripts Holding</td>\n",
       "      <td>25600</td>\n",
       "      <td>Health Care</td>\n",
       "      <td>100288</td>\n",
       "      <td>3404.4</td>\n",
       "    </tr>\n",
       "    <tr>\n",
       "      <th>249</th>\n",
       "      <td>250</td>\n",
       "      <td>Stanley Black &amp; Decker</td>\n",
       "      <td>54023</td>\n",
       "      <td>Household Products</td>\n",
       "      <td>11407</td>\n",
       "      <td>965.3</td>\n",
       "    </tr>\n",
       "    <tr>\n",
       "      <th>422</th>\n",
       "      <td>423</td>\n",
       "      <td>Caseyâ€™s General Stores</td>\n",
       "      <td>24724</td>\n",
       "      <td>Retailing</td>\n",
       "      <td>6304</td>\n",
       "      <td>226.0</td>\n",
       "    </tr>\n",
       "    <tr>\n",
       "      <th>116</th>\n",
       "      <td>117</td>\n",
       "      <td>Tesoro</td>\n",
       "      <td>6308</td>\n",
       "      <td>Energy</td>\n",
       "      <td>24005</td>\n",
       "      <td>734.0</td>\n",
       "    </tr>\n",
       "    <tr>\n",
       "      <th>405</th>\n",
       "      <td>406</td>\n",
       "      <td>Activision Blizzard</td>\n",
       "      <td>9500</td>\n",
       "      <td>Technology</td>\n",
       "      <td>6608</td>\n",
       "      <td>966.0</td>\n",
       "    </tr>\n",
       "    <tr>\n",
       "      <th>224</th>\n",
       "      <td>225</td>\n",
       "      <td>Becton Dickinson</td>\n",
       "      <td>50928</td>\n",
       "      <td>Health Care</td>\n",
       "      <td>12483</td>\n",
       "      <td>976.0</td>\n",
       "    </tr>\n",
       "    <tr>\n",
       "      <th>455</th>\n",
       "      <td>456</td>\n",
       "      <td>Ingredion</td>\n",
       "      <td>11000</td>\n",
       "      <td>Food, Beverages &amp; Tobacco</td>\n",
       "      <td>5704</td>\n",
       "      <td>484.9</td>\n",
       "    </tr>\n",
       "    <tr>\n",
       "      <th>38</th>\n",
       "      <td>39</td>\n",
       "      <td>Freddie Mac</td>\n",
       "      <td>5982</td>\n",
       "      <td>Financials</td>\n",
       "      <td>65665</td>\n",
       "      <td>7815.0</td>\n",
       "    </tr>\n",
       "    <tr>\n",
       "      <th>98</th>\n",
       "      <td>99</td>\n",
       "      <td>Travelers Cos.</td>\n",
       "      <td>30900</td>\n",
       "      <td>Financials</td>\n",
       "      <td>27625</td>\n",
       "      <td>3014.0</td>\n",
       "    </tr>\n",
       "    <tr>\n",
       "      <th>318</th>\n",
       "      <td>319</td>\n",
       "      <td>Avis Budget Group</td>\n",
       "      <td>25600</td>\n",
       "      <td>Retailing</td>\n",
       "      <td>8659</td>\n",
       "      <td>163.0</td>\n",
       "    </tr>\n",
       "    <tr>\n",
       "      <th>473</th>\n",
       "      <td>474</td>\n",
       "      <td>Mattel</td>\n",
       "      <td>32000</td>\n",
       "      <td>Household Products</td>\n",
       "      <td>5457</td>\n",
       "      <td>318.0</td>\n",
       "    </tr>\n",
       "    <tr>\n",
       "      <th>458</th>\n",
       "      <td>459</td>\n",
       "      <td>S&amp;P Global</td>\n",
       "      <td>20000</td>\n",
       "      <td>Business Services</td>\n",
       "      <td>5661</td>\n",
       "      <td>2106.0</td>\n",
       "    </tr>\n",
       "    <tr>\n",
       "      <th>135</th>\n",
       "      <td>136</td>\n",
       "      <td>Dollar Tree</td>\n",
       "      <td>116050</td>\n",
       "      <td>Retailing</td>\n",
       "      <td>20719</td>\n",
       "      <td>896.2</td>\n",
       "    </tr>\n",
       "    <tr>\n",
       "      <th>394</th>\n",
       "      <td>395</td>\n",
       "      <td>A-Mark Precious Metals</td>\n",
       "      <td>83</td>\n",
       "      <td>Materials</td>\n",
       "      <td>6784</td>\n",
       "      <td>9.3</td>\n",
       "    </tr>\n",
       "    <tr>\n",
       "      <th>70</th>\n",
       "      <td>71</td>\n",
       "      <td>Delta Air Lines</td>\n",
       "      <td>83756</td>\n",
       "      <td>Transportation</td>\n",
       "      <td>39639</td>\n",
       "      <td>4373.0</td>\n",
       "    </tr>\n",
       "    <tr>\n",
       "      <th>282</th>\n",
       "      <td>283</td>\n",
       "      <td>Autoliv</td>\n",
       "      <td>65900</td>\n",
       "      <td>Motor Vehicles &amp; Parts</td>\n",
       "      <td>10074</td>\n",
       "      <td>567.1</td>\n",
       "    </tr>\n",
       "    <tr>\n",
       "      <th>265</th>\n",
       "      <td>266</td>\n",
       "      <td>Voya Financial</td>\n",
       "      <td>6700</td>\n",
       "      <td>Financials</td>\n",
       "      <td>10782</td>\n",
       "      <td>-428.0</td>\n",
       "    </tr>\n",
       "    <tr>\n",
       "      <th>206</th>\n",
       "      <td>207</td>\n",
       "      <td>Lincoln National</td>\n",
       "      <td>9057</td>\n",
       "      <td>Financials</td>\n",
       "      <td>13330</td>\n",
       "      <td>1192.0</td>\n",
       "    </tr>\n",
       "    <tr>\n",
       "      <th>24</th>\n",
       "      <td>25</td>\n",
       "      <td>Wells Fargo</td>\n",
       "      <td>269100</td>\n",
       "      <td>Financials</td>\n",
       "      <td>94176</td>\n",
       "      <td>21938.0</td>\n",
       "    </tr>\n",
       "    <tr>\n",
       "      <th>278</th>\n",
       "      <td>279</td>\n",
       "      <td>United States Steel</td>\n",
       "      <td>29800</td>\n",
       "      <td>Materials</td>\n",
       "      <td>10261</td>\n",
       "      <td>-440.0</td>\n",
       "    </tr>\n",
       "    <tr>\n",
       "      <th>367</th>\n",
       "      <td>368</td>\n",
       "      <td>WEC Energy Group</td>\n",
       "      <td>8074</td>\n",
       "      <td>Energy</td>\n",
       "      <td>7472</td>\n",
       "      <td>939.0</td>\n",
       "    </tr>\n",
       "    <tr>\n",
       "      <th>346</th>\n",
       "      <td>347</td>\n",
       "      <td>Steel Dynamics</td>\n",
       "      <td>7695</td>\n",
       "      <td>Materials</td>\n",
       "      <td>7777</td>\n",
       "      <td>382.1</td>\n",
       "    </tr>\n",
       "    <tr>\n",
       "      <th>65</th>\n",
       "      <td>66</td>\n",
       "      <td>Centene</td>\n",
       "      <td>30500</td>\n",
       "      <td>Health Care</td>\n",
       "      <td>40721</td>\n",
       "      <td>562.0</td>\n",
       "    </tr>\n",
       "    <tr>\n",
       "      <th>491</th>\n",
       "      <td>492</td>\n",
       "      <td>Rockwell Collins</td>\n",
       "      <td>19000</td>\n",
       "      <td>Aerospace &amp; Defense</td>\n",
       "      <td>5259</td>\n",
       "      <td>728.0</td>\n",
       "    </tr>\n",
       "    <tr>\n",
       "      <th>439</th>\n",
       "      <td>440</td>\n",
       "      <td>Lam Research</td>\n",
       "      <td>7500</td>\n",
       "      <td>Technology</td>\n",
       "      <td>5886</td>\n",
       "      <td>914.0</td>\n",
       "    </tr>\n",
       "    <tr>\n",
       "      <th>310</th>\n",
       "      <td>311</td>\n",
       "      <td>Mohawk Industries</td>\n",
       "      <td>37800</td>\n",
       "      <td>Household Products</td>\n",
       "      <td>8959</td>\n",
       "      <td>930.4</td>\n",
       "    </tr>\n",
       "    <tr>\n",
       "      <th>395</th>\n",
       "      <td>396</td>\n",
       "      <td>Tractor Supply</td>\n",
       "      <td>19500</td>\n",
       "      <td>Retailing</td>\n",
       "      <td>6780</td>\n",
       "      <td>437.1</td>\n",
       "    </tr>\n",
       "    <tr>\n",
       "      <th>55</th>\n",
       "      <td>56</td>\n",
       "      <td>Lockheed Martin</td>\n",
       "      <td>97000</td>\n",
       "      <td>Aerospace &amp; Defense</td>\n",
       "      <td>50658</td>\n",
       "      <td>5302.0</td>\n",
       "    </tr>\n",
       "    <tr>\n",
       "      <th>266</th>\n",
       "      <td>267</td>\n",
       "      <td>Mastercard</td>\n",
       "      <td>11900</td>\n",
       "      <td>Business Services</td>\n",
       "      <td>10776</td>\n",
       "      <td>4059.0</td>\n",
       "    </tr>\n",
       "    <tr>\n",
       "      <th>158</th>\n",
       "      <td>159</td>\n",
       "      <td>Cummins</td>\n",
       "      <td>55400</td>\n",
       "      <td>Industrials</td>\n",
       "      <td>17509</td>\n",
       "      <td>1394.0</td>\n",
       "    </tr>\n",
       "    <tr>\n",
       "      <th>126</th>\n",
       "      <td>127</td>\n",
       "      <td>Sears Holdings</td>\n",
       "      <td>140000</td>\n",
       "      <td>Retailing</td>\n",
       "      <td>22138</td>\n",
       "      <td>-2221.0</td>\n",
       "    </tr>\n",
       "    <tr>\n",
       "      <th>43</th>\n",
       "      <td>44</td>\n",
       "      <td>PepsiCo</td>\n",
       "      <td>264000</td>\n",
       "      <td>Food, Beverages &amp; Tobacco</td>\n",
       "      <td>62799</td>\n",
       "      <td>6329.0</td>\n",
       "    </tr>\n",
       "    <tr>\n",
       "      <th>448</th>\n",
       "      <td>449</td>\n",
       "      <td>American Tower</td>\n",
       "      <td>4507</td>\n",
       "      <td>Telecommunications</td>\n",
       "      <td>5786</td>\n",
       "      <td>956.4</td>\n",
       "    </tr>\n",
       "  </tbody>\n",
       "</table>\n",
       "</div>"
      ],
      "text/plain": [
       "     Rank                     Title  Employees                     Sector  \\\n",
       "33     34               Phillips 66      14800                     Energy   \n",
       "78     79    Energy Transfer Equity      30992                     Energy   \n",
       "21     22   Express Scripts Holding      25600                Health Care   \n",
       "249   250    Stanley Black & Decker      54023         Household Products   \n",
       "422   423  Caseyâ€™s General Stores      24724                  Retailing   \n",
       "116   117                    Tesoro       6308                     Energy   \n",
       "405   406       Activision Blizzard       9500                 Technology   \n",
       "224   225          Becton Dickinson      50928                Health Care   \n",
       "455   456                 Ingredion      11000  Food, Beverages & Tobacco   \n",
       "38     39               Freddie Mac       5982                 Financials   \n",
       "98     99            Travelers Cos.      30900                 Financials   \n",
       "318   319         Avis Budget Group      25600                  Retailing   \n",
       "473   474                    Mattel      32000         Household Products   \n",
       "458   459                S&P Global      20000          Business Services   \n",
       "135   136               Dollar Tree     116050                  Retailing   \n",
       "394   395    A-Mark Precious Metals         83                  Materials   \n",
       "70     71           Delta Air Lines      83756             Transportation   \n",
       "282   283                   Autoliv      65900     Motor Vehicles & Parts   \n",
       "265   266            Voya Financial       6700                 Financials   \n",
       "206   207          Lincoln National       9057                 Financials   \n",
       "24     25               Wells Fargo     269100                 Financials   \n",
       "278   279       United States Steel      29800                  Materials   \n",
       "367   368          WEC Energy Group       8074                     Energy   \n",
       "346   347            Steel Dynamics       7695                  Materials   \n",
       "65     66                   Centene      30500                Health Care   \n",
       "491   492          Rockwell Collins      19000        Aerospace & Defense   \n",
       "439   440              Lam Research       7500                 Technology   \n",
       "310   311         Mohawk Industries      37800         Household Products   \n",
       "395   396            Tractor Supply      19500                  Retailing   \n",
       "55     56           Lockheed Martin      97000        Aerospace & Defense   \n",
       "266   267                Mastercard      11900          Business Services   \n",
       "158   159                   Cummins      55400                Industrials   \n",
       "126   127            Sears Holdings     140000                  Retailing   \n",
       "43     44                   PepsiCo     264000  Food, Beverages & Tobacco   \n",
       "448   449            American Tower       4507         Telecommunications   \n",
       "\n",
       "     Revenues  Profits  \n",
       "33      72396   1555.0  \n",
       "78      37504    995.0  \n",
       "21     100288   3404.4  \n",
       "249     11407    965.3  \n",
       "422      6304    226.0  \n",
       "116     24005    734.0  \n",
       "405      6608    966.0  \n",
       "224     12483    976.0  \n",
       "455      5704    484.9  \n",
       "38      65665   7815.0  \n",
       "98      27625   3014.0  \n",
       "318      8659    163.0  \n",
       "473      5457    318.0  \n",
       "458      5661   2106.0  \n",
       "135     20719    896.2  \n",
       "394      6784      9.3  \n",
       "70      39639   4373.0  \n",
       "282     10074    567.1  \n",
       "265     10782   -428.0  \n",
       "206     13330   1192.0  \n",
       "24      94176  21938.0  \n",
       "278     10261   -440.0  \n",
       "367      7472    939.0  \n",
       "346      7777    382.1  \n",
       "65      40721    562.0  \n",
       "491      5259    728.0  \n",
       "439      5886    914.0  \n",
       "310      8959    930.4  \n",
       "395      6780    437.1  \n",
       "55      50658   5302.0  \n",
       "266     10776   4059.0  \n",
       "158     17509   1394.0  \n",
       "126     22138  -2221.0  \n",
       "43      62799   6329.0  \n",
       "448      5786    956.4  "
      ]
     },
     "execution_count": 179,
     "metadata": {},
     "output_type": "execute_result"
    }
   ],
   "source": [
    " sub_df.sample(frac =0.070)"
   ]
  },
  {
   "cell_type": "code",
   "execution_count": 180,
   "metadata": {
    "colab": {
     "base_uri": "https://localhost:8080/"
    },
    "id": "q_e1YBoUu3XG",
    "outputId": "c3f7ba15-7a9e-477a-e890-1a8d0d79d74f"
   },
   "outputs": [
    {
     "data": {
      "text/plain": [
       "1779.4797999999998"
      ]
     },
     "execution_count": 180,
     "metadata": {},
     "output_type": "execute_result"
    }
   ],
   "source": [
    "mean_profit= sub_df[\"Profits\"].mean()\n",
    "mean_profit"
   ]
  },
  {
   "cell_type": "code",
   "execution_count": 321,
   "metadata": {
    "colab": {
     "base_uri": "https://localhost:8080/"
    },
    "id": "H6_NqmIQrO5F",
    "outputId": "ae66a465-3e8a-4244-c885-19ec7f21ad39"
   },
   "outputs": [
    {
     "name": "stdout",
     "output_type": "stream",
     "text": [
      "1240.4000000000003\n"
     ]
    }
   ],
   "source": [
    "sam1=  sub_df.sample(frac =0.070 ,random_state=0)\n",
    "mean_pro2= sam1[\"Profits\"].mean()\n",
    "print(mean_pro2)"
   ]
  },
  {
   "cell_type": "code",
   "execution_count": 323,
   "metadata": {
    "colab": {
     "base_uri": "https://localhost:8080/"
    },
    "id": "VU3NBRYurO29",
    "outputId": "c91f3982-d889-4944-ca2d-af4de1cf62b8"
   },
   "outputs": [
    {
     "name": "stdout",
     "output_type": "stream",
     "text": [
      "1527.8828571428571\n"
     ]
    }
   ],
   "source": [
    " df_sam3= sub_df.sample(frac =0.070,random_state=1)\n",
    " mean_pro3= df_sam3[\"Profits\"].mean()\n",
    " print(mean_pro3)"
   ]
  },
  {
   "cell_type": "code",
   "execution_count": 325,
   "metadata": {
    "colab": {
     "base_uri": "https://localhost:8080/"
    },
    "id": "72X4YZk9rOyg",
    "outputId": "300cc18e-e032-4f24-b3ae-80ae974adbdd"
   },
   "outputs": [
    {
     "name": "stdout",
     "output_type": "stream",
     "text": [
      "1934.008571428571\n"
     ]
    }
   ],
   "source": [
    " df_sam4= sub_df.sample(frac =0.070,random_state=2)\n",
    " mean_pro4= df_sam4[\"Profits\"].mean()\n",
    " print(mean_pro4)"
   ]
  },
  {
   "cell_type": "code",
   "execution_count": 327,
   "metadata": {
    "colab": {
     "base_uri": "https://localhost:8080/"
    },
    "id": "dHytBsexrOvz",
    "outputId": "814c2e59-08bb-4bac-a253-45f560351cd2"
   },
   "outputs": [
    {
     "name": "stdout",
     "output_type": "stream",
     "text": [
      "1462.6142857142856\n"
     ]
    }
   ],
   "source": [
    " df_sam5= sub_df.sample(frac =0.070,random_state=3)\n",
    " mean_pro5= df_sam5[\"Profits\"].mean()\n",
    " print(mean_pro5)"
   ]
  },
  {
   "cell_type": "code",
   "execution_count": 331,
   "metadata": {
    "colab": {
     "base_uri": "https://localhost:8080/"
    },
    "id": "MbC21-2vvgUg",
    "outputId": "de71091c-4d7b-4ffa-8594-6e7f749be79d"
   },
   "outputs": [
    {
     "name": "stdout",
     "output_type": "stream",
     "text": [
      "2303.3800000000006\n"
     ]
    }
   ],
   "source": [
    " df_sam6= sub_df.sample(frac =0.070,random_state=4)\n",
    " mean_pro6= df_sam6[\"Profits\"].mean()\n",
    " print(mean_pro6)"
   ]
  },
  {
   "cell_type": "code",
   "execution_count": 333,
   "metadata": {
    "colab": {
     "base_uri": "https://localhost:8080/"
    },
    "id": "igzW_iUNwAV-",
    "outputId": "4fddc1bd-e5fd-4f68-d484-ccc815d9abc6"
   },
   "outputs": [
    {
     "name": "stdout",
     "output_type": "stream",
     "text": [
      "539.0797999999995\n"
     ]
    }
   ],
   "source": [
    "diff_1 =(mean_profit - mean_pro2)\n",
    "print(diff_1)"
   ]
  },
  {
   "cell_type": "code",
   "execution_count": 335,
   "metadata": {
    "colab": {
     "base_uri": "https://localhost:8080/"
    },
    "id": "VYIJUGHJwAMy",
    "outputId": "4f0cbc86-a9ca-4dc8-b088-9567695b64be"
   },
   "outputs": [
    {
     "name": "stdout",
     "output_type": "stream",
     "text": [
      "251.59694285714272\n"
     ]
    }
   ],
   "source": [
    "diff_2 =(mean_profit - mean_pro3)\n",
    "print(diff_2)"
   ]
  },
  {
   "cell_type": "code",
   "execution_count": 337,
   "metadata": {
    "colab": {
     "base_uri": "https://localhost:8080/"
    },
    "id": "vU3NmzlWy4EC",
    "outputId": "0ae7b0d7-caf7-4418-d371-35e8dfcbfc83"
   },
   "outputs": [
    {
     "name": "stdout",
     "output_type": "stream",
     "text": [
      "-154.5287714285712\n"
     ]
    }
   ],
   "source": [
    "diff_3 =(mean_profit - mean_pro4)\n",
    "print(diff_3)"
   ]
  },
  {
   "cell_type": "code",
   "execution_count": 339,
   "metadata": {
    "colab": {
     "base_uri": "https://localhost:8080/"
    },
    "id": "eGQFqLE3y4Bk",
    "outputId": "d545fed4-bcf2-4321-f235-f3c5ccc3182a"
   },
   "outputs": [
    {
     "name": "stdout",
     "output_type": "stream",
     "text": [
      "316.8655142857142\n"
     ]
    }
   ],
   "source": [
    "diff_4 =(mean_profit - mean_pro5)\n",
    "print(diff_4)"
   ]
  },
  {
   "cell_type": "code",
   "execution_count": 341,
   "metadata": {
    "colab": {
     "base_uri": "https://localhost:8080/"
    },
    "id": "YO7haEM6y373",
    "outputId": "e3a49423-1ed0-474d-cd07-ba36cfd7ec9e"
   },
   "outputs": [
    {
     "name": "stdout",
     "output_type": "stream",
     "text": [
      "-523.9002000000007\n"
     ]
    }
   ],
   "source": [
    "diff_5 =(mean_profit - mean_pro6)\n",
    "print(diff_5)"
   ]
  },
  {
   "cell_type": "code",
   "execution_count": 191,
   "metadata": {},
   "outputs": [],
   "source": [
    "#Outliers"
   ]
  },
  {
   "cell_type": "code",
   "execution_count": 192,
   "metadata": {
    "colab": {
     "base_uri": "https://localhost:8080/"
    },
    "id": "kFl9k536DvRE",
    "outputId": "0f1a1c56-4a89-4033-ea42-5ab107ef59f4"
   },
   "outputs": [
    {
     "data": {
      "text/plain": [
       "15360.25"
      ]
     },
     "execution_count": 192,
     "metadata": {},
     "output_type": "execute_result"
    }
   ],
   "source": [
    "iqr_new= sub_df[\"Revenues\"].quantile(0.75)-sub_df[\"Revenues\"].quantile(0.25)\n",
    "iqr_new"
   ]
  },
  {
   "cell_type": "code",
   "execution_count": 193,
   "metadata": {
    "colab": {
     "base_uri": "https://localhost:8080/"
    },
    "id": "JfzzX3XCDvOW",
    "outputId": "607ac60b-b9fc-44d4-b585-64a3d3b7ec71"
   },
   "outputs": [
    {
     "data": {
      "text/plain": [
       "45645.625"
      ]
     },
     "execution_count": 193,
     "metadata": {},
     "output_type": "execute_result"
    }
   ],
   "source": [
    "upper_limit= sub_df[\"Revenues\"].quantile(0.75)+1.5*iqr_new\n",
    "upper_limit"
   ]
  },
  {
   "cell_type": "code",
   "execution_count": 194,
   "metadata": {
    "colab": {
     "base_uri": "https://localhost:8080/"
    },
    "id": "aWTZ_tO_DvFM",
    "outputId": "8a4f0415-5ba0-41d7-a592-334afa0ef771"
   },
   "outputs": [
    {
     "data": {
      "text/plain": [
       "-15795.375"
      ]
     },
     "execution_count": 194,
     "metadata": {},
     "output_type": "execute_result"
    }
   ],
   "source": [
    "lower_limit=sub_df[\"Revenues\"].quantile(0.25)-1.5*iqr_new\n",
    "lower_limit"
   ]
  },
  {
   "cell_type": "code",
   "execution_count": 195,
   "metadata": {
    "colab": {
     "base_uri": "https://localhost:8080/"
    },
    "id": "SI1Td9V6DvCv",
    "outputId": "f14760b0-e115-4854-9a6d-26f1743833ec"
   },
   "outputs": [
    {
     "name": "stdout",
     "output_type": "stream",
     "text": [
      "Outliers Rows\n",
      "    Rank                       Title  Employees          Sector  Revenues  \\\n",
      "0      1                     Walmart    2300000       Retailing    485873   \n",
      "1      2          Berkshire Hathaway     367700      Financials    223604   \n",
      "2      3                       Apple     116000      Technology    215639   \n",
      "3      4                 Exxon Mobil      72700          Energy    205004   \n",
      "4      5                    McKesson      68000     Wholesalers    192487   \n",
      "..   ...                         ...        ...             ...       ...   \n",
      "57    58                       FedEx     335767  Transportation     50365   \n",
      "58    59  Hewlett Packard Enterprise     195000      Technology     50123   \n",
      "59    60               Cisco Systems      73700      Technology     49247   \n",
      "60    61                          HP      49000      Technology     48238   \n",
      "61    62                Dow Chemical      56000       Chemicals     48158   \n",
      "\n",
      "    Profits  \n",
      "0   13643.0  \n",
      "1   24074.0  \n",
      "2   45687.0  \n",
      "3    7840.0  \n",
      "4    2258.0  \n",
      "..      ...  \n",
      "57   1820.0  \n",
      "58   3161.0  \n",
      "59  10739.0  \n",
      "60   2496.0  \n",
      "61   4318.0  \n",
      "\n",
      "[62 rows x 6 columns]\n"
     ]
    }
   ],
   "source": [
    "### outliers are those values which reside outside of the lower and upper limits boundries\n",
    "outliers = sub_df[(sub_df['Revenues']>upper_limit) |\n",
    "                  (sub_df['Revenues']<lower_limit)]\n",
    "print(\"Outliers Rows\")\n",
    "print(outliers)"
   ]
  },
  {
   "cell_type": "code",
   "execution_count": 196,
   "metadata": {
    "colab": {
     "base_uri": "https://localhost:8080/"
    },
    "id": "-0mA92YMDu7s",
    "outputId": "8af8cb4b-7485-48fc-9a9a-0031cf5e7253"
   },
   "outputs": [
    {
     "data": {
      "text/plain": [
       "1535.0500000000002"
      ]
     },
     "execution_count": 196,
     "metadata": {},
     "output_type": "execute_result"
    }
   ],
   "source": [
    "iqr_new2= sub_df[\"Profits\"].quantile(0.75)-sub_df[\"Profits\"].quantile(0.25)\n",
    "iqr_new2"
   ]
  },
  {
   "cell_type": "code",
   "execution_count": 197,
   "metadata": {
    "colab": {
     "base_uri": "https://localhost:8080/"
    },
    "id": "v7YIsICNL1bY",
    "outputId": "125d0442-f804-49f0-df34-7b9b47ef156e"
   },
   "outputs": [
    {
     "data": {
      "text/plain": [
       "4073.3500000000004"
      ]
     },
     "execution_count": 197,
     "metadata": {},
     "output_type": "execute_result"
    }
   ],
   "source": [
    "upper_limit2= sub_df[\"Profits\"].quantile(0.75)+1.5*iqr_new2\n",
    "upper_limit2"
   ]
  },
  {
   "cell_type": "code",
   "execution_count": 198,
   "metadata": {
    "colab": {
     "base_uri": "https://localhost:8080/"
    },
    "id": "sD8c0uQZL1Y3",
    "outputId": "41490f2b-7650-4012-d9df-bca9453d031d"
   },
   "outputs": [
    {
     "data": {
      "text/plain": [
       "-2066.8500000000004"
      ]
     },
     "execution_count": 198,
     "metadata": {},
     "output_type": "execute_result"
    }
   ],
   "source": [
    "lower_limit2=sub_df[\"Profits\"].quantile(0.25)-1.5*iqr_new2\n",
    "lower_limit2"
   ]
  },
  {
   "cell_type": "code",
   "execution_count": 199,
   "metadata": {
    "colab": {
     "base_uri": "https://localhost:8080/"
    },
    "id": "tLVHFLrhL1Wh",
    "outputId": "048817f6-13fe-4968-e06d-42ac1b6f8a7c"
   },
   "outputs": [
    {
     "name": "stdout",
     "output_type": "stream",
     "text": [
      "Outliers Rows\n",
      "     Rank                   Title  Employees       Sector  Revenues  Profits\n",
      "0       1                 Walmart    2300000    Retailing    485873  13643.0\n",
      "1       2      Berkshire Hathaway     367700   Financials    223604  24074.0\n",
      "2       3                   Apple     116000   Technology    215639  45687.0\n",
      "3       4             Exxon Mobil      72700       Energy    205004   7840.0\n",
      "5       6      UnitedHealth Group     230000  Health Care    184840   7017.0\n",
      "..    ...                     ...        ...          ...       ...      ...\n",
      "284   285            Baker Hughes      33000       Energy      9841  -2738.0\n",
      "309   310                    eBay      12600   Technology      8979   7266.0\n",
      "342   343       Chesapeake Energy       3300       Energy      7872  -4401.0\n",
      "343   344      Anadarko Petroleum       4500       Energy      7869  -3071.0\n",
      "374   375  National Oilwell Varco      36384       Energy      7251  -2412.0\n",
      "\n",
      "[68 rows x 6 columns]\n"
     ]
    }
   ],
   "source": [
    "outliers2 = sub_df[(sub_df['Profits']>upper_limit2) |\n",
    "                  (sub_df['Profits']<lower_limit2)]\n",
    "print(\"Outliers Rows\")\n",
    "print(outliers2)"
   ]
  },
  {
   "cell_type": "markdown",
   "metadata": {
    "id": "pBemeGIzLbxa"
   },
   "source": [
    "# **Karl pearson(r)&Spearman(R)**"
   ]
  },
  {
   "cell_type": "code",
   "execution_count": 201,
   "metadata": {
    "id": "NU1TLK-AL1Rz"
   },
   "outputs": [],
   "source": [
    "data={\n",
    "    \"height\":[150,160,165,170,175,180,185],\n",
    "    \"weight\":[50,55,60,65,70,75,80]\n",
    "}\n",
    "df=pd.DataFrame(data)"
   ]
  },
  {
   "cell_type": "code",
   "execution_count": 202,
   "metadata": {
    "colab": {
     "base_uri": "https://localhost:8080/",
     "height": 206
    },
    "id": "dJ-8DQVMEyi0",
    "outputId": "fa6740cc-065e-4fdc-b666-7716a1e93b1b"
   },
   "outputs": [
    {
     "data": {
      "text/html": [
       "<div>\n",
       "<style scoped>\n",
       "    .dataframe tbody tr th:only-of-type {\n",
       "        vertical-align: middle;\n",
       "    }\n",
       "\n",
       "    .dataframe tbody tr th {\n",
       "        vertical-align: top;\n",
       "    }\n",
       "\n",
       "    .dataframe thead th {\n",
       "        text-align: right;\n",
       "    }\n",
       "</style>\n",
       "<table border=\"1\" class=\"dataframe\">\n",
       "  <thead>\n",
       "    <tr style=\"text-align: right;\">\n",
       "      <th></th>\n",
       "      <th>height</th>\n",
       "      <th>weight</th>\n",
       "    </tr>\n",
       "  </thead>\n",
       "  <tbody>\n",
       "    <tr>\n",
       "      <th>0</th>\n",
       "      <td>150</td>\n",
       "      <td>50</td>\n",
       "    </tr>\n",
       "    <tr>\n",
       "      <th>1</th>\n",
       "      <td>160</td>\n",
       "      <td>55</td>\n",
       "    </tr>\n",
       "    <tr>\n",
       "      <th>2</th>\n",
       "      <td>165</td>\n",
       "      <td>60</td>\n",
       "    </tr>\n",
       "    <tr>\n",
       "      <th>3</th>\n",
       "      <td>170</td>\n",
       "      <td>65</td>\n",
       "    </tr>\n",
       "    <tr>\n",
       "      <th>4</th>\n",
       "      <td>175</td>\n",
       "      <td>70</td>\n",
       "    </tr>\n",
       "  </tbody>\n",
       "</table>\n",
       "</div>"
      ],
      "text/plain": [
       "   height  weight\n",
       "0     150      50\n",
       "1     160      55\n",
       "2     165      60\n",
       "3     170      65\n",
       "4     175      70"
      ]
     },
     "execution_count": 202,
     "metadata": {},
     "output_type": "execute_result"
    }
   ],
   "source": [
    "df.head()"
   ]
  },
  {
   "cell_type": "code",
   "execution_count": 203,
   "metadata": {
    "colab": {
     "base_uri": "https://localhost:8080/"
    },
    "id": "alR-OMztEyeu",
    "outputId": "ec57f751-9517-40bd-9afa-38f2168070b6"
   },
   "outputs": [
    {
     "name": "stdout",
     "output_type": "stream",
     "text": [
      "0.9922858194799439\n"
     ]
    }
   ],
   "source": [
    "correlation=df[\"height\"].corr(df[\"weight\"])\n",
    "print(correlation)                                        #IN CORRELATION IT BY DEFAULT TAKE KALESPEARSON METHOD"
   ]
  },
  {
   "cell_type": "code",
   "execution_count": 204,
   "metadata": {
    "colab": {
     "base_uri": "https://localhost:8080/"
    },
    "id": "1wGvZXZZEyU7",
    "outputId": "f07c8f0c-2df5-49a8-8693-d57ba1987ac0"
   },
   "outputs": [
    {
     "name": "stdout",
     "output_type": "stream",
     "text": [
      "1.0\n"
     ]
    }
   ],
   "source": [
    "correlation=df[\"height\"].corr(df[\"weight\"],method=\"spearman\")\n",
    "print(correlation)         #for using spearman function we have to write method=spearman so the system will get that we want to use spearman formula"
   ]
  },
  {
   "cell_type": "markdown",
   "metadata": {
    "id": "ZHFCtpcssoOr"
   },
   "source": [
    "Find spearman(R)data"
   ]
  },
  {
   "cell_type": "code",
   "execution_count": 206,
   "metadata": {
    "colab": {
     "base_uri": "https://localhost:8080/",
     "height": 206
    },
    "id": "2l_eFR6CL1PV",
    "outputId": "28b19186-4a2e-4de0-aa21-2134b2f65acd"
   },
   "outputs": [
    {
     "data": {
      "text/html": [
       "<div>\n",
       "<style scoped>\n",
       "    .dataframe tbody tr th:only-of-type {\n",
       "        vertical-align: middle;\n",
       "    }\n",
       "\n",
       "    .dataframe tbody tr th {\n",
       "        vertical-align: top;\n",
       "    }\n",
       "\n",
       "    .dataframe thead th {\n",
       "        text-align: right;\n",
       "    }\n",
       "</style>\n",
       "<table border=\"1\" class=\"dataframe\">\n",
       "  <thead>\n",
       "    <tr style=\"text-align: right;\">\n",
       "      <th></th>\n",
       "      <th>height</th>\n",
       "      <th>weight</th>\n",
       "      <th>rank1</th>\n",
       "      <th>rank2</th>\n",
       "    </tr>\n",
       "  </thead>\n",
       "  <tbody>\n",
       "    <tr>\n",
       "      <th>0</th>\n",
       "      <td>150</td>\n",
       "      <td>50</td>\n",
       "      <td>1.0</td>\n",
       "      <td>1.0</td>\n",
       "    </tr>\n",
       "    <tr>\n",
       "      <th>1</th>\n",
       "      <td>160</td>\n",
       "      <td>55</td>\n",
       "      <td>2.0</td>\n",
       "      <td>2.0</td>\n",
       "    </tr>\n",
       "    <tr>\n",
       "      <th>2</th>\n",
       "      <td>165</td>\n",
       "      <td>60</td>\n",
       "      <td>3.0</td>\n",
       "      <td>3.0</td>\n",
       "    </tr>\n",
       "    <tr>\n",
       "      <th>3</th>\n",
       "      <td>170</td>\n",
       "      <td>65</td>\n",
       "      <td>4.0</td>\n",
       "      <td>4.0</td>\n",
       "    </tr>\n",
       "    <tr>\n",
       "      <th>4</th>\n",
       "      <td>175</td>\n",
       "      <td>70</td>\n",
       "      <td>5.0</td>\n",
       "      <td>5.0</td>\n",
       "    </tr>\n",
       "  </tbody>\n",
       "</table>\n",
       "</div>"
      ],
      "text/plain": [
       "   height  weight  rank1  rank2\n",
       "0     150      50    1.0    1.0\n",
       "1     160      55    2.0    2.0\n",
       "2     165      60    3.0    3.0\n",
       "3     170      65    4.0    4.0\n",
       "4     175      70    5.0    5.0"
      ]
     },
     "execution_count": 206,
     "metadata": {},
     "output_type": "execute_result"
    }
   ],
   "source": [
    "df[\"rank1\"]= df[\"height\"].rank()    #(r1-r2)\n",
    "df[\"rank2\"]= df[\"weight\"].rank()\n",
    "df.head()"
   ]
  },
  {
   "cell_type": "code",
   "execution_count": 207,
   "metadata": {
    "id": "c7aNyIx5EyKD"
   },
   "outputs": [],
   "source": [
    "df[\"D\"]=df[\"rank1\"]-df[\"rank2\"]"
   ]
  },
  {
   "cell_type": "code",
   "execution_count": 208,
   "metadata": {
    "colab": {
     "base_uri": "https://localhost:8080/",
     "height": 206
    },
    "id": "pfb0-0z7s5WC",
    "outputId": "2a32e571-55fc-4a45-d0bb-e2457f36fb7a"
   },
   "outputs": [
    {
     "data": {
      "text/html": [
       "<div>\n",
       "<style scoped>\n",
       "    .dataframe tbody tr th:only-of-type {\n",
       "        vertical-align: middle;\n",
       "    }\n",
       "\n",
       "    .dataframe tbody tr th {\n",
       "        vertical-align: top;\n",
       "    }\n",
       "\n",
       "    .dataframe thead th {\n",
       "        text-align: right;\n",
       "    }\n",
       "</style>\n",
       "<table border=\"1\" class=\"dataframe\">\n",
       "  <thead>\n",
       "    <tr style=\"text-align: right;\">\n",
       "      <th></th>\n",
       "      <th>height</th>\n",
       "      <th>weight</th>\n",
       "      <th>rank1</th>\n",
       "      <th>rank2</th>\n",
       "      <th>D</th>\n",
       "      <th>D2</th>\n",
       "    </tr>\n",
       "  </thead>\n",
       "  <tbody>\n",
       "    <tr>\n",
       "      <th>0</th>\n",
       "      <td>150</td>\n",
       "      <td>50</td>\n",
       "      <td>1.0</td>\n",
       "      <td>1.0</td>\n",
       "      <td>0.0</td>\n",
       "      <td>0.0</td>\n",
       "    </tr>\n",
       "    <tr>\n",
       "      <th>1</th>\n",
       "      <td>160</td>\n",
       "      <td>55</td>\n",
       "      <td>2.0</td>\n",
       "      <td>2.0</td>\n",
       "      <td>0.0</td>\n",
       "      <td>0.0</td>\n",
       "    </tr>\n",
       "    <tr>\n",
       "      <th>2</th>\n",
       "      <td>165</td>\n",
       "      <td>60</td>\n",
       "      <td>3.0</td>\n",
       "      <td>3.0</td>\n",
       "      <td>0.0</td>\n",
       "      <td>0.0</td>\n",
       "    </tr>\n",
       "    <tr>\n",
       "      <th>3</th>\n",
       "      <td>170</td>\n",
       "      <td>65</td>\n",
       "      <td>4.0</td>\n",
       "      <td>4.0</td>\n",
       "      <td>0.0</td>\n",
       "      <td>0.0</td>\n",
       "    </tr>\n",
       "    <tr>\n",
       "      <th>4</th>\n",
       "      <td>175</td>\n",
       "      <td>70</td>\n",
       "      <td>5.0</td>\n",
       "      <td>5.0</td>\n",
       "      <td>0.0</td>\n",
       "      <td>0.0</td>\n",
       "    </tr>\n",
       "  </tbody>\n",
       "</table>\n",
       "</div>"
      ],
      "text/plain": [
       "   height  weight  rank1  rank2    D   D2\n",
       "0     150      50    1.0    1.0  0.0  0.0\n",
       "1     160      55    2.0    2.0  0.0  0.0\n",
       "2     165      60    3.0    3.0  0.0  0.0\n",
       "3     170      65    4.0    4.0  0.0  0.0\n",
       "4     175      70    5.0    5.0  0.0  0.0"
      ]
     },
     "execution_count": 208,
     "metadata": {},
     "output_type": "execute_result"
    }
   ],
   "source": [
    "df[\"D2\"]=df[\"D\"]**2\n",
    "df.head()"
   ]
  },
  {
   "cell_type": "code",
   "execution_count": 209,
   "metadata": {
    "colab": {
     "base_uri": "https://localhost:8080/"
    },
    "id": "TJ0rMmICs8KJ",
    "outputId": "2bd9c592-0a93-4582-a167-cd2451eb7968"
   },
   "outputs": [
    {
     "data": {
      "text/plain": [
       "0.0"
      ]
     },
     "execution_count": 209,
     "metadata": {},
     "output_type": "execute_result"
    }
   ],
   "source": [
    "sum_d2=df[\"D2\"].sum()\n",
    "sum_d2"
   ]
  },
  {
   "cell_type": "code",
   "execution_count": 210,
   "metadata": {
    "colab": {
     "base_uri": "https://localhost:8080/"
    },
    "id": "3PLh29CYtJw6",
    "outputId": "f0ba0ec4-a5b7-4da1-f9ca-daecbff4a30f"
   },
   "outputs": [
    {
     "data": {
      "text/plain": [
       "7"
      ]
     },
     "execution_count": 210,
     "metadata": {},
     "output_type": "execute_result"
    }
   ],
   "source": [
    "n=len(df)\n",
    "n"
   ]
  },
  {
   "cell_type": "code",
   "execution_count": 211,
   "metadata": {
    "colab": {
     "base_uri": "https://localhost:8080/"
    },
    "id": "QBeE0SLBtPDC",
    "outputId": "771d3a5d-3209-431e-d0f2-45111cff9d7b"
   },
   "outputs": [
    {
     "data": {
      "text/plain": [
       "1.0"
      ]
     },
     "execution_count": 211,
     "metadata": {},
     "output_type": "execute_result"
    }
   ],
   "source": [
    "R=1-((6*sum_d2)/((n**3)-n))\n",
    "R"
   ]
  },
  {
   "cell_type": "markdown",
   "metadata": {
    "id": "SzFy_DNVtaht"
   },
   "source": [
    "Find Karl pearson of data"
   ]
  },
  {
   "cell_type": "code",
   "execution_count": 213,
   "metadata": {
    "id": "sWrFjlfovSVS"
   },
   "outputs": [],
   "source": [
    "data={\n",
    "    \"Height\":[150,160,165,170,175,180,185,190],\n",
    "    \"Weight\":[50,55,60,65,70,75,80,85]\n",
    "}\n",
    "df=pd.DataFrame(data)"
   ]
  },
  {
   "cell_type": "code",
   "execution_count": 214,
   "metadata": {
    "colab": {
     "base_uri": "https://localhost:8080/"
    },
    "id": "nVmYpxoJtXL2",
    "outputId": "1ce0c0cc-8cc3-4719-cd58-aaf9ccfbe276"
   },
   "outputs": [
    {
     "data": {
      "text/plain": [
       "1375"
      ]
     },
     "execution_count": 214,
     "metadata": {},
     "output_type": "execute_result"
    }
   ],
   "source": [
    "mean_height=df[\"Height\"].sum()\n",
    "mean_height"
   ]
  },
  {
   "cell_type": "code",
   "execution_count": 215,
   "metadata": {
    "colab": {
     "base_uri": "https://localhost:8080/"
    },
    "id": "Lieaog83u9_b",
    "outputId": "8c5192a5-413f-4749-f4c3-bd1942f4b092"
   },
   "outputs": [
    {
     "data": {
      "text/plain": [
       "540"
      ]
     },
     "execution_count": 215,
     "metadata": {},
     "output_type": "execute_result"
    }
   ],
   "source": [
    "mean_weight=df[\"Weight\"].sum()\n",
    "mean_weight"
   ]
  },
  {
   "cell_type": "code",
   "execution_count": 216,
   "metadata": {
    "colab": {
     "base_uri": "https://localhost:8080/",
     "height": 335
    },
    "id": "FqxzbyNnvDcT",
    "outputId": "0ab997d7-2629-40e5-83fd-de9caf462e83"
   },
   "outputs": [
    {
     "data": {
      "text/plain": [
       "0   -1225\n",
       "1   -1215\n",
       "2   -1210\n",
       "3   -1205\n",
       "4   -1200\n",
       "5   -1195\n",
       "6   -1190\n",
       "7   -1185\n",
       "Name: x-xmean, dtype: int64"
      ]
     },
     "execution_count": 216,
     "metadata": {},
     "output_type": "execute_result"
    }
   ],
   "source": [
    "df[\"x-xmean\"]=(df[\"Height\"]-mean_height)\n",
    "df[\"x-xmean\"]"
   ]
  },
  {
   "cell_type": "code",
   "execution_count": 217,
   "metadata": {
    "colab": {
     "base_uri": "https://localhost:8080/",
     "height": 335
    },
    "id": "rKVPv9rRvmfX",
    "outputId": "b1fec482-4bd0-4ee1-eca5-00df9eeb9fbb"
   },
   "outputs": [
    {
     "data": {
      "text/plain": [
       "0   -490\n",
       "1   -485\n",
       "2   -480\n",
       "3   -475\n",
       "4   -470\n",
       "5   -465\n",
       "6   -460\n",
       "7   -455\n",
       "Name: y-ymean, dtype: int64"
      ]
     },
     "execution_count": 217,
     "metadata": {},
     "output_type": "execute_result"
    }
   ],
   "source": [
    "df[\"y-ymean\"]=(df[\"Weight\"]-mean_weight)\n",
    "df[\"y-ymean\"]"
   ]
  },
  {
   "cell_type": "code",
   "execution_count": 218,
   "metadata": {
    "colab": {
     "base_uri": "https://localhost:8080/",
     "height": 335
    },
    "id": "ZEpmirwXwFkn",
    "outputId": "e1fdafaf-92e5-4a7a-c751-7b0ed8cfcdc5"
   },
   "outputs": [
    {
     "data": {
      "text/plain": [
       "0    600250\n",
       "1    589275\n",
       "2    580800\n",
       "3    572375\n",
       "4    564000\n",
       "5    555675\n",
       "6    547400\n",
       "7    539175\n",
       "Name: xy, dtype: int64"
      ]
     },
     "execution_count": 218,
     "metadata": {},
     "output_type": "execute_result"
    }
   ],
   "source": [
    "df[\"xy\"]=df[\"x-xmean\"]*df[\"y-ymean\"]\n",
    "df[\"xy\"]"
   ]
  },
  {
   "cell_type": "code",
   "execution_count": 219,
   "metadata": {
    "colab": {
     "base_uri": "https://localhost:8080/",
     "height": 335
    },
    "id": "WANDtWs_xMnO",
    "outputId": "a465c0fd-03d0-46b0-9b4f-ef1c4a2c8ae0"
   },
   "outputs": [
    {
     "data": {
      "text/plain": [
       "0    1500625\n",
       "1    1476225\n",
       "2    1464100\n",
       "3    1452025\n",
       "4    1440000\n",
       "5    1428025\n",
       "6    1416100\n",
       "7    1404225\n",
       "Name: x2, dtype: int64"
      ]
     },
     "execution_count": 219,
     "metadata": {},
     "output_type": "execute_result"
    }
   ],
   "source": [
    "df[\"x2\"]=df[\"x-xmean\"]**2\n",
    "df[\"x2\"]"
   ]
  },
  {
   "cell_type": "code",
   "execution_count": 220,
   "metadata": {
    "colab": {
     "base_uri": "https://localhost:8080/",
     "height": 335
    },
    "id": "ml0kQzRfyLyM",
    "outputId": "6a83903b-7ce8-42ce-ad99-7fc4d1423265"
   },
   "outputs": [
    {
     "data": {
      "text/plain": [
       "0    240100\n",
       "1    235225\n",
       "2    230400\n",
       "3    225625\n",
       "4    220900\n",
       "5    216225\n",
       "6    211600\n",
       "7    207025\n",
       "Name: y2, dtype: int64"
      ]
     },
     "execution_count": 220,
     "metadata": {},
     "output_type": "execute_result"
    }
   ],
   "source": [
    "df[\"y2\"]=df[\"y-ymean\"]**2\n",
    "df[\"y2\"]"
   ]
  },
  {
   "cell_type": "code",
   "execution_count": 221,
   "metadata": {
    "colab": {
     "base_uri": "https://localhost:8080/"
    },
    "id": "T4NCQq_Aykkp",
    "outputId": "dc98b923-77e0-4d76-d6ae-9f57ac43145a"
   },
   "outputs": [
    {
     "data": {
      "text/plain": [
       "11581325"
      ]
     },
     "execution_count": 221,
     "metadata": {},
     "output_type": "execute_result"
    }
   ],
   "source": [
    "sum_x2=df[\"x2\"].sum()\n",
    "sum_x2"
   ]
  },
  {
   "cell_type": "code",
   "execution_count": 222,
   "metadata": {
    "colab": {
     "base_uri": "https://localhost:8080/"
    },
    "id": "09t6diqQy0tC",
    "outputId": "cea25f2c-b186-408f-dcc5-49b4bc1e1a91"
   },
   "outputs": [
    {
     "data": {
      "text/plain": [
       "1787100"
      ]
     },
     "execution_count": 222,
     "metadata": {},
     "output_type": "execute_result"
    }
   ],
   "source": [
    "sum_y2=df[\"y2\"].sum()\n",
    "sum_y2"
   ]
  },
  {
   "cell_type": "code",
   "execution_count": 223,
   "metadata": {
    "colab": {
     "base_uri": "https://localhost:8080/"
    },
    "id": "YNGkDYgoy6Z6",
    "outputId": "5bda9ccb-c847-4b5d-e169-f4cd72d79298"
   },
   "outputs": [
    {
     "data": {
      "text/plain": [
       "4548950"
      ]
     },
     "execution_count": 223,
     "metadata": {},
     "output_type": "execute_result"
    }
   ],
   "source": [
    "sum_xy=df[\"xy\"].sum()\n",
    "sum_xy"
   ]
  },
  {
   "cell_type": "code",
   "execution_count": 224,
   "metadata": {
    "colab": {
     "base_uri": "https://localhost:8080/"
    },
    "id": "JkgiBIJdzCYK",
    "outputId": "994d7cc8-2530-45a2-f404-30f6d11ca8eb"
   },
   "outputs": [
    {
     "data": {
      "text/plain": [
       "701942.8731168498"
      ]
     },
     "execution_count": 224,
     "metadata": {},
     "output_type": "execute_result"
    }
   ],
   "source": [
    "r=sum_xy/sum_x2*sum_y2\n",
    "r"
   ]
  },
  {
   "cell_type": "code",
   "execution_count": 225,
   "metadata": {
    "colab": {
     "base_uri": "https://localhost:8080/"
    },
    "id": "qHLU4HJIzQZ7",
    "outputId": "f02a47da-eddc-41d8-e775-02c3e2ecb8f2"
   },
   "outputs": [
    {
     "data": {
      "text/plain": [
       "837.8203107569366"
      ]
     },
     "execution_count": 225,
     "metadata": {},
     "output_type": "execute_result"
    }
   ],
   "source": [
    "r_sqrt=r**(1/2)\n",
    "r_sqrt"
   ]
  },
  {
   "cell_type": "code",
   "execution_count": null,
   "metadata": {
    "id": "slfd5TuizdQn"
   },
   "outputs": [],
   "source": []
  }
 ],
 "metadata": {
  "colab": {
   "provenance": []
  },
  "kernelspec": {
   "display_name": "Python 3 (ipykernel)",
   "language": "python",
   "name": "python3"
  },
  "language_info": {
   "codemirror_mode": {
    "name": "ipython",
    "version": 3
   },
   "file_extension": ".py",
   "mimetype": "text/x-python",
   "name": "python",
   "nbconvert_exporter": "python",
   "pygments_lexer": "ipython3",
   "version": "3.12.4"
  }
 },
 "nbformat": 4,
 "nbformat_minor": 4
}
