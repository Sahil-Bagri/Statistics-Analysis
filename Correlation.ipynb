{
 "cells": [
  {
   "cell_type": "code",
   "execution_count": 17,
   "metadata": {
    "id": "aY_hd4AlEJcQ"
   },
   "outputs": [],
   "source": [
    "#libraries to work with\n",
    "import pandas as pd        #we use pandas to read our data we want to work with\n",
    "import numpy as np         #we use  numpy to work with mathematical expressions"
   ]
  },
  {
   "cell_type": "code",
   "execution_count": 18,
   "metadata": {
    "id": "3mEq1mzJGAoH"
   },
   "outputs": [],
   "source": [
    "df=pd.read_csv(\"C:\\\\Users\\\\sb193\\\\OneDrive\\\\Documents\\\\Pandas.csv\") "
   ]
  },
  {
   "cell_type": "code",
   "execution_count": 19,
   "metadata": {
    "colab": {
     "base_uri": "https://localhost:8080/",
     "height": 258
    },
    "id": "hxDCShSgGAku",
    "outputId": "87f903a0-f39a-4942-f3a0-03d3462e8ebf"
   },
   "outputs": [
    {
     "data": {
      "text/html": [
       "<div>\n",
       "<style scoped>\n",
       "    .dataframe tbody tr th:only-of-type {\n",
       "        vertical-align: middle;\n",
       "    }\n",
       "\n",
       "    .dataframe tbody tr th {\n",
       "        vertical-align: top;\n",
       "    }\n",
       "\n",
       "    .dataframe thead th {\n",
       "        text-align: right;\n",
       "    }\n",
       "</style>\n",
       "<table border=\"1\" class=\"dataframe\">\n",
       "  <thead>\n",
       "    <tr style=\"text-align: right;\">\n",
       "      <th></th>\n",
       "      <th>Rank</th>\n",
       "      <th>Title</th>\n",
       "      <th>Employees</th>\n",
       "      <th>Sector</th>\n",
       "      <th>Industry</th>\n",
       "      <th>Hqcity</th>\n",
       "      <th>Ceo</th>\n",
       "      <th>Ceo-title</th>\n",
       "      <th>Revenues</th>\n",
       "      <th>Revchange</th>\n",
       "      <th>Profits</th>\n",
       "      <th>Prftchange</th>\n",
       "      <th>Assets</th>\n",
       "    </tr>\n",
       "  </thead>\n",
       "  <tbody>\n",
       "    <tr>\n",
       "      <th>0</th>\n",
       "      <td>1</td>\n",
       "      <td>Walmart</td>\n",
       "      <td>2300000</td>\n",
       "      <td>Retailing</td>\n",
       "      <td>General Merchandisers</td>\n",
       "      <td>Bentonville</td>\n",
       "      <td>C. Douglas McMillon</td>\n",
       "      <td>President, Chief Executive Officer &amp; Director</td>\n",
       "      <td>485873</td>\n",
       "      <td>0.8</td>\n",
       "      <td>13643.0</td>\n",
       "      <td>-7.2</td>\n",
       "      <td>198825</td>\n",
       "    </tr>\n",
       "    <tr>\n",
       "      <th>1</th>\n",
       "      <td>2</td>\n",
       "      <td>Berkshire Hathaway</td>\n",
       "      <td>367700</td>\n",
       "      <td>Financials</td>\n",
       "      <td>Insurance: Property and Casualty (Stock)</td>\n",
       "      <td>Omaha</td>\n",
       "      <td>Warren E. Buffett</td>\n",
       "      <td>Chairman &amp; Chief Executive Officer</td>\n",
       "      <td>223604</td>\n",
       "      <td>6.1</td>\n",
       "      <td>24074.0</td>\n",
       "      <td>0</td>\n",
       "      <td>620854</td>\n",
       "    </tr>\n",
       "    <tr>\n",
       "      <th>2</th>\n",
       "      <td>3</td>\n",
       "      <td>Apple</td>\n",
       "      <td>116000</td>\n",
       "      <td>Technology</td>\n",
       "      <td>Computers, Office Equipment</td>\n",
       "      <td>Cupertino</td>\n",
       "      <td>Timothy D. Cook</td>\n",
       "      <td>Chief Executive Officer &amp; Director</td>\n",
       "      <td>215639</td>\n",
       "      <td>-7.7</td>\n",
       "      <td>45687.0</td>\n",
       "      <td>-14.4</td>\n",
       "      <td>321686</td>\n",
       "    </tr>\n",
       "    <tr>\n",
       "      <th>3</th>\n",
       "      <td>4</td>\n",
       "      <td>Exxon Mobil</td>\n",
       "      <td>72700</td>\n",
       "      <td>Energy</td>\n",
       "      <td>Petroleum Refining</td>\n",
       "      <td>Irving</td>\n",
       "      <td>Darren W. Woods</td>\n",
       "      <td>Chairman &amp; Chief Executive Officer</td>\n",
       "      <td>205004</td>\n",
       "      <td>-16.7</td>\n",
       "      <td>7840.0</td>\n",
       "      <td>-51.5</td>\n",
       "      <td>330314</td>\n",
       "    </tr>\n",
       "    <tr>\n",
       "      <th>4</th>\n",
       "      <td>5</td>\n",
       "      <td>McKesson</td>\n",
       "      <td>68000</td>\n",
       "      <td>Wholesalers</td>\n",
       "      <td>Wholesalers: Health Care</td>\n",
       "      <td>San Francisco</td>\n",
       "      <td>John H. Hammergren</td>\n",
       "      <td>Chairman, President &amp; Chief Executive Officer</td>\n",
       "      <td>192487</td>\n",
       "      <td>6.2</td>\n",
       "      <td>2258.0</td>\n",
       "      <td>53</td>\n",
       "      <td>56563</td>\n",
       "    </tr>\n",
       "  </tbody>\n",
       "</table>\n",
       "</div>"
      ],
      "text/plain": [
       "   Rank               Title  Employees       Sector  \\\n",
       "0     1             Walmart    2300000    Retailing   \n",
       "1     2  Berkshire Hathaway     367700   Financials   \n",
       "2     3               Apple     116000   Technology   \n",
       "3     4         Exxon Mobil      72700       Energy   \n",
       "4     5            McKesson      68000  Wholesalers   \n",
       "\n",
       "                                   Industry         Hqcity  \\\n",
       "0                     General Merchandisers    Bentonville   \n",
       "1  Insurance: Property and Casualty (Stock)          Omaha   \n",
       "2               Computers, Office Equipment      Cupertino   \n",
       "3                        Petroleum Refining         Irving   \n",
       "4                  Wholesalers: Health Care  San Francisco   \n",
       "\n",
       "                   Ceo                                      Ceo-title  \\\n",
       "0  C. Douglas McMillon  President, Chief Executive Officer & Director   \n",
       "1    Warren E. Buffett             Chairman & Chief Executive Officer   \n",
       "2      Timothy D. Cook             Chief Executive Officer & Director   \n",
       "3      Darren W. Woods             Chairman & Chief Executive Officer   \n",
       "4   John H. Hammergren  Chairman, President & Chief Executive Officer   \n",
       "\n",
       "   Revenues  Revchange  Profits Prftchange  Assets  \n",
       "0    485873        0.8  13643.0       -7.2  198825  \n",
       "1    223604        6.1  24074.0          0  620854  \n",
       "2    215639       -7.7  45687.0      -14.4  321686  \n",
       "3    205004      -16.7   7840.0      -51.5  330314  \n",
       "4    192487        6.2   2258.0         53   56563  "
      ]
     },
     "execution_count": 19,
     "metadata": {},
     "output_type": "execute_result"
    }
   ],
   "source": [
    "# It gives us first five rows of the dataset. If we want more or less you put any number inside the head brackets\n",
    "df.head()"
   ]
  },
  {
   "cell_type": "code",
   "execution_count": 20,
   "metadata": {
    "colab": {
     "base_uri": "https://localhost:8080/",
     "height": 275
    },
    "id": "T1bkAke8GAif",
    "outputId": "01e2bffd-bc56-49d5-bf89-47b30ab7999a"
   },
   "outputs": [
    {
     "data": {
      "text/html": [
       "<div>\n",
       "<style scoped>\n",
       "    .dataframe tbody tr th:only-of-type {\n",
       "        vertical-align: middle;\n",
       "    }\n",
       "\n",
       "    .dataframe tbody tr th {\n",
       "        vertical-align: top;\n",
       "    }\n",
       "\n",
       "    .dataframe thead th {\n",
       "        text-align: right;\n",
       "    }\n",
       "</style>\n",
       "<table border=\"1\" class=\"dataframe\">\n",
       "  <thead>\n",
       "    <tr style=\"text-align: right;\">\n",
       "      <th></th>\n",
       "      <th>Rank</th>\n",
       "      <th>Title</th>\n",
       "      <th>Employees</th>\n",
       "      <th>Sector</th>\n",
       "      <th>Industry</th>\n",
       "      <th>Hqcity</th>\n",
       "      <th>Ceo</th>\n",
       "      <th>Ceo-title</th>\n",
       "      <th>Revenues</th>\n",
       "      <th>Revchange</th>\n",
       "      <th>Profits</th>\n",
       "      <th>Prftchange</th>\n",
       "      <th>Assets</th>\n",
       "    </tr>\n",
       "  </thead>\n",
       "  <tbody>\n",
       "    <tr>\n",
       "      <th>495</th>\n",
       "      <td>496</td>\n",
       "      <td>Michaels Cos.</td>\n",
       "      <td>31000</td>\n",
       "      <td>Retailing</td>\n",
       "      <td>Specialty Retailers: Other</td>\n",
       "      <td>Irving</td>\n",
       "      <td>Carl S. Rubin</td>\n",
       "      <td>Chairman &amp; Chief Executive Officer</td>\n",
       "      <td>5197</td>\n",
       "      <td>5.8</td>\n",
       "      <td>378.2</td>\n",
       "      <td>4.2</td>\n",
       "      <td>2148</td>\n",
       "    </tr>\n",
       "    <tr>\n",
       "      <th>496</th>\n",
       "      <td>497</td>\n",
       "      <td>Toll Brothers</td>\n",
       "      <td>4200</td>\n",
       "      <td>Engineering &amp; Construction</td>\n",
       "      <td>Homebuilders</td>\n",
       "      <td>Horsham</td>\n",
       "      <td>Douglas C. Yearley Jr.</td>\n",
       "      <td>Chief Executive Officer &amp; Director</td>\n",
       "      <td>5170</td>\n",
       "      <td>23.9</td>\n",
       "      <td>382.1</td>\n",
       "      <td>5.2</td>\n",
       "      <td>9737</td>\n",
       "    </tr>\n",
       "    <tr>\n",
       "      <th>497</th>\n",
       "      <td>498</td>\n",
       "      <td>Yahoo</td>\n",
       "      <td>8500</td>\n",
       "      <td>Technology</td>\n",
       "      <td>Internet Services and Retailing</td>\n",
       "      <td>Sunnyvale</td>\n",
       "      <td>Marissa A. Mayer</td>\n",
       "      <td>President, Chief Executive Officer &amp; Director</td>\n",
       "      <td>5169</td>\n",
       "      <td>4.0</td>\n",
       "      <td>-214.3</td>\n",
       "      <td>5.2</td>\n",
       "      <td>48083</td>\n",
       "    </tr>\n",
       "    <tr>\n",
       "      <th>498</th>\n",
       "      <td>499</td>\n",
       "      <td>Vistra Energy</td>\n",
       "      <td>4431</td>\n",
       "      <td>Energy</td>\n",
       "      <td>Energy</td>\n",
       "      <td>Dallas</td>\n",
       "      <td>Curtis A. Morgan</td>\n",
       "      <td>President, Chief Executive Officer &amp; Director</td>\n",
       "      <td>5164</td>\n",
       "      <td>4.0</td>\n",
       "      <td>-214.3</td>\n",
       "      <td>5.2</td>\n",
       "      <td>15167</td>\n",
       "    </tr>\n",
       "    <tr>\n",
       "      <th>499</th>\n",
       "      <td>500</td>\n",
       "      <td>ABM Industries</td>\n",
       "      <td>110000</td>\n",
       "      <td>Business Services</td>\n",
       "      <td>Diversified Outsourcing Services</td>\n",
       "      <td>New York</td>\n",
       "      <td>Scott B. Salmirs</td>\n",
       "      <td>President, Chief Executive Officer &amp; Director</td>\n",
       "      <td>5145</td>\n",
       "      <td>-2.8</td>\n",
       "      <td>57.2</td>\n",
       "      <td>-25</td>\n",
       "      <td>2281</td>\n",
       "    </tr>\n",
       "  </tbody>\n",
       "</table>\n",
       "</div>"
      ],
      "text/plain": [
       "     Rank           Title  Employees                      Sector  \\\n",
       "495   496   Michaels Cos.      31000                   Retailing   \n",
       "496   497   Toll Brothers       4200  Engineering & Construction   \n",
       "497   498           Yahoo       8500                  Technology   \n",
       "498   499   Vistra Energy       4431                      Energy   \n",
       "499   500  ABM Industries     110000           Business Services   \n",
       "\n",
       "                             Industry     Hqcity                     Ceo  \\\n",
       "495        Specialty Retailers: Other     Irving           Carl S. Rubin   \n",
       "496                      Homebuilders    Horsham  Douglas C. Yearley Jr.   \n",
       "497   Internet Services and Retailing  Sunnyvale        Marissa A. Mayer   \n",
       "498                            Energy     Dallas        Curtis A. Morgan   \n",
       "499  Diversified Outsourcing Services   New York        Scott B. Salmirs   \n",
       "\n",
       "                                         Ceo-title  Revenues  Revchange  \\\n",
       "495             Chairman & Chief Executive Officer      5197        5.8   \n",
       "496             Chief Executive Officer & Director      5170       23.9   \n",
       "497  President, Chief Executive Officer & Director      5169        4.0   \n",
       "498  President, Chief Executive Officer & Director      5164        4.0   \n",
       "499  President, Chief Executive Officer & Director      5145       -2.8   \n",
       "\n",
       "     Profits Prftchange  Assets  \n",
       "495    378.2        4.2    2148  \n",
       "496    382.1        5.2    9737  \n",
       "497   -214.3        5.2   48083  \n",
       "498   -214.3        5.2   15167  \n",
       "499     57.2        -25    2281  "
      ]
     },
     "execution_count": 20,
     "metadata": {},
     "output_type": "execute_result"
    }
   ],
   "source": [
    "#It gives last five rows of the dataset. If you want more so you can do how much you wanted to see.\n",
    "df.tail()"
   ]
  },
  {
   "cell_type": "code",
   "execution_count": 21,
   "metadata": {
    "colab": {
     "base_uri": "https://localhost:8080/"
    },
    "id": "rZSp1mF8GAgK",
    "outputId": "0afbf163-2189-4630-a46f-71a21043b65e"
   },
   "outputs": [
    {
     "data": {
      "text/plain": [
       "(500, 13)"
      ]
     },
     "execution_count": 21,
     "metadata": {},
     "output_type": "execute_result"
    }
   ],
   "source": [
    "# To find rows and columns\n",
    "df.shape"
   ]
  },
  {
   "cell_type": "code",
   "execution_count": 22,
   "metadata": {
    "colab": {
     "base_uri": "https://localhost:8080/"
    },
    "id": "fAwZoZPOGAdk",
    "outputId": "2352efd0-250c-4432-98a7-49438cf3e820"
   },
   "outputs": [
    {
     "name": "stdout",
     "output_type": "stream",
     "text": [
      "<class 'pandas.core.frame.DataFrame'>\n",
      "RangeIndex: 500 entries, 0 to 499\n",
      "Data columns (total 13 columns):\n",
      " #   Column      Non-Null Count  Dtype  \n",
      "---  ------      --------------  -----  \n",
      " 0   Rank        500 non-null    int64  \n",
      " 1   Title       500 non-null    object \n",
      " 2   Employees   500 non-null    int64  \n",
      " 3   Sector      500 non-null    object \n",
      " 4   Industry    500 non-null    object \n",
      " 5   Hqcity      500 non-null    object \n",
      " 6   Ceo         500 non-null    object \n",
      " 7   Ceo-title   500 non-null    object \n",
      " 8   Revenues    500 non-null    int64  \n",
      " 9   Revchange   500 non-null    float64\n",
      " 10  Profits     500 non-null    float64\n",
      " 11  Prftchange  500 non-null    object \n",
      " 12  Assets      500 non-null    int64  \n",
      "dtypes: float64(2), int64(4), object(7)\n",
      "memory usage: 50.9+ KB\n"
     ]
    }
   ],
   "source": [
    "# For the information about the data\n",
    "df.info()"
   ]
  },
  {
   "cell_type": "code",
   "execution_count": 23,
   "metadata": {
    "id": "aUzMYrRZGAbb"
   },
   "outputs": [],
   "source": [
    "#before using any column we are assiging them to a variable so it will be easy to work with instead of calling every column\n",
    "sub_df= df[[\"Rank\",\"Title\",\"Employees\",\"Sector\",\"Revenues\",\"Profits\"]]"
   ]
  },
  {
   "cell_type": "code",
   "execution_count": 24,
   "metadata": {
    "colab": {
     "base_uri": "https://localhost:8080/",
     "height": 143
    },
    "id": "fb9v35AJGARO",
    "outputId": "f8c35305-a7dd-4d00-8ee0-7508c8bfa0b8"
   },
   "outputs": [
    {
     "data": {
      "text/html": [
       "<div>\n",
       "<style scoped>\n",
       "    .dataframe tbody tr th:only-of-type {\n",
       "        vertical-align: middle;\n",
       "    }\n",
       "\n",
       "    .dataframe tbody tr th {\n",
       "        vertical-align: top;\n",
       "    }\n",
       "\n",
       "    .dataframe thead th {\n",
       "        text-align: right;\n",
       "    }\n",
       "</style>\n",
       "<table border=\"1\" class=\"dataframe\">\n",
       "  <thead>\n",
       "    <tr style=\"text-align: right;\">\n",
       "      <th></th>\n",
       "      <th>Rank</th>\n",
       "      <th>Title</th>\n",
       "      <th>Employees</th>\n",
       "      <th>Sector</th>\n",
       "      <th>Revenues</th>\n",
       "      <th>Profits</th>\n",
       "    </tr>\n",
       "  </thead>\n",
       "  <tbody>\n",
       "    <tr>\n",
       "      <th>0</th>\n",
       "      <td>1</td>\n",
       "      <td>Walmart</td>\n",
       "      <td>2300000</td>\n",
       "      <td>Retailing</td>\n",
       "      <td>485873</td>\n",
       "      <td>13643.0</td>\n",
       "    </tr>\n",
       "    <tr>\n",
       "      <th>1</th>\n",
       "      <td>2</td>\n",
       "      <td>Berkshire Hathaway</td>\n",
       "      <td>367700</td>\n",
       "      <td>Financials</td>\n",
       "      <td>223604</td>\n",
       "      <td>24074.0</td>\n",
       "    </tr>\n",
       "    <tr>\n",
       "      <th>2</th>\n",
       "      <td>3</td>\n",
       "      <td>Apple</td>\n",
       "      <td>116000</td>\n",
       "      <td>Technology</td>\n",
       "      <td>215639</td>\n",
       "      <td>45687.0</td>\n",
       "    </tr>\n",
       "  </tbody>\n",
       "</table>\n",
       "</div>"
      ],
      "text/plain": [
       "   Rank               Title  Employees      Sector  Revenues  Profits\n",
       "0     1             Walmart    2300000   Retailing    485873  13643.0\n",
       "1     2  Berkshire Hathaway     367700  Financials    223604  24074.0\n",
       "2     3               Apple     116000  Technology    215639  45687.0"
      ]
     },
     "execution_count": 24,
     "metadata": {},
     "output_type": "execute_result"
    }
   ],
   "source": [
    "sub_df.head(3)    #this will show only 3 rows"
   ]
  },
  {
   "cell_type": "code",
   "execution_count": 25,
   "metadata": {
    "colab": {
     "base_uri": "https://localhost:8080/",
     "height": 300
    },
    "id": "UCSfo5TdI76r",
    "outputId": "ec6ecf49-a6b2-4592-87bf-1aee6fc0ce9e"
   },
   "outputs": [
    {
     "data": {
      "text/html": [
       "<div>\n",
       "<style scoped>\n",
       "    .dataframe tbody tr th:only-of-type {\n",
       "        vertical-align: middle;\n",
       "    }\n",
       "\n",
       "    .dataframe tbody tr th {\n",
       "        vertical-align: top;\n",
       "    }\n",
       "\n",
       "    .dataframe thead th {\n",
       "        text-align: right;\n",
       "    }\n",
       "</style>\n",
       "<table border=\"1\" class=\"dataframe\">\n",
       "  <thead>\n",
       "    <tr style=\"text-align: right;\">\n",
       "      <th></th>\n",
       "      <th>Rank</th>\n",
       "      <th>Employees</th>\n",
       "      <th>Revenues</th>\n",
       "      <th>Profits</th>\n",
       "    </tr>\n",
       "  </thead>\n",
       "  <tbody>\n",
       "    <tr>\n",
       "      <th>count</th>\n",
       "      <td>500.000000</td>\n",
       "      <td>5.000000e+02</td>\n",
       "      <td>500.000000</td>\n",
       "      <td>500.000000</td>\n",
       "    </tr>\n",
       "    <tr>\n",
       "      <th>mean</th>\n",
       "      <td>250.492000</td>\n",
       "      <td>5.635013e+04</td>\n",
       "      <td>24111.748000</td>\n",
       "      <td>1779.479800</td>\n",
       "    </tr>\n",
       "    <tr>\n",
       "      <th>std</th>\n",
       "      <td>144.477366</td>\n",
       "      <td>1.234520e+05</td>\n",
       "      <td>38337.353337</td>\n",
       "      <td>3937.558721</td>\n",
       "    </tr>\n",
       "    <tr>\n",
       "      <th>min</th>\n",
       "      <td>1.000000</td>\n",
       "      <td>8.300000e+01</td>\n",
       "      <td>5145.000000</td>\n",
       "      <td>-6177.000000</td>\n",
       "    </tr>\n",
       "    <tr>\n",
       "      <th>25%</th>\n",
       "      <td>125.750000</td>\n",
       "      <td>1.190000e+04</td>\n",
       "      <td>7245.000000</td>\n",
       "      <td>235.725000</td>\n",
       "    </tr>\n",
       "    <tr>\n",
       "      <th>50%</th>\n",
       "      <td>250.500000</td>\n",
       "      <td>2.500000e+04</td>\n",
       "      <td>11384.000000</td>\n",
       "      <td>683.600000</td>\n",
       "    </tr>\n",
       "    <tr>\n",
       "      <th>75%</th>\n",
       "      <td>375.250000</td>\n",
       "      <td>5.682525e+04</td>\n",
       "      <td>22605.250000</td>\n",
       "      <td>1770.775000</td>\n",
       "    </tr>\n",
       "    <tr>\n",
       "      <th>max</th>\n",
       "      <td>500.000000</td>\n",
       "      <td>2.300000e+06</td>\n",
       "      <td>485873.000000</td>\n",
       "      <td>45687.000000</td>\n",
       "    </tr>\n",
       "  </tbody>\n",
       "</table>\n",
       "</div>"
      ],
      "text/plain": [
       "             Rank     Employees       Revenues       Profits\n",
       "count  500.000000  5.000000e+02     500.000000    500.000000\n",
       "mean   250.492000  5.635013e+04   24111.748000   1779.479800\n",
       "std    144.477366  1.234520e+05   38337.353337   3937.558721\n",
       "min      1.000000  8.300000e+01    5145.000000  -6177.000000\n",
       "25%    125.750000  1.190000e+04    7245.000000    235.725000\n",
       "50%    250.500000  2.500000e+04   11384.000000    683.600000\n",
       "75%    375.250000  5.682525e+04   22605.250000   1770.775000\n",
       "max    500.000000  2.300000e+06  485873.000000  45687.000000"
      ]
     },
     "execution_count": 25,
     "metadata": {},
     "output_type": "execute_result"
    }
   ],
   "source": [
    "sub_df.describe()        #this will describe our data its count,mean,std,min,max etc."
   ]
  },
  {
   "cell_type": "code",
   "execution_count": 26,
   "metadata": {
    "colab": {
     "base_uri": "https://localhost:8080/"
    },
    "id": "8NMiz-ACI73H",
    "outputId": "c6af3f18-5a6c-4396-f13f-80a39c319736"
   },
   "outputs": [
    {
     "data": {
      "text/plain": [
       "24111.748"
      ]
     },
     "execution_count": 26,
     "metadata": {},
     "output_type": "execute_result"
    }
   ],
   "source": [
    "mean_revenue= sub_df[\"Revenues\"].mean()           #to find mean of any column\n",
    "mean_revenue"
   ]
  },
  {
   "cell_type": "code",
   "execution_count": 27,
   "metadata": {
    "colab": {
     "base_uri": "https://localhost:8080/",
     "height": 115
    },
    "id": "UqpGVt2CI70v",
    "outputId": "b8b8d435-f009-492a-852e-d29b31965b2f"
   },
   "outputs": [
    {
     "data": {
      "text/plain": [
       "0    9061\n",
       "Name: Revenues, dtype: int64"
      ]
     },
     "execution_count": 27,
     "metadata": {},
     "output_type": "execute_result"
    }
   ],
   "source": [
    "mode_revenue= sub_df[\"Revenues\"].mode()           #to find mode of any column\n",
    "mode_revenue"
   ]
  },
  {
   "cell_type": "code",
   "execution_count": 28,
   "metadata": {
    "colab": {
     "base_uri": "https://localhost:8080/"
    },
    "id": "v0lNN9QMI7yV",
    "outputId": "709165ae-7957-4421-8a9f-35c1f3a49f23"
   },
   "outputs": [
    {
     "data": {
      "text/plain": [
       "11384.0"
      ]
     },
     "execution_count": 28,
     "metadata": {},
     "output_type": "execute_result"
    }
   ],
   "source": [
    "median_revenue= sub_df[\"Revenues\"].median()       #to find median of any column\n",
    "median_revenue"
   ]
  },
  {
   "cell_type": "code",
   "execution_count": 29,
   "metadata": {
    "colab": {
     "base_uri": "https://localhost:8080/"
    },
    "id": "bUxiiOAuI7vw",
    "outputId": "fcf8c2e2-df29-4c26-f115-68b3824c00c3"
   },
   "outputs": [
    {
     "data": {
      "text/plain": [
       "5145"
      ]
     },
     "execution_count": 29,
     "metadata": {},
     "output_type": "execute_result"
    }
   ],
   "source": [
    "C_revenue= sub_df[\"Revenues\"].min()              #to find min value in the column\n",
    "C_revenue"
   ]
  },
  {
   "cell_type": "code",
   "execution_count": 30,
   "metadata": {
    "colab": {
     "base_uri": "https://localhost:8080/"
    },
    "id": "RyKXzJjaI7tU",
    "outputId": "f776c6da-f512-4d14-8109-bcf6007af3d9"
   },
   "outputs": [
    {
     "data": {
      "text/plain": [
       "485873"
      ]
     },
     "execution_count": 30,
     "metadata": {},
     "output_type": "execute_result"
    }
   ],
   "source": [
    "W_revenue= sub_df[\"Revenues\"].max()               #to find the max value in the column\n",
    "W_revenue"
   ]
  },
  {
   "cell_type": "code",
   "execution_count": 31,
   "metadata": {
    "colab": {
     "base_uri": "https://localhost:8080/"
    },
    "id": "jlrTOtxNI7pH",
    "outputId": "1d26d485-b197-4ce1-d01b-26e6d66ff33b"
   },
   "outputs": [
    {
     "data": {
      "text/plain": [
       "480728"
      ]
     },
     "execution_count": 31,
     "metadata": {},
     "output_type": "execute_result"
    }
   ],
   "source": [
    "range= W_revenue-C_revenue                      #Find range while subtracting max by min value\n",
    "range"
   ]
  },
  {
   "cell_type": "code",
   "execution_count": 32,
   "metadata": {
    "colab": {
     "base_uri": "https://localhost:8080/"
    },
    "id": "BgvO39UsI7lv",
    "outputId": "d815273f-76f2-40fd-eae6-e2d8b93e20d3"
   },
   "outputs": [
    {
     "data": {
      "text/plain": [
       "480728"
      ]
     },
     "execution_count": 32,
     "metadata": {},
     "output_type": "execute_result"
    }
   ],
   "source": [
    "range=sub_df[\"Revenues\"].max()-sub_df[\"Revenues\"].min()\n",
    "range"
   ]
  },
  {
   "cell_type": "code",
   "execution_count": 33,
   "metadata": {
    "colab": {
     "base_uri": "https://localhost:8080/"
    },
    "id": "DkJ85_PPI7iq",
    "outputId": "cbcafd76-edf2-4c47-eaa3-80ac1885b143"
   },
   "outputs": [
    {
     "data": {
      "text/plain": [
       "38337.35333653324"
      ]
     },
     "execution_count": 33,
     "metadata": {},
     "output_type": "execute_result"
    }
   ],
   "source": [
    "st=sub_df[\"Revenues\"].std()               #find standard deviation of any column\n",
    "st"
   ]
  },
  {
   "cell_type": "code",
   "execution_count": 34,
   "metadata": {
    "colab": {
     "base_uri": "https://localhost:8080/"
    },
    "id": "3TFBreRr7URx",
    "outputId": "995781c5-3a01-402f-9a2f-892f0bb2745a"
   },
   "outputs": [
    {
     "data": {
      "text/plain": [
       "1469752660.8501961"
      ]
     },
     "execution_count": 34,
     "metadata": {},
     "output_type": "execute_result"
    }
   ],
   "source": [
    "sd=sub_df[\"Revenues\"].var()           #to find the variance of column\n",
    "sd"
   ]
  },
  {
   "cell_type": "markdown",
   "metadata": {
    "id": "ruZLB2X08Vrz"
   },
   "source": [
    "#IQR"
   ]
  },
  {
   "cell_type": "code",
   "execution_count": 36,
   "metadata": {
    "colab": {
     "base_uri": "https://localhost:8080/"
    },
    "id": "zeb0TaNZ8ZvZ",
    "outputId": "95709706-664d-427a-9e7d-a7ccdf430483"
   },
   "outputs": [
    {
     "data": {
      "text/plain": [
       "7245.0"
      ]
     },
     "execution_count": 36,
     "metadata": {},
     "output_type": "execute_result"
    }
   ],
   "source": [
    "#Its like quartile but in python we call it quantile\n",
    "#p75=Q3 and P25=Q1\n",
    "q1 = sub_df[\"Revenues\"].quantile(0.25)\n",
    "q1                                         # q1= 25%"
   ]
  },
  {
   "cell_type": "code",
   "execution_count": 37,
   "metadata": {
    "colab": {
     "base_uri": "https://localhost:8080/"
    },
    "id": "BY3r1GwD7UOP",
    "outputId": "048d512d-bb22-402a-f847-dc18ed34f368"
   },
   "outputs": [
    {
     "data": {
      "text/plain": [
       "11384.0"
      ]
     },
     "execution_count": 37,
     "metadata": {},
     "output_type": "execute_result"
    }
   ],
   "source": [
    "q2 = sub_df[\"Revenues\"].quantile(0.50)         #q2= 50%\n",
    "q2"
   ]
  },
  {
   "cell_type": "code",
   "execution_count": 38,
   "metadata": {},
   "outputs": [
    {
     "data": {
      "text/plain": [
       "22605.25"
      ]
     },
     "execution_count": 38,
     "metadata": {},
     "output_type": "execute_result"
    }
   ],
   "source": [
    "q3=sub_df[\"Revenues\"].quantile(0.75) #q3 75%\n",
    "q3"
   ]
  },
  {
   "cell_type": "code",
   "execution_count": 39,
   "metadata": {
    "colab": {
     "base_uri": "https://localhost:8080/"
    },
    "id": "RYne408J7UL4",
    "outputId": "6e7d18a0-516a-47a0-c476-c67b98447941"
   },
   "outputs": [
    {
     "data": {
      "text/plain": [
       "15360.25"
      ]
     },
     "execution_count": 39,
     "metadata": {},
     "output_type": "execute_result"
    }
   ],
   "source": [
    "iqr= q3-q1\n",
    "iqr"
   ]
  },
  {
   "cell_type": "code",
   "execution_count": 40,
   "metadata": {
    "colab": {
     "base_uri": "https://localhost:8080/"
    },
    "id": "4W4_frPF916m",
    "outputId": "402bde3b-0b17-4f1a-d0dc-c167257eba1e"
   },
   "outputs": [
    {
     "data": {
      "text/plain": [
       "15360.25"
      ]
     },
     "execution_count": 40,
     "metadata": {},
     "output_type": "execute_result"
    }
   ],
   "source": [
    "iqr2= sub_df[\"Revenues\"].quantile(0.75)-sub_df[\"Revenues\"].quantile(0.25)                    #Its the iqr\n",
    "iqr2"
   ]
  },
  {
   "cell_type": "code",
   "execution_count": 41,
   "metadata": {
    "colab": {
     "base_uri": "https://localhost:8080/"
    },
    "id": "yG75qQL_9ppv",
    "outputId": "b8c8fb5b-5b7d-43d9-f231-9c639e681ef2"
   },
   "outputs": [
    {
     "data": {
      "text/plain": [
       "5.480066970305041"
      ]
     },
     "execution_count": 41,
     "metadata": {},
     "output_type": "execute_result"
    }
   ],
   "source": [
    "skew= sub_df[\"Revenues\"].skew()        #to find skewness\n",
    "skew"
   ]
  },
  {
   "cell_type": "code",
   "execution_count": 42,
   "metadata": {
    "colab": {
     "base_uri": "https://localhost:8080/"
    },
    "id": "TWYgtL5Z9pmW",
    "outputId": "22bde818-61ee-486f-dc44-60ad5193b67f"
   },
   "outputs": [
    {
     "data": {
      "text/plain": [
       "158.99864803055027"
      ]
     },
     "execution_count": 42,
     "metadata": {},
     "output_type": "execute_result"
    }
   ],
   "source": [
    "cv= (sub_df[\"Revenues\"].std()/sub_df[\"Revenues\"].mean()) *100           #to find cv\n",
    "cv"
   ]
  },
  {
   "cell_type": "code",
   "execution_count": 43,
   "metadata": {
    "colab": {
     "base_uri": "https://localhost:8080/"
    },
    "id": "htGozmCw9phc",
    "outputId": "0e5d4a96-27be-477d-a5d2-a64e2e8cd090"
   },
   "outputs": [
    {
     "data": {
      "text/plain": [
       "221.2758313353473"
      ]
     },
     "execution_count": 43,
     "metadata": {},
     "output_type": "execute_result"
    }
   ],
   "source": [
    "cv2= (sub_df[\"Profits\"].std()/sub_df[\"Profits\"].mean()) *100\n",
    "cv2"
   ]
  },
  {
   "cell_type": "code",
   "execution_count": 44,
   "metadata": {
    "colab": {
     "base_uri": "https://localhost:8080/",
     "height": 81
    },
    "id": "bs7YTlo49pfH",
    "outputId": "cbc0792d-1d24-4240-c3ff-498d6a167847"
   },
   "outputs": [
    {
     "data": {
      "text/html": [
       "<div>\n",
       "<style scoped>\n",
       "    .dataframe tbody tr th:only-of-type {\n",
       "        vertical-align: middle;\n",
       "    }\n",
       "\n",
       "    .dataframe tbody tr th {\n",
       "        vertical-align: top;\n",
       "    }\n",
       "\n",
       "    .dataframe thead th {\n",
       "        text-align: right;\n",
       "    }\n",
       "</style>\n",
       "<table border=\"1\" class=\"dataframe\">\n",
       "  <thead>\n",
       "    <tr style=\"text-align: right;\">\n",
       "      <th></th>\n",
       "      <th>Rank</th>\n",
       "      <th>Title</th>\n",
       "      <th>Employees</th>\n",
       "      <th>Sector</th>\n",
       "      <th>Revenues</th>\n",
       "      <th>Profits</th>\n",
       "    </tr>\n",
       "  </thead>\n",
       "  <tbody>\n",
       "    <tr>\n",
       "      <th>216</th>\n",
       "      <td>217</td>\n",
       "      <td>Western Digital</td>\n",
       "      <td>72878</td>\n",
       "      <td>Technology</td>\n",
       "      <td>12994</td>\n",
       "      <td>242.0</td>\n",
       "    </tr>\n",
       "    <tr>\n",
       "      <th>233</th>\n",
       "      <td>234</td>\n",
       "      <td>Consolidated Edison</td>\n",
       "      <td>14960</td>\n",
       "      <td>Energy</td>\n",
       "      <td>12075</td>\n",
       "      <td>1245.0</td>\n",
       "    </tr>\n",
       "    <tr>\n",
       "      <th>141</th>\n",
       "      <td>142</td>\n",
       "      <td>Penske Automotive Group</td>\n",
       "      <td>24000</td>\n",
       "      <td>Retailing</td>\n",
       "      <td>20143</td>\n",
       "      <td>342.9</td>\n",
       "    </tr>\n",
       "    <tr>\n",
       "      <th>87</th>\n",
       "      <td>88</td>\n",
       "      <td>Nike</td>\n",
       "      <td>70700</td>\n",
       "      <td>Apparel</td>\n",
       "      <td>32376</td>\n",
       "      <td>3760.0</td>\n",
       "    </tr>\n",
       "    <tr>\n",
       "      <th>258</th>\n",
       "      <td>259</td>\n",
       "      <td>Jacobs Engineering Group</td>\n",
       "      <td>49350</td>\n",
       "      <td>Engineering &amp; Construction</td>\n",
       "      <td>10964</td>\n",
       "      <td>210.5</td>\n",
       "    </tr>\n",
       "    <tr>\n",
       "      <th>53</th>\n",
       "      <td>54</td>\n",
       "      <td>Pfizer</td>\n",
       "      <td>96500</td>\n",
       "      <td>Health Care</td>\n",
       "      <td>52824</td>\n",
       "      <td>7215.0</td>\n",
       "    </tr>\n",
       "    <tr>\n",
       "      <th>83</th>\n",
       "      <td>84</td>\n",
       "      <td>Allstate</td>\n",
       "      <td>43275</td>\n",
       "      <td>Financials</td>\n",
       "      <td>36534</td>\n",
       "      <td>1877.0</td>\n",
       "    </tr>\n",
       "    <tr>\n",
       "      <th>188</th>\n",
       "      <td>189</td>\n",
       "      <td>INTL FCStone</td>\n",
       "      <td>1464</td>\n",
       "      <td>Financials</td>\n",
       "      <td>14755</td>\n",
       "      <td>54.7</td>\n",
       "    </tr>\n",
       "    <tr>\n",
       "      <th>90</th>\n",
       "      <td>91</td>\n",
       "      <td>Rite Aid</td>\n",
       "      <td>70580</td>\n",
       "      <td>Food &amp; Drug Stores</td>\n",
       "      <td>30737</td>\n",
       "      <td>165.5</td>\n",
       "    </tr>\n",
       "    <tr>\n",
       "      <th>380</th>\n",
       "      <td>381</td>\n",
       "      <td>Leidos Holdings</td>\n",
       "      <td>32000</td>\n",
       "      <td>Technology</td>\n",
       "      <td>7043</td>\n",
       "      <td>244.0</td>\n",
       "    </tr>\n",
       "  </tbody>\n",
       "</table>\n",
       "</div>"
      ],
      "text/plain": [
       "     Rank                     Title  Employees                      Sector  \\\n",
       "216   217           Western Digital      72878                  Technology   \n",
       "233   234       Consolidated Edison      14960                      Energy   \n",
       "141   142   Penske Automotive Group      24000                   Retailing   \n",
       "87     88                      Nike      70700                     Apparel   \n",
       "258   259  Jacobs Engineering Group      49350  Engineering & Construction   \n",
       "53     54                    Pfizer      96500                 Health Care   \n",
       "83     84                  Allstate      43275                  Financials   \n",
       "188   189              INTL FCStone       1464                  Financials   \n",
       "90     91                  Rite Aid      70580          Food & Drug Stores   \n",
       "380   381           Leidos Holdings      32000                  Technology   \n",
       "\n",
       "     Revenues  Profits  \n",
       "216     12994    242.0  \n",
       "233     12075   1245.0  \n",
       "141     20143    342.9  \n",
       "87      32376   3760.0  \n",
       "258     10964    210.5  \n",
       "53      52824   7215.0  \n",
       "83      36534   1877.0  \n",
       "188     14755     54.7  \n",
       "90      30737    165.5  \n",
       "380      7043    244.0  "
      ]
     },
     "execution_count": 44,
     "metadata": {},
     "output_type": "execute_result"
    }
   ],
   "source": [
    "sub_df.sample(frac =0.020)            #sample means any randome data from the dataset to use instead of using whole data"
   ]
  },
  {
   "cell_type": "code",
   "execution_count": 45,
   "metadata": {
    "colab": {
     "base_uri": "https://localhost:8080/"
    },
    "id": "o5x2TQtTDTsV",
    "outputId": "18283e6f-f902-4b18-c250-f786564a6438"
   },
   "outputs": [
    {
     "name": "stdout",
     "output_type": "stream",
     "text": [
      "24044.977142857144\n"
     ]
    }
   ],
   "source": [
    "df_sample=sub_df.sample(frac =0.70, random_state =0)\n",
    "mean_2= df_sample[\"Revenues\"].mean()\n",
    "print(mean_2)"
   ]
  },
  {
   "cell_type": "code",
   "execution_count": 46,
   "metadata": {
    "id": "Jb-OH6fyDTp-"
   },
   "outputs": [],
   "source": [
    "Que1= \"\"\"Select 70 % random rows from the dataset and condider this as a sample. calculate mean \n",
    "of this sample with respect to profit column. repeat the process 5 times\n",
    "# Comute the difference between actual mean and each of the sample mean seperately,tabulate your observations.\"\"\""
   ]
  },
  {
   "cell_type": "code",
   "execution_count": 47,
   "metadata": {
    "colab": {
     "base_uri": "https://localhost:8080/",
     "height": 1000
    },
    "id": "cfoeuJAjrO-Z",
    "outputId": "a4e8a578-a027-4ba3-d7b5-148d8b542287"
   },
   "outputs": [
    {
     "data": {
      "text/html": [
       "<div>\n",
       "<style scoped>\n",
       "    .dataframe tbody tr th:only-of-type {\n",
       "        vertical-align: middle;\n",
       "    }\n",
       "\n",
       "    .dataframe tbody tr th {\n",
       "        vertical-align: top;\n",
       "    }\n",
       "\n",
       "    .dataframe thead th {\n",
       "        text-align: right;\n",
       "    }\n",
       "</style>\n",
       "<table border=\"1\" class=\"dataframe\">\n",
       "  <thead>\n",
       "    <tr style=\"text-align: right;\">\n",
       "      <th></th>\n",
       "      <th>Rank</th>\n",
       "      <th>Title</th>\n",
       "      <th>Employees</th>\n",
       "      <th>Sector</th>\n",
       "      <th>Revenues</th>\n",
       "      <th>Profits</th>\n",
       "    </tr>\n",
       "  </thead>\n",
       "  <tbody>\n",
       "    <tr>\n",
       "      <th>276</th>\n",
       "      <td>277</td>\n",
       "      <td>Discover Financial Services</td>\n",
       "      <td>15549</td>\n",
       "      <td>Financials</td>\n",
       "      <td>10497</td>\n",
       "      <td>2393.0</td>\n",
       "    </tr>\n",
       "    <tr>\n",
       "      <th>90</th>\n",
       "      <td>91</td>\n",
       "      <td>Rite Aid</td>\n",
       "      <td>70580</td>\n",
       "      <td>Food &amp; Drug Stores</td>\n",
       "      <td>30737</td>\n",
       "      <td>165.5</td>\n",
       "    </tr>\n",
       "    <tr>\n",
       "      <th>281</th>\n",
       "      <td>282</td>\n",
       "      <td>W.W. Grainger</td>\n",
       "      <td>25000</td>\n",
       "      <td>Wholesalers</td>\n",
       "      <td>10137</td>\n",
       "      <td>605.9</td>\n",
       "    </tr>\n",
       "    <tr>\n",
       "      <th>297</th>\n",
       "      <td>298</td>\n",
       "      <td>Corning</td>\n",
       "      <td>40700</td>\n",
       "      <td>Industrials</td>\n",
       "      <td>9390</td>\n",
       "      <td>3695.0</td>\n",
       "    </tr>\n",
       "    <tr>\n",
       "      <th>421</th>\n",
       "      <td>422</td>\n",
       "      <td>Yum Brands</td>\n",
       "      <td>90000</td>\n",
       "      <td>Hotels, Restaurants &amp; Leisure</td>\n",
       "      <td>6366</td>\n",
       "      <td>1619.0</td>\n",
       "    </tr>\n",
       "    <tr>\n",
       "      <th>410</th>\n",
       "      <td>411</td>\n",
       "      <td>American Financial Group</td>\n",
       "      <td>7600</td>\n",
       "      <td>Financials</td>\n",
       "      <td>6498</td>\n",
       "      <td>649.0</td>\n",
       "    </tr>\n",
       "    <tr>\n",
       "      <th>277</th>\n",
       "      <td>278</td>\n",
       "      <td>Occidental Petroleum</td>\n",
       "      <td>11000</td>\n",
       "      <td>Energy</td>\n",
       "      <td>10398</td>\n",
       "      <td>-574.0</td>\n",
       "    </tr>\n",
       "    <tr>\n",
       "      <th>406</th>\n",
       "      <td>407</td>\n",
       "      <td>J.B. Hunt Transport Services</td>\n",
       "      <td>22190</td>\n",
       "      <td>Transportation</td>\n",
       "      <td>6556</td>\n",
       "      <td>432.1</td>\n",
       "    </tr>\n",
       "    <tr>\n",
       "      <th>104</th>\n",
       "      <td>105</td>\n",
       "      <td>Deere</td>\n",
       "      <td>56767</td>\n",
       "      <td>Industrials</td>\n",
       "      <td>26644</td>\n",
       "      <td>1523.9</td>\n",
       "    </tr>\n",
       "    <tr>\n",
       "      <th>491</th>\n",
       "      <td>492</td>\n",
       "      <td>Rockwell Collins</td>\n",
       "      <td>19000</td>\n",
       "      <td>Aerospace &amp; Defense</td>\n",
       "      <td>5259</td>\n",
       "      <td>728.0</td>\n",
       "    </tr>\n",
       "    <tr>\n",
       "      <th>7</th>\n",
       "      <td>8</td>\n",
       "      <td>General Motors</td>\n",
       "      <td>225000</td>\n",
       "      <td>Motor Vehicles &amp; Parts</td>\n",
       "      <td>166380</td>\n",
       "      <td>9427.0</td>\n",
       "    </tr>\n",
       "    <tr>\n",
       "      <th>245</th>\n",
       "      <td>246</td>\n",
       "      <td>Reinsurance Group of America</td>\n",
       "      <td>2371</td>\n",
       "      <td>Financials</td>\n",
       "      <td>11522</td>\n",
       "      <td>701.4</td>\n",
       "    </tr>\n",
       "    <tr>\n",
       "      <th>123</th>\n",
       "      <td>124</td>\n",
       "      <td>US Foods Holding</td>\n",
       "      <td>25000</td>\n",
       "      <td>Wholesalers</td>\n",
       "      <td>22919</td>\n",
       "      <td>209.8</td>\n",
       "    </tr>\n",
       "    <tr>\n",
       "      <th>344</th>\n",
       "      <td>345</td>\n",
       "      <td>Interpublic Group</td>\n",
       "      <td>49800</td>\n",
       "      <td>Business Services</td>\n",
       "      <td>7847</td>\n",
       "      <td>608.5</td>\n",
       "    </tr>\n",
       "    <tr>\n",
       "      <th>301</th>\n",
       "      <td>302</td>\n",
       "      <td>Pacific Life</td>\n",
       "      <td>3628</td>\n",
       "      <td>Financials</td>\n",
       "      <td>9169</td>\n",
       "      <td>824.0</td>\n",
       "    </tr>\n",
       "    <tr>\n",
       "      <th>184</th>\n",
       "      <td>185</td>\n",
       "      <td>Synchrony Financial</td>\n",
       "      <td>15000</td>\n",
       "      <td>Financials</td>\n",
       "      <td>15122</td>\n",
       "      <td>2251.0</td>\n",
       "    </tr>\n",
       "    <tr>\n",
       "      <th>127</th>\n",
       "      <td>128</td>\n",
       "      <td>Dollar General</td>\n",
       "      <td>121000</td>\n",
       "      <td>Retailing</td>\n",
       "      <td>21987</td>\n",
       "      <td>1251.1</td>\n",
       "    </tr>\n",
       "    <tr>\n",
       "      <th>192</th>\n",
       "      <td>193</td>\n",
       "      <td>CBS</td>\n",
       "      <td>18410</td>\n",
       "      <td>Media</td>\n",
       "      <td>14386</td>\n",
       "      <td>1261.0</td>\n",
       "    </tr>\n",
       "    <tr>\n",
       "      <th>320</th>\n",
       "      <td>321</td>\n",
       "      <td>GameStop</td>\n",
       "      <td>41750</td>\n",
       "      <td>Retailing</td>\n",
       "      <td>8608</td>\n",
       "      <td>353.2</td>\n",
       "    </tr>\n",
       "    <tr>\n",
       "      <th>77</th>\n",
       "      <td>78</td>\n",
       "      <td>Goldman Sachs Group</td>\n",
       "      <td>34400</td>\n",
       "      <td>Financials</td>\n",
       "      <td>37712</td>\n",
       "      <td>7398.0</td>\n",
       "    </tr>\n",
       "    <tr>\n",
       "      <th>217</th>\n",
       "      <td>218</td>\n",
       "      <td>Guardian Life Ins. Co. of America</td>\n",
       "      <td>8876</td>\n",
       "      <td>Financials</td>\n",
       "      <td>12919</td>\n",
       "      <td>263.9</td>\n",
       "    </tr>\n",
       "    <tr>\n",
       "      <th>228</th>\n",
       "      <td>229</td>\n",
       "      <td>NRG Energy</td>\n",
       "      <td>8763</td>\n",
       "      <td>Energy</td>\n",
       "      <td>12351</td>\n",
       "      <td>-774.0</td>\n",
       "    </tr>\n",
       "    <tr>\n",
       "      <th>199</th>\n",
       "      <td>200</td>\n",
       "      <td>Textron</td>\n",
       "      <td>36000</td>\n",
       "      <td>Aerospace &amp; Defense</td>\n",
       "      <td>13788</td>\n",
       "      <td>962.0</td>\n",
       "    </tr>\n",
       "    <tr>\n",
       "      <th>313</th>\n",
       "      <td>314</td>\n",
       "      <td>Netflix</td>\n",
       "      <td>3850</td>\n",
       "      <td>Technology</td>\n",
       "      <td>8831</td>\n",
       "      <td>186.7</td>\n",
       "    </tr>\n",
       "    <tr>\n",
       "      <th>430</th>\n",
       "      <td>431</td>\n",
       "      <td>Ameren</td>\n",
       "      <td>8629</td>\n",
       "      <td>Energy</td>\n",
       "      <td>6076</td>\n",
       "      <td>653.0</td>\n",
       "    </tr>\n",
       "    <tr>\n",
       "      <th>367</th>\n",
       "      <td>368</td>\n",
       "      <td>WEC Energy Group</td>\n",
       "      <td>8074</td>\n",
       "      <td>Energy</td>\n",
       "      <td>7472</td>\n",
       "      <td>939.0</td>\n",
       "    </tr>\n",
       "    <tr>\n",
       "      <th>353</th>\n",
       "      <td>354</td>\n",
       "      <td>W.R. Berkley</td>\n",
       "      <td>7608</td>\n",
       "      <td>Financials</td>\n",
       "      <td>7654</td>\n",
       "      <td>601.9</td>\n",
       "    </tr>\n",
       "    <tr>\n",
       "      <th>414</th>\n",
       "      <td>415</td>\n",
       "      <td>CalAtlantic Group</td>\n",
       "      <td>3055</td>\n",
       "      <td>Engineering &amp; Construction</td>\n",
       "      <td>6477</td>\n",
       "      <td>484.7</td>\n",
       "    </tr>\n",
       "    <tr>\n",
       "      <th>145</th>\n",
       "      <td>146</td>\n",
       "      <td>ManpowerGroup</td>\n",
       "      <td>28000</td>\n",
       "      <td>Business Services</td>\n",
       "      <td>19654</td>\n",
       "      <td>443.7</td>\n",
       "    </tr>\n",
       "    <tr>\n",
       "      <th>431</th>\n",
       "      <td>432</td>\n",
       "      <td>Hanesbrands</td>\n",
       "      <td>67800</td>\n",
       "      <td>Apparel</td>\n",
       "      <td>6063</td>\n",
       "      <td>539.4</td>\n",
       "    </tr>\n",
       "    <tr>\n",
       "      <th>475</th>\n",
       "      <td>476</td>\n",
       "      <td>Cincinnati Financial</td>\n",
       "      <td>4754</td>\n",
       "      <td>Financials</td>\n",
       "      <td>5449</td>\n",
       "      <td>590.7</td>\n",
       "    </tr>\n",
       "    <tr>\n",
       "      <th>103</th>\n",
       "      <td>104</td>\n",
       "      <td>Philip Morris International</td>\n",
       "      <td>79500</td>\n",
       "      <td>Food, Beverages &amp; Tobacco</td>\n",
       "      <td>26685</td>\n",
       "      <td>6967.0</td>\n",
       "    </tr>\n",
       "    <tr>\n",
       "      <th>13</th>\n",
       "      <td>14</td>\n",
       "      <td>Verizon</td>\n",
       "      <td>160900</td>\n",
       "      <td>Telecommunications</td>\n",
       "      <td>125980</td>\n",
       "      <td>13127.0</td>\n",
       "    </tr>\n",
       "    <tr>\n",
       "      <th>194</th>\n",
       "      <td>195</td>\n",
       "      <td>WellCare Health Plans</td>\n",
       "      <td>7400</td>\n",
       "      <td>Health Care</td>\n",
       "      <td>14237</td>\n",
       "      <td>242.1</td>\n",
       "    </tr>\n",
       "    <tr>\n",
       "      <th>370</th>\n",
       "      <td>371</td>\n",
       "      <td>Ralph Lauren</td>\n",
       "      <td>20500</td>\n",
       "      <td>Apparel</td>\n",
       "      <td>7405</td>\n",
       "      <td>396.0</td>\n",
       "    </tr>\n",
       "  </tbody>\n",
       "</table>\n",
       "</div>"
      ],
      "text/plain": [
       "     Rank                              Title  Employees  \\\n",
       "276   277        Discover Financial Services      15549   \n",
       "90     91                           Rite Aid      70580   \n",
       "281   282                      W.W. Grainger      25000   \n",
       "297   298                            Corning      40700   \n",
       "421   422                         Yum Brands      90000   \n",
       "410   411           American Financial Group       7600   \n",
       "277   278               Occidental Petroleum      11000   \n",
       "406   407       J.B. Hunt Transport Services      22190   \n",
       "104   105                              Deere      56767   \n",
       "491   492                   Rockwell Collins      19000   \n",
       "7       8                     General Motors     225000   \n",
       "245   246       Reinsurance Group of America       2371   \n",
       "123   124                   US Foods Holding      25000   \n",
       "344   345                  Interpublic Group      49800   \n",
       "301   302                       Pacific Life       3628   \n",
       "184   185                Synchrony Financial      15000   \n",
       "127   128                     Dollar General     121000   \n",
       "192   193                                CBS      18410   \n",
       "320   321                           GameStop      41750   \n",
       "77     78                Goldman Sachs Group      34400   \n",
       "217   218  Guardian Life Ins. Co. of America       8876   \n",
       "228   229                         NRG Energy       8763   \n",
       "199   200                            Textron      36000   \n",
       "313   314                            Netflix       3850   \n",
       "430   431                             Ameren       8629   \n",
       "367   368                   WEC Energy Group       8074   \n",
       "353   354                       W.R. Berkley       7608   \n",
       "414   415                  CalAtlantic Group       3055   \n",
       "145   146                      ManpowerGroup      28000   \n",
       "431   432                        Hanesbrands      67800   \n",
       "475   476               Cincinnati Financial       4754   \n",
       "103   104        Philip Morris International      79500   \n",
       "13     14                            Verizon     160900   \n",
       "194   195              WellCare Health Plans       7400   \n",
       "370   371                       Ralph Lauren      20500   \n",
       "\n",
       "                            Sector  Revenues  Profits  \n",
       "276                     Financials     10497   2393.0  \n",
       "90              Food & Drug Stores     30737    165.5  \n",
       "281                    Wholesalers     10137    605.9  \n",
       "297                    Industrials      9390   3695.0  \n",
       "421  Hotels, Restaurants & Leisure      6366   1619.0  \n",
       "410                     Financials      6498    649.0  \n",
       "277                         Energy     10398   -574.0  \n",
       "406                 Transportation      6556    432.1  \n",
       "104                    Industrials     26644   1523.9  \n",
       "491            Aerospace & Defense      5259    728.0  \n",
       "7           Motor Vehicles & Parts    166380   9427.0  \n",
       "245                     Financials     11522    701.4  \n",
       "123                    Wholesalers     22919    209.8  \n",
       "344              Business Services      7847    608.5  \n",
       "301                     Financials      9169    824.0  \n",
       "184                     Financials     15122   2251.0  \n",
       "127                      Retailing     21987   1251.1  \n",
       "192                          Media     14386   1261.0  \n",
       "320                      Retailing      8608    353.2  \n",
       "77                      Financials     37712   7398.0  \n",
       "217                     Financials     12919    263.9  \n",
       "228                         Energy     12351   -774.0  \n",
       "199            Aerospace & Defense     13788    962.0  \n",
       "313                     Technology      8831    186.7  \n",
       "430                         Energy      6076    653.0  \n",
       "367                         Energy      7472    939.0  \n",
       "353                     Financials      7654    601.9  \n",
       "414     Engineering & Construction      6477    484.7  \n",
       "145              Business Services     19654    443.7  \n",
       "431                        Apparel      6063    539.4  \n",
       "475                     Financials      5449    590.7  \n",
       "103      Food, Beverages & Tobacco     26685   6967.0  \n",
       "13              Telecommunications    125980  13127.0  \n",
       "194                    Health Care     14237    242.1  \n",
       "370                        Apparel      7405    396.0  "
      ]
     },
     "execution_count": 47,
     "metadata": {},
     "output_type": "execute_result"
    }
   ],
   "source": [
    " sub_df.sample(frac =0.070)"
   ]
  },
  {
   "cell_type": "code",
   "execution_count": 48,
   "metadata": {
    "colab": {
     "base_uri": "https://localhost:8080/"
    },
    "id": "q_e1YBoUu3XG",
    "outputId": "c3f7ba15-7a9e-477a-e890-1a8d0d79d74f"
   },
   "outputs": [
    {
     "data": {
      "text/plain": [
       "1779.4797999999998"
      ]
     },
     "execution_count": 48,
     "metadata": {},
     "output_type": "execute_result"
    }
   ],
   "source": [
    "mean_profit= sub_df[\"Profits\"].mean()\n",
    "mean_profit"
   ]
  },
  {
   "cell_type": "code",
   "execution_count": 49,
   "metadata": {
    "colab": {
     "base_uri": "https://localhost:8080/"
    },
    "id": "H6_NqmIQrO5F",
    "outputId": "ae66a465-3e8a-4244-c885-19ec7f21ad39"
   },
   "outputs": [
    {
     "name": "stdout",
     "output_type": "stream",
     "text": [
      "1240.4000000000003\n"
     ]
    }
   ],
   "source": [
    "sam1=  sub_df.sample(frac =0.070 ,random_state=0)\n",
    "mean_pro2= sam1[\"Profits\"].mean()\n",
    "print(mean_pro2)"
   ]
  },
  {
   "cell_type": "code",
   "execution_count": 50,
   "metadata": {
    "colab": {
     "base_uri": "https://localhost:8080/"
    },
    "id": "VU3NBRYurO29",
    "outputId": "c91f3982-d889-4944-ca2d-af4de1cf62b8"
   },
   "outputs": [
    {
     "name": "stdout",
     "output_type": "stream",
     "text": [
      "1527.8828571428571\n"
     ]
    }
   ],
   "source": [
    " df_sam3= sub_df.sample(frac =0.070,random_state=1)\n",
    " mean_pro3= df_sam3[\"Profits\"].mean()\n",
    " print(mean_pro3)"
   ]
  },
  {
   "cell_type": "code",
   "execution_count": 51,
   "metadata": {
    "colab": {
     "base_uri": "https://localhost:8080/"
    },
    "id": "72X4YZk9rOyg",
    "outputId": "300cc18e-e032-4f24-b3ae-80ae974adbdd"
   },
   "outputs": [
    {
     "name": "stdout",
     "output_type": "stream",
     "text": [
      "1934.008571428571\n"
     ]
    }
   ],
   "source": [
    " df_sam4= sub_df.sample(frac =0.070,random_state=2)\n",
    " mean_pro4= df_sam4[\"Profits\"].mean()\n",
    " print(mean_pro4)"
   ]
  },
  {
   "cell_type": "code",
   "execution_count": 52,
   "metadata": {
    "colab": {
     "base_uri": "https://localhost:8080/"
    },
    "id": "dHytBsexrOvz",
    "outputId": "814c2e59-08bb-4bac-a253-45f560351cd2"
   },
   "outputs": [
    {
     "name": "stdout",
     "output_type": "stream",
     "text": [
      "1462.6142857142856\n"
     ]
    }
   ],
   "source": [
    " df_sam5= sub_df.sample(frac =0.070,random_state=3)\n",
    " mean_pro5= df_sam5[\"Profits\"].mean()\n",
    " print(mean_pro5)"
   ]
  },
  {
   "cell_type": "code",
   "execution_count": 53,
   "metadata": {
    "colab": {
     "base_uri": "https://localhost:8080/"
    },
    "id": "MbC21-2vvgUg",
    "outputId": "de71091c-4d7b-4ffa-8594-6e7f749be79d"
   },
   "outputs": [
    {
     "name": "stdout",
     "output_type": "stream",
     "text": [
      "2303.3800000000006\n"
     ]
    }
   ],
   "source": [
    " df_sam6= sub_df.sample(frac =0.070,random_state=4)\n",
    " mean_pro6= df_sam6[\"Profits\"].mean()\n",
    " print(mean_pro6)"
   ]
  },
  {
   "cell_type": "code",
   "execution_count": 54,
   "metadata": {
    "colab": {
     "base_uri": "https://localhost:8080/"
    },
    "id": "igzW_iUNwAV-",
    "outputId": "4fddc1bd-e5fd-4f68-d484-ccc815d9abc6"
   },
   "outputs": [
    {
     "name": "stdout",
     "output_type": "stream",
     "text": [
      "539.0797999999995\n"
     ]
    }
   ],
   "source": [
    "diff_1 =(mean_profit - mean_pro2)\n",
    "print(diff_1)"
   ]
  },
  {
   "cell_type": "code",
   "execution_count": 55,
   "metadata": {
    "colab": {
     "base_uri": "https://localhost:8080/"
    },
    "id": "VYIJUGHJwAMy",
    "outputId": "4f0cbc86-a9ca-4dc8-b088-9567695b64be"
   },
   "outputs": [
    {
     "name": "stdout",
     "output_type": "stream",
     "text": [
      "251.59694285714272\n"
     ]
    }
   ],
   "source": [
    "diff_2 =(mean_profit - mean_pro3)\n",
    "print(diff_2)"
   ]
  },
  {
   "cell_type": "code",
   "execution_count": 56,
   "metadata": {
    "colab": {
     "base_uri": "https://localhost:8080/"
    },
    "id": "vU3NmzlWy4EC",
    "outputId": "0ae7b0d7-caf7-4418-d371-35e8dfcbfc83"
   },
   "outputs": [
    {
     "name": "stdout",
     "output_type": "stream",
     "text": [
      "-154.5287714285712\n"
     ]
    }
   ],
   "source": [
    "diff_3 =(mean_profit - mean_pro4)\n",
    "print(diff_3)"
   ]
  },
  {
   "cell_type": "code",
   "execution_count": 57,
   "metadata": {
    "colab": {
     "base_uri": "https://localhost:8080/"
    },
    "id": "eGQFqLE3y4Bk",
    "outputId": "d545fed4-bcf2-4321-f235-f3c5ccc3182a"
   },
   "outputs": [
    {
     "name": "stdout",
     "output_type": "stream",
     "text": [
      "316.8655142857142\n"
     ]
    }
   ],
   "source": [
    "diff_4 =(mean_profit - mean_pro5)\n",
    "print(diff_4)"
   ]
  },
  {
   "cell_type": "code",
   "execution_count": 58,
   "metadata": {
    "colab": {
     "base_uri": "https://localhost:8080/"
    },
    "id": "YO7haEM6y373",
    "outputId": "e3a49423-1ed0-474d-cd07-ba36cfd7ec9e"
   },
   "outputs": [
    {
     "name": "stdout",
     "output_type": "stream",
     "text": [
      "-523.9002000000007\n"
     ]
    }
   ],
   "source": [
    "diff_5 =(mean_profit - mean_pro6)\n",
    "print(diff_5)"
   ]
  },
  {
   "cell_type": "code",
   "execution_count": 59,
   "metadata": {},
   "outputs": [],
   "source": [
    "#Outliers"
   ]
  },
  {
   "cell_type": "code",
   "execution_count": 60,
   "metadata": {
    "colab": {
     "base_uri": "https://localhost:8080/"
    },
    "id": "kFl9k536DvRE",
    "outputId": "0f1a1c56-4a89-4033-ea42-5ab107ef59f4"
   },
   "outputs": [
    {
     "data": {
      "text/plain": [
       "15360.25"
      ]
     },
     "execution_count": 60,
     "metadata": {},
     "output_type": "execute_result"
    }
   ],
   "source": [
    "iqr_new= sub_df[\"Revenues\"].quantile(0.75)-sub_df[\"Revenues\"].quantile(0.25)\n",
    "iqr_new"
   ]
  },
  {
   "cell_type": "code",
   "execution_count": 61,
   "metadata": {
    "colab": {
     "base_uri": "https://localhost:8080/"
    },
    "id": "JfzzX3XCDvOW",
    "outputId": "607ac60b-b9fc-44d4-b585-64a3d3b7ec71"
   },
   "outputs": [
    {
     "data": {
      "text/plain": [
       "45645.625"
      ]
     },
     "execution_count": 61,
     "metadata": {},
     "output_type": "execute_result"
    }
   ],
   "source": [
    "upper_limit= sub_df[\"Revenues\"].quantile(0.75)+1.5*iqr_new\n",
    "upper_limit"
   ]
  },
  {
   "cell_type": "code",
   "execution_count": 62,
   "metadata": {
    "colab": {
     "base_uri": "https://localhost:8080/"
    },
    "id": "aWTZ_tO_DvFM",
    "outputId": "8a4f0415-5ba0-41d7-a592-334afa0ef771"
   },
   "outputs": [
    {
     "data": {
      "text/plain": [
       "-15795.375"
      ]
     },
     "execution_count": 62,
     "metadata": {},
     "output_type": "execute_result"
    }
   ],
   "source": [
    "lower_limit=sub_df[\"Revenues\"].quantile(0.25)-1.5*iqr_new\n",
    "lower_limit"
   ]
  },
  {
   "cell_type": "code",
   "execution_count": 63,
   "metadata": {
    "colab": {
     "base_uri": "https://localhost:8080/"
    },
    "id": "SI1Td9V6DvCv",
    "outputId": "f14760b0-e115-4854-9a6d-26f1743833ec"
   },
   "outputs": [
    {
     "name": "stdout",
     "output_type": "stream",
     "text": [
      "Outliers Rows\n",
      "    Rank                       Title  Employees          Sector  Revenues  \\\n",
      "0      1                     Walmart    2300000       Retailing    485873   \n",
      "1      2          Berkshire Hathaway     367700      Financials    223604   \n",
      "2      3                       Apple     116000      Technology    215639   \n",
      "3      4                 Exxon Mobil      72700          Energy    205004   \n",
      "4      5                    McKesson      68000     Wholesalers    192487   \n",
      "..   ...                         ...        ...             ...       ...   \n",
      "57    58                       FedEx     335767  Transportation     50365   \n",
      "58    59  Hewlett Packard Enterprise     195000      Technology     50123   \n",
      "59    60               Cisco Systems      73700      Technology     49247   \n",
      "60    61                          HP      49000      Technology     48238   \n",
      "61    62                Dow Chemical      56000       Chemicals     48158   \n",
      "\n",
      "    Profits  \n",
      "0   13643.0  \n",
      "1   24074.0  \n",
      "2   45687.0  \n",
      "3    7840.0  \n",
      "4    2258.0  \n",
      "..      ...  \n",
      "57   1820.0  \n",
      "58   3161.0  \n",
      "59  10739.0  \n",
      "60   2496.0  \n",
      "61   4318.0  \n",
      "\n",
      "[62 rows x 6 columns]\n"
     ]
    }
   ],
   "source": [
    "### outliers are those values which reside outside of the lower and upper limits boundries\n",
    "outliers = sub_df[(sub_df['Revenues']>upper_limit) |\n",
    "                  (sub_df['Revenues']<lower_limit)]\n",
    "print(\"Outliers Rows\")\n",
    "print(outliers)"
   ]
  },
  {
   "cell_type": "code",
   "execution_count": 64,
   "metadata": {
    "colab": {
     "base_uri": "https://localhost:8080/"
    },
    "id": "-0mA92YMDu7s",
    "outputId": "8af8cb4b-7485-48fc-9a9a-0031cf5e7253"
   },
   "outputs": [
    {
     "data": {
      "text/plain": [
       "1535.0500000000002"
      ]
     },
     "execution_count": 64,
     "metadata": {},
     "output_type": "execute_result"
    }
   ],
   "source": [
    "iqr_new2= sub_df[\"Profits\"].quantile(0.75)-sub_df[\"Profits\"].quantile(0.25)\n",
    "iqr_new2"
   ]
  },
  {
   "cell_type": "code",
   "execution_count": 65,
   "metadata": {
    "colab": {
     "base_uri": "https://localhost:8080/"
    },
    "id": "v7YIsICNL1bY",
    "outputId": "125d0442-f804-49f0-df34-7b9b47ef156e"
   },
   "outputs": [
    {
     "data": {
      "text/plain": [
       "4073.3500000000004"
      ]
     },
     "execution_count": 65,
     "metadata": {},
     "output_type": "execute_result"
    }
   ],
   "source": [
    "upper_limit2= sub_df[\"Profits\"].quantile(0.75)+1.5*iqr_new2\n",
    "upper_limit2"
   ]
  },
  {
   "cell_type": "code",
   "execution_count": 66,
   "metadata": {
    "colab": {
     "base_uri": "https://localhost:8080/"
    },
    "id": "sD8c0uQZL1Y3",
    "outputId": "41490f2b-7650-4012-d9df-bca9453d031d"
   },
   "outputs": [
    {
     "data": {
      "text/plain": [
       "-2066.8500000000004"
      ]
     },
     "execution_count": 66,
     "metadata": {},
     "output_type": "execute_result"
    }
   ],
   "source": [
    "lower_limit2=sub_df[\"Profits\"].quantile(0.25)-1.5*iqr_new2\n",
    "lower_limit2"
   ]
  },
  {
   "cell_type": "code",
   "execution_count": 67,
   "metadata": {
    "colab": {
     "base_uri": "https://localhost:8080/"
    },
    "id": "tLVHFLrhL1Wh",
    "outputId": "048817f6-13fe-4968-e06d-42ac1b6f8a7c"
   },
   "outputs": [
    {
     "name": "stdout",
     "output_type": "stream",
     "text": [
      "Outliers Rows\n",
      "     Rank                   Title  Employees       Sector  Revenues  Profits\n",
      "0       1                 Walmart    2300000    Retailing    485873  13643.0\n",
      "1       2      Berkshire Hathaway     367700   Financials    223604  24074.0\n",
      "2       3                   Apple     116000   Technology    215639  45687.0\n",
      "3       4             Exxon Mobil      72700       Energy    205004   7840.0\n",
      "5       6      UnitedHealth Group     230000  Health Care    184840   7017.0\n",
      "..    ...                     ...        ...          ...       ...      ...\n",
      "284   285            Baker Hughes      33000       Energy      9841  -2738.0\n",
      "309   310                    eBay      12600   Technology      8979   7266.0\n",
      "342   343       Chesapeake Energy       3300       Energy      7872  -4401.0\n",
      "343   344      Anadarko Petroleum       4500       Energy      7869  -3071.0\n",
      "374   375  National Oilwell Varco      36384       Energy      7251  -2412.0\n",
      "\n",
      "[68 rows x 6 columns]\n"
     ]
    }
   ],
   "source": [
    "outliers2 = sub_df[(sub_df['Profits']>upper_limit2) |\n",
    "                  (sub_df['Profits']<lower_limit2)]\n",
    "print(\"Outliers Rows\")\n",
    "print(outliers2)"
   ]
  },
  {
   "cell_type": "markdown",
   "metadata": {
    "id": "pBemeGIzLbxa"
   },
   "source": [
    "# **Karl pearson(r)&Spearman(R)**"
   ]
  },
  {
   "cell_type": "code",
   "execution_count": 69,
   "metadata": {
    "id": "NU1TLK-AL1Rz"
   },
   "outputs": [],
   "source": [
    "data={\n",
    "    \"height\":[150,160,165,170,175,180,185],\n",
    "    \"weight\":[50,55,60,65,70,75,80]\n",
    "}\n",
    "df=pd.DataFrame(data)"
   ]
  },
  {
   "cell_type": "code",
   "execution_count": 70,
   "metadata": {
    "colab": {
     "base_uri": "https://localhost:8080/",
     "height": 206
    },
    "id": "dJ-8DQVMEyi0",
    "outputId": "fa6740cc-065e-4fdc-b666-7716a1e93b1b"
   },
   "outputs": [
    {
     "data": {
      "text/html": [
       "<div>\n",
       "<style scoped>\n",
       "    .dataframe tbody tr th:only-of-type {\n",
       "        vertical-align: middle;\n",
       "    }\n",
       "\n",
       "    .dataframe tbody tr th {\n",
       "        vertical-align: top;\n",
       "    }\n",
       "\n",
       "    .dataframe thead th {\n",
       "        text-align: right;\n",
       "    }\n",
       "</style>\n",
       "<table border=\"1\" class=\"dataframe\">\n",
       "  <thead>\n",
       "    <tr style=\"text-align: right;\">\n",
       "      <th></th>\n",
       "      <th>height</th>\n",
       "      <th>weight</th>\n",
       "    </tr>\n",
       "  </thead>\n",
       "  <tbody>\n",
       "    <tr>\n",
       "      <th>0</th>\n",
       "      <td>150</td>\n",
       "      <td>50</td>\n",
       "    </tr>\n",
       "    <tr>\n",
       "      <th>1</th>\n",
       "      <td>160</td>\n",
       "      <td>55</td>\n",
       "    </tr>\n",
       "    <tr>\n",
       "      <th>2</th>\n",
       "      <td>165</td>\n",
       "      <td>60</td>\n",
       "    </tr>\n",
       "    <tr>\n",
       "      <th>3</th>\n",
       "      <td>170</td>\n",
       "      <td>65</td>\n",
       "    </tr>\n",
       "    <tr>\n",
       "      <th>4</th>\n",
       "      <td>175</td>\n",
       "      <td>70</td>\n",
       "    </tr>\n",
       "  </tbody>\n",
       "</table>\n",
       "</div>"
      ],
      "text/plain": [
       "   height  weight\n",
       "0     150      50\n",
       "1     160      55\n",
       "2     165      60\n",
       "3     170      65\n",
       "4     175      70"
      ]
     },
     "execution_count": 70,
     "metadata": {},
     "output_type": "execute_result"
    }
   ],
   "source": [
    "df.head()"
   ]
  },
  {
   "cell_type": "code",
   "execution_count": 71,
   "metadata": {
    "colab": {
     "base_uri": "https://localhost:8080/"
    },
    "id": "alR-OMztEyeu",
    "outputId": "ec57f751-9517-40bd-9afa-38f2168070b6"
   },
   "outputs": [
    {
     "name": "stdout",
     "output_type": "stream",
     "text": [
      "0.9922858194799439\n"
     ]
    }
   ],
   "source": [
    "correlation=df[\"height\"].corr(df[\"weight\"])\n",
    "print(correlation)                                        #IN CORRELATION IT BY DEFAULT TAKE KALESPEARSON METHOD"
   ]
  },
  {
   "cell_type": "code",
   "execution_count": 72,
   "metadata": {
    "colab": {
     "base_uri": "https://localhost:8080/"
    },
    "id": "1wGvZXZZEyU7",
    "outputId": "f07c8f0c-2df5-49a8-8693-d57ba1987ac0"
   },
   "outputs": [
    {
     "name": "stdout",
     "output_type": "stream",
     "text": [
      "1.0\n"
     ]
    }
   ],
   "source": [
    "correlation=df[\"height\"].corr(df[\"weight\"],method=\"spearman\")\n",
    "print(correlation)         #for using spearman function we have to write method=spearman so the system will get that we want to use spearman formula"
   ]
  },
  {
   "cell_type": "markdown",
   "metadata": {
    "id": "ZHFCtpcssoOr"
   },
   "source": [
    "Find spearman(R)data"
   ]
  },
  {
   "cell_type": "code",
   "execution_count": 74,
   "metadata": {
    "colab": {
     "base_uri": "https://localhost:8080/",
     "height": 206
    },
    "id": "2l_eFR6CL1PV",
    "outputId": "28b19186-4a2e-4de0-aa21-2134b2f65acd"
   },
   "outputs": [
    {
     "data": {
      "text/html": [
       "<div>\n",
       "<style scoped>\n",
       "    .dataframe tbody tr th:only-of-type {\n",
       "        vertical-align: middle;\n",
       "    }\n",
       "\n",
       "    .dataframe tbody tr th {\n",
       "        vertical-align: top;\n",
       "    }\n",
       "\n",
       "    .dataframe thead th {\n",
       "        text-align: right;\n",
       "    }\n",
       "</style>\n",
       "<table border=\"1\" class=\"dataframe\">\n",
       "  <thead>\n",
       "    <tr style=\"text-align: right;\">\n",
       "      <th></th>\n",
       "      <th>height</th>\n",
       "      <th>weight</th>\n",
       "      <th>rank1</th>\n",
       "      <th>rank2</th>\n",
       "    </tr>\n",
       "  </thead>\n",
       "  <tbody>\n",
       "    <tr>\n",
       "      <th>0</th>\n",
       "      <td>150</td>\n",
       "      <td>50</td>\n",
       "      <td>1.0</td>\n",
       "      <td>1.0</td>\n",
       "    </tr>\n",
       "    <tr>\n",
       "      <th>1</th>\n",
       "      <td>160</td>\n",
       "      <td>55</td>\n",
       "      <td>2.0</td>\n",
       "      <td>2.0</td>\n",
       "    </tr>\n",
       "    <tr>\n",
       "      <th>2</th>\n",
       "      <td>165</td>\n",
       "      <td>60</td>\n",
       "      <td>3.0</td>\n",
       "      <td>3.0</td>\n",
       "    </tr>\n",
       "    <tr>\n",
       "      <th>3</th>\n",
       "      <td>170</td>\n",
       "      <td>65</td>\n",
       "      <td>4.0</td>\n",
       "      <td>4.0</td>\n",
       "    </tr>\n",
       "    <tr>\n",
       "      <th>4</th>\n",
       "      <td>175</td>\n",
       "      <td>70</td>\n",
       "      <td>5.0</td>\n",
       "      <td>5.0</td>\n",
       "    </tr>\n",
       "  </tbody>\n",
       "</table>\n",
       "</div>"
      ],
      "text/plain": [
       "   height  weight  rank1  rank2\n",
       "0     150      50    1.0    1.0\n",
       "1     160      55    2.0    2.0\n",
       "2     165      60    3.0    3.0\n",
       "3     170      65    4.0    4.0\n",
       "4     175      70    5.0    5.0"
      ]
     },
     "execution_count": 74,
     "metadata": {},
     "output_type": "execute_result"
    }
   ],
   "source": [
    "df[\"rank1\"]= df[\"height\"].rank()    #(r1-r2)\n",
    "df[\"rank2\"]= df[\"weight\"].rank()\n",
    "df.head()"
   ]
  },
  {
   "cell_type": "code",
   "execution_count": 75,
   "metadata": {
    "id": "c7aNyIx5EyKD"
   },
   "outputs": [],
   "source": [
    "df[\"D\"]=df[\"rank1\"]-df[\"rank2\"]"
   ]
  },
  {
   "cell_type": "code",
   "execution_count": 76,
   "metadata": {
    "colab": {
     "base_uri": "https://localhost:8080/",
     "height": 206
    },
    "id": "pfb0-0z7s5WC",
    "outputId": "2a32e571-55fc-4a45-d0bb-e2457f36fb7a"
   },
   "outputs": [
    {
     "data": {
      "text/html": [
       "<div>\n",
       "<style scoped>\n",
       "    .dataframe tbody tr th:only-of-type {\n",
       "        vertical-align: middle;\n",
       "    }\n",
       "\n",
       "    .dataframe tbody tr th {\n",
       "        vertical-align: top;\n",
       "    }\n",
       "\n",
       "    .dataframe thead th {\n",
       "        text-align: right;\n",
       "    }\n",
       "</style>\n",
       "<table border=\"1\" class=\"dataframe\">\n",
       "  <thead>\n",
       "    <tr style=\"text-align: right;\">\n",
       "      <th></th>\n",
       "      <th>height</th>\n",
       "      <th>weight</th>\n",
       "      <th>rank1</th>\n",
       "      <th>rank2</th>\n",
       "      <th>D</th>\n",
       "      <th>D2</th>\n",
       "    </tr>\n",
       "  </thead>\n",
       "  <tbody>\n",
       "    <tr>\n",
       "      <th>0</th>\n",
       "      <td>150</td>\n",
       "      <td>50</td>\n",
       "      <td>1.0</td>\n",
       "      <td>1.0</td>\n",
       "      <td>0.0</td>\n",
       "      <td>0.0</td>\n",
       "    </tr>\n",
       "    <tr>\n",
       "      <th>1</th>\n",
       "      <td>160</td>\n",
       "      <td>55</td>\n",
       "      <td>2.0</td>\n",
       "      <td>2.0</td>\n",
       "      <td>0.0</td>\n",
       "      <td>0.0</td>\n",
       "    </tr>\n",
       "    <tr>\n",
       "      <th>2</th>\n",
       "      <td>165</td>\n",
       "      <td>60</td>\n",
       "      <td>3.0</td>\n",
       "      <td>3.0</td>\n",
       "      <td>0.0</td>\n",
       "      <td>0.0</td>\n",
       "    </tr>\n",
       "    <tr>\n",
       "      <th>3</th>\n",
       "      <td>170</td>\n",
       "      <td>65</td>\n",
       "      <td>4.0</td>\n",
       "      <td>4.0</td>\n",
       "      <td>0.0</td>\n",
       "      <td>0.0</td>\n",
       "    </tr>\n",
       "    <tr>\n",
       "      <th>4</th>\n",
       "      <td>175</td>\n",
       "      <td>70</td>\n",
       "      <td>5.0</td>\n",
       "      <td>5.0</td>\n",
       "      <td>0.0</td>\n",
       "      <td>0.0</td>\n",
       "    </tr>\n",
       "  </tbody>\n",
       "</table>\n",
       "</div>"
      ],
      "text/plain": [
       "   height  weight  rank1  rank2    D   D2\n",
       "0     150      50    1.0    1.0  0.0  0.0\n",
       "1     160      55    2.0    2.0  0.0  0.0\n",
       "2     165      60    3.0    3.0  0.0  0.0\n",
       "3     170      65    4.0    4.0  0.0  0.0\n",
       "4     175      70    5.0    5.0  0.0  0.0"
      ]
     },
     "execution_count": 76,
     "metadata": {},
     "output_type": "execute_result"
    }
   ],
   "source": [
    "df[\"D2\"]=df[\"D\"]**2\n",
    "df.head()"
   ]
  },
  {
   "cell_type": "code",
   "execution_count": 77,
   "metadata": {
    "colab": {
     "base_uri": "https://localhost:8080/"
    },
    "id": "TJ0rMmICs8KJ",
    "outputId": "2bd9c592-0a93-4582-a167-cd2451eb7968"
   },
   "outputs": [
    {
     "data": {
      "text/plain": [
       "0.0"
      ]
     },
     "execution_count": 77,
     "metadata": {},
     "output_type": "execute_result"
    }
   ],
   "source": [
    "sum_d2=df[\"D2\"].sum()\n",
    "sum_d2"
   ]
  },
  {
   "cell_type": "code",
   "execution_count": 78,
   "metadata": {
    "colab": {
     "base_uri": "https://localhost:8080/"
    },
    "id": "3PLh29CYtJw6",
    "outputId": "f0ba0ec4-a5b7-4da1-f9ca-daecbff4a30f"
   },
   "outputs": [
    {
     "data": {
      "text/plain": [
       "7"
      ]
     },
     "execution_count": 78,
     "metadata": {},
     "output_type": "execute_result"
    }
   ],
   "source": [
    "n=len(df)\n",
    "n"
   ]
  },
  {
   "cell_type": "code",
   "execution_count": 79,
   "metadata": {
    "colab": {
     "base_uri": "https://localhost:8080/"
    },
    "id": "QBeE0SLBtPDC",
    "outputId": "771d3a5d-3209-431e-d0f2-45111cff9d7b"
   },
   "outputs": [
    {
     "data": {
      "text/plain": [
       "1.0"
      ]
     },
     "execution_count": 79,
     "metadata": {},
     "output_type": "execute_result"
    }
   ],
   "source": [
    "R=1-((6*sum_d2)/((n**3)-n))\n",
    "R"
   ]
  },
  {
   "cell_type": "markdown",
   "metadata": {
    "id": "SzFy_DNVtaht"
   },
   "source": [
    "Find Karl pearson of data"
   ]
  },
  {
   "cell_type": "code",
   "execution_count": 81,
   "metadata": {
    "id": "sWrFjlfovSVS"
   },
   "outputs": [],
   "source": [
    "data={\n",
    "    \"Height\":[150,160,165,170,175,180,185,190],\n",
    "    \"Weight\":[50,55,60,65,70,75,80,85]\n",
    "}\n",
    "df=pd.DataFrame(data)"
   ]
  },
  {
   "cell_type": "code",
   "execution_count": 82,
   "metadata": {
    "colab": {
     "base_uri": "https://localhost:8080/"
    },
    "id": "nVmYpxoJtXL2",
    "outputId": "1ce0c0cc-8cc3-4719-cd58-aaf9ccfbe276"
   },
   "outputs": [
    {
     "data": {
      "text/plain": [
       "1375"
      ]
     },
     "execution_count": 82,
     "metadata": {},
     "output_type": "execute_result"
    }
   ],
   "source": [
    "mean_height=df[\"Height\"].sum()\n",
    "mean_height"
   ]
  },
  {
   "cell_type": "code",
   "execution_count": 83,
   "metadata": {
    "colab": {
     "base_uri": "https://localhost:8080/"
    },
    "id": "Lieaog83u9_b",
    "outputId": "8c5192a5-413f-4749-f4c3-bd1942f4b092"
   },
   "outputs": [
    {
     "data": {
      "text/plain": [
       "540"
      ]
     },
     "execution_count": 83,
     "metadata": {},
     "output_type": "execute_result"
    }
   ],
   "source": [
    "mean_weight=df[\"Weight\"].sum()\n",
    "mean_weight"
   ]
  },
  {
   "cell_type": "code",
   "execution_count": 84,
   "metadata": {
    "colab": {
     "base_uri": "https://localhost:8080/",
     "height": 335
    },
    "id": "FqxzbyNnvDcT",
    "outputId": "0ab997d7-2629-40e5-83fd-de9caf462e83"
   },
   "outputs": [
    {
     "data": {
      "text/plain": [
       "0   -1225\n",
       "1   -1215\n",
       "2   -1210\n",
       "3   -1205\n",
       "4   -1200\n",
       "5   -1195\n",
       "6   -1190\n",
       "7   -1185\n",
       "Name: x-xmean, dtype: int64"
      ]
     },
     "execution_count": 84,
     "metadata": {},
     "output_type": "execute_result"
    }
   ],
   "source": [
    "df[\"x-xmean\"]=(df[\"Height\"]-mean_height)\n",
    "df[\"x-xmean\"]"
   ]
  },
  {
   "cell_type": "code",
   "execution_count": 85,
   "metadata": {
    "colab": {
     "base_uri": "https://localhost:8080/",
     "height": 335
    },
    "id": "rKVPv9rRvmfX",
    "outputId": "b1fec482-4bd0-4ee1-eca5-00df9eeb9fbb"
   },
   "outputs": [
    {
     "data": {
      "text/plain": [
       "0   -490\n",
       "1   -485\n",
       "2   -480\n",
       "3   -475\n",
       "4   -470\n",
       "5   -465\n",
       "6   -460\n",
       "7   -455\n",
       "Name: y-ymean, dtype: int64"
      ]
     },
     "execution_count": 85,
     "metadata": {},
     "output_type": "execute_result"
    }
   ],
   "source": [
    "df[\"y-ymean\"]=(df[\"Weight\"]-mean_weight)\n",
    "df[\"y-ymean\"]"
   ]
  },
  {
   "cell_type": "code",
   "execution_count": 86,
   "metadata": {
    "colab": {
     "base_uri": "https://localhost:8080/",
     "height": 335
    },
    "id": "ZEpmirwXwFkn",
    "outputId": "e1fdafaf-92e5-4a7a-c751-7b0ed8cfcdc5"
   },
   "outputs": [
    {
     "data": {
      "text/plain": [
       "0    600250\n",
       "1    589275\n",
       "2    580800\n",
       "3    572375\n",
       "4    564000\n",
       "5    555675\n",
       "6    547400\n",
       "7    539175\n",
       "Name: xy, dtype: int64"
      ]
     },
     "execution_count": 86,
     "metadata": {},
     "output_type": "execute_result"
    }
   ],
   "source": [
    "df[\"xy\"]=df[\"x-xmean\"]*df[\"y-ymean\"]\n",
    "df[\"xy\"]"
   ]
  },
  {
   "cell_type": "code",
   "execution_count": 87,
   "metadata": {
    "colab": {
     "base_uri": "https://localhost:8080/",
     "height": 335
    },
    "id": "WANDtWs_xMnO",
    "outputId": "a465c0fd-03d0-46b0-9b4f-ef1c4a2c8ae0"
   },
   "outputs": [
    {
     "data": {
      "text/plain": [
       "0    1500625\n",
       "1    1476225\n",
       "2    1464100\n",
       "3    1452025\n",
       "4    1440000\n",
       "5    1428025\n",
       "6    1416100\n",
       "7    1404225\n",
       "Name: x2, dtype: int64"
      ]
     },
     "execution_count": 87,
     "metadata": {},
     "output_type": "execute_result"
    }
   ],
   "source": [
    "df[\"x2\"]=df[\"x-xmean\"]**2\n",
    "df[\"x2\"]"
   ]
  },
  {
   "cell_type": "code",
   "execution_count": 88,
   "metadata": {
    "colab": {
     "base_uri": "https://localhost:8080/",
     "height": 335
    },
    "id": "ml0kQzRfyLyM",
    "outputId": "6a83903b-7ce8-42ce-ad99-7fc4d1423265"
   },
   "outputs": [
    {
     "data": {
      "text/plain": [
       "0    240100\n",
       "1    235225\n",
       "2    230400\n",
       "3    225625\n",
       "4    220900\n",
       "5    216225\n",
       "6    211600\n",
       "7    207025\n",
       "Name: y2, dtype: int64"
      ]
     },
     "execution_count": 88,
     "metadata": {},
     "output_type": "execute_result"
    }
   ],
   "source": [
    "df[\"y2\"]=df[\"y-ymean\"]**2\n",
    "df[\"y2\"]"
   ]
  },
  {
   "cell_type": "code",
   "execution_count": 89,
   "metadata": {
    "colab": {
     "base_uri": "https://localhost:8080/"
    },
    "id": "T4NCQq_Aykkp",
    "outputId": "dc98b923-77e0-4d76-d6ae-9f57ac43145a"
   },
   "outputs": [
    {
     "data": {
      "text/plain": [
       "11581325"
      ]
     },
     "execution_count": 89,
     "metadata": {},
     "output_type": "execute_result"
    }
   ],
   "source": [
    "sum_x2=df[\"x2\"].sum()\n",
    "sum_x2"
   ]
  },
  {
   "cell_type": "code",
   "execution_count": 90,
   "metadata": {
    "colab": {
     "base_uri": "https://localhost:8080/"
    },
    "id": "09t6diqQy0tC",
    "outputId": "cea25f2c-b186-408f-dcc5-49b4bc1e1a91"
   },
   "outputs": [
    {
     "data": {
      "text/plain": [
       "1787100"
      ]
     },
     "execution_count": 90,
     "metadata": {},
     "output_type": "execute_result"
    }
   ],
   "source": [
    "sum_y2=df[\"y2\"].sum()\n",
    "sum_y2"
   ]
  },
  {
   "cell_type": "code",
   "execution_count": 91,
   "metadata": {
    "colab": {
     "base_uri": "https://localhost:8080/"
    },
    "id": "YNGkDYgoy6Z6",
    "outputId": "5bda9ccb-c847-4b5d-e169-f4cd72d79298"
   },
   "outputs": [
    {
     "data": {
      "text/plain": [
       "4548950"
      ]
     },
     "execution_count": 91,
     "metadata": {},
     "output_type": "execute_result"
    }
   ],
   "source": [
    "sum_xy=df[\"xy\"].sum()\n",
    "sum_xy"
   ]
  },
  {
   "cell_type": "code",
   "execution_count": 92,
   "metadata": {
    "colab": {
     "base_uri": "https://localhost:8080/"
    },
    "id": "JkgiBIJdzCYK",
    "outputId": "994d7cc8-2530-45a2-f404-30f6d11ca8eb"
   },
   "outputs": [
    {
     "data": {
      "text/plain": [
       "701942.8731168498"
      ]
     },
     "execution_count": 92,
     "metadata": {},
     "output_type": "execute_result"
    }
   ],
   "source": [
    "r=sum_xy/sum_x2*sum_y2\n",
    "r"
   ]
  },
  {
   "cell_type": "code",
   "execution_count": 93,
   "metadata": {
    "colab": {
     "base_uri": "https://localhost:8080/"
    },
    "id": "qHLU4HJIzQZ7",
    "outputId": "f02a47da-eddc-41d8-e775-02c3e2ecb8f2"
   },
   "outputs": [
    {
     "data": {
      "text/plain": [
       "837.8203107569366"
      ]
     },
     "execution_count": 93,
     "metadata": {},
     "output_type": "execute_result"
    }
   ],
   "source": [
    "r_sqrt=r**(1/2)\n",
    "r_sqrt"
   ]
  },
  {
   "cell_type": "code",
   "execution_count": null,
   "metadata": {
    "id": "slfd5TuizdQn"
   },
   "outputs": [],
   "source": []
  }
 ],
 "metadata": {
  "colab": {
   "provenance": []
  },
  "kernelspec": {
   "display_name": "Python 3 (ipykernel)",
   "language": "python",
   "name": "python3"
  },
  "language_info": {
   "codemirror_mode": {
    "name": "ipython",
    "version": 3
   },
   "file_extension": ".py",
   "mimetype": "text/x-python",
   "name": "python",
   "nbconvert_exporter": "python",
   "pygments_lexer": "ipython3",
   "version": "3.12.4"
  }
 },
 "nbformat": 4,
 "nbformat_minor": 4
}
