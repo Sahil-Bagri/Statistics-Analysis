{
 "cells": [
  {
   "cell_type": "markdown",
   "id": "c22c9fc3-b888-4770-aeeb-f5071f118f1f",
   "metadata": {},
   "source": [
    "# Hypothesis testing"
   ]
  },
  {
   "cell_type": "markdown",
   "id": "9fe3d005-30b5-42d0-a7b0-3d457e7cc4d1",
   "metadata": {},
   "source": [
    "Hypothesis testing can be defined as a statistical tool that is used to identify if the results of an experiment are meaningful or not. It involves setting up a null hypothesis and an alternative hypothesis."
   ]
  },
  {
   "cell_type": "code",
   "execution_count": 27,
   "id": "dfd4ffff-37ed-4db4-b6a2-38fd2de848c3",
   "metadata": {},
   "outputs": [],
   "source": [
    "import numpy as np\n",
    "import pandas as pd"
   ]
  },
  {
   "cell_type": "markdown",
   "id": "b8bfa158-1c05-40ae-a286-b091b6b7a43f",
   "metadata": {},
   "source": [
    "Shapiro "
   ]
  },
  {
   "cell_type": "code",
   "execution_count": 29,
   "id": "5a701939-88e1-485a-913f-7e3e05b59c04",
   "metadata": {},
   "outputs": [
    {
     "name": "stdout",
     "output_type": "stream",
     "text": [
      "Static value is : 0.9669750993370736 P value is : 0.8715336750273222\n",
      "Accepted\n"
     ]
    }
   ],
   "source": [
    "from scipy.stats import shapiro\n",
    "data=[12,23,4,54,34,34]\n",
    "stat,p=shapiro(data)\n",
    "print(\"Static value is :\",stat,\"P value is :\",p)\n",
    "if p>0.005:\n",
    "    print(\"Accepted\")\n",
    "else:\n",
    "    print(\"Not accepted\")"
   ]
  },
  {
   "cell_type": "code",
   "execution_count": 30,
   "id": "3dda9103-466e-40f4-98b3-48d198c9a6ed",
   "metadata": {},
   "outputs": [
    {
     "name": "stdout",
     "output_type": "stream",
     "text": [
      "Static value is : 0.560654621449174 P value is : 5.1360840029413775e-05\n",
      "Not accepted\n"
     ]
    }
   ],
   "source": [
    "from scipy.stats import shapiro\n",
    "daf=[12,32,3,32,32,23,23,423,4,324,2,4]\n",
    "stat,p=shapiro(daf)\n",
    "print(\"Static value is :\",stat,\"P value is :\",p)\n",
    "if p>0.05:\n",
    "    print(\"Accepted\")\n",
    "else:\n",
    "    print(\"Not accepted\")"
   ]
  },
  {
   "cell_type": "markdown",
   "id": "a67f32c3-b99a-41d3-932d-95e832e9b9c3",
   "metadata": {},
   "source": [
    "Normaltest"
   ]
  },
  {
   "cell_type": "code",
   "execution_count": 32,
   "id": "854b8c0b-c90e-465d-bcce-ac8c5632cc36",
   "metadata": {},
   "outputs": [
    {
     "name": "stdout",
     "output_type": "stream",
     "text": [
      "Static value is : 18.184625466233637 P value is : 0.00011252752122608814\n",
      "Not accepted\n"
     ]
    }
   ],
   "source": [
    "from scipy.stats import normaltest\n",
    "data=[1.2,23.4,4.4,5.4,1.2,3.2,3.5,6.4]\n",
    "stat,p=normaltest(data)\n",
    "print(\"Static value is :\",stat,\"P value is :\",p)\n",
    "if p>0.005:\n",
    "    print(\"Accepted\")\n",
    "else:\n",
    "    print(\"Not accepted\")"
   ]
  },
  {
   "cell_type": "code",
   "execution_count": 33,
   "id": "47460be6-1579-44be-af3b-4c269dc295c0",
   "metadata": {},
   "outputs": [
    {
     "name": "stdout",
     "output_type": "stream",
     "text": [
      "Static value is : 2.0650375628954563 P value is : 0.3561088695824239\n",
      "Accepted\n"
     ]
    }
   ],
   "source": [
    "from scipy.stats import normaltest\n",
    "daf=[12,32,3,32,32,23,23,4]\n",
    "stat,p=normaltest(daf)\n",
    "print(\"Static value is :\",stat,\"P value is :\",p)\n",
    "if p>0.05:\n",
    "    print(\"Accepted\")\n",
    "else:\n",
    "    print(\"Not accepted\")"
   ]
  },
  {
   "cell_type": "markdown",
   "id": "605d2faf-e84d-4dd4-b56f-0697d6924c4e",
   "metadata": {},
   "source": [
    "Correlation"
   ]
  },
  {
   "cell_type": "code",
   "execution_count": 35,
   "id": "53e9c9c3-02b6-491f-9933-7fc733063cf4",
   "metadata": {},
   "outputs": [
    {
     "name": "stdout",
     "output_type": "stream",
     "text": [
      "Karl pearson is : 2.0650375628954563 P value is : 0.0\n",
      "Not accepted\n"
     ]
    }
   ],
   "source": [
    "from scipy.stats import pearsonr\n",
    "x=[1,2,3,4,5]\n",
    "y=[2,4,6,8,10]\n",
    "r,p=pearsonr(x,y)\n",
    "print(\"Karl pearson is :\",stat,\"P value is :\",p)\n",
    "if p>0.05:\n",
    "    print(\"Accepted\")\n",
    "else:\n",
    "    print(\"Not accepted\")"
   ]
  },
  {
   "cell_type": "code",
   "execution_count": 36,
   "id": "910aec79-6add-4c27-813b-393783652b00",
   "metadata": {},
   "outputs": [
    {
     "name": "stdout",
     "output_type": "stream",
     "text": [
      "Spearm is : 2.0650375628954563 P value is : 1.4042654220543672e-24\n",
      "Not accepted\n"
     ]
    }
   ],
   "source": [
    "from scipy.stats import spearmanr\n",
    "x=[1,2,3,4,5]\n",
    "y=[2,4,6,8,10]\n",
    "r,p=spearmanr(x,y)\n",
    "print(\"Spearm is :\",stat,\"P value is :\",p)\n",
    "if p>0.05:\n",
    "    print(\"Accepted\")\n",
    "else:\n",
    "    print(\"Not accepted\")"
   ]
  },
  {
   "cell_type": "markdown",
   "id": "c4633303-be72-43b2-917c-60988f04a751",
   "metadata": {},
   "source": [
    "# Find that the experience,salary data is normally distributed and the data is correlated or not"
   ]
  },
  {
   "cell_type": "code",
   "execution_count": 38,
   "id": "5ed92a29-9088-4a56-8109-e1b8319dabd6",
   "metadata": {},
   "outputs": [],
   "source": [
    "df=pd.read_csv(\"C:\\\\Users\\\\sb193\\\\OneDrive\\\\Documents\\\\salay_dataset.csv\")"
   ]
  },
  {
   "cell_type": "code",
   "execution_count": 39,
   "id": "f871614f-0a6a-467d-998f-14263b837fa8",
   "metadata": {},
   "outputs": [
    {
     "data": {
      "text/html": [
       "<div>\n",
       "<style scoped>\n",
       "    .dataframe tbody tr th:only-of-type {\n",
       "        vertical-align: middle;\n",
       "    }\n",
       "\n",
       "    .dataframe tbody tr th {\n",
       "        vertical-align: top;\n",
       "    }\n",
       "\n",
       "    .dataframe thead th {\n",
       "        text-align: right;\n",
       "    }\n",
       "</style>\n",
       "<table border=\"1\" class=\"dataframe\">\n",
       "  <thead>\n",
       "    <tr style=\"text-align: right;\">\n",
       "      <th></th>\n",
       "      <th>YearsExperience</th>\n",
       "      <th>Salary</th>\n",
       "    </tr>\n",
       "  </thead>\n",
       "  <tbody>\n",
       "    <tr>\n",
       "      <th>0</th>\n",
       "      <td>1.1</td>\n",
       "      <td>39343</td>\n",
       "    </tr>\n",
       "    <tr>\n",
       "      <th>1</th>\n",
       "      <td>1.3</td>\n",
       "      <td>46205</td>\n",
       "    </tr>\n",
       "    <tr>\n",
       "      <th>2</th>\n",
       "      <td>1.5</td>\n",
       "      <td>37731</td>\n",
       "    </tr>\n",
       "    <tr>\n",
       "      <th>3</th>\n",
       "      <td>2.0</td>\n",
       "      <td>43525</td>\n",
       "    </tr>\n",
       "    <tr>\n",
       "      <th>4</th>\n",
       "      <td>2.2</td>\n",
       "      <td>39891</td>\n",
       "    </tr>\n",
       "  </tbody>\n",
       "</table>\n",
       "</div>"
      ],
      "text/plain": [
       "   YearsExperience  Salary\n",
       "0              1.1   39343\n",
       "1              1.3   46205\n",
       "2              1.5   37731\n",
       "3              2.0   43525\n",
       "4              2.2   39891"
      ]
     },
     "execution_count": 39,
     "metadata": {},
     "output_type": "execute_result"
    }
   ],
   "source": [
    "df.head()"
   ]
  },
  {
   "cell_type": "code",
   "execution_count": 46,
   "id": "ecaf137b-23c2-47f4-9217-db3d4c5a7253",
   "metadata": {},
   "outputs": [
    {
     "name": "stdout",
     "output_type": "stream",
     "text": [
      "The p value is : 0.015155591078390984\n",
      "The dats is not normally distributed\n"
     ]
    }
   ],
   "source": [
    "from scipy.stats import shapiro\n",
    "stat,p=shapiro(df[\"Salary\"])\n",
    "print(\"The p value is :\",p)\n",
    "if p>0.05:\n",
    "    print(\"The dats is noramally distributed\")\n",
    "else:\n",
    "    print(\"The dats is not normally distributed\")"
   ]
  },
  {
   "cell_type": "code",
   "execution_count": 48,
   "id": "aedcde66-3763-4a68-880b-244b4a355a2c",
   "metadata": {},
   "outputs": [
    {
     "name": "stdout",
     "output_type": "stream",
     "text": [
      "The p value is : 0.10337645734315726\n",
      "The dats is noramally distributed\n"
     ]
    }
   ],
   "source": [
    "from scipy.stats import shapiro\n",
    "stat,p=shapiro(df[\"YearsExperience\"])\n",
    "print(\"The p value is :\",p)\n",
    "if p>0.05:\n",
    "    print(\"The dats is noramally distributed\")\n",
    "else:\n",
    "    print(\"The dats is not normally distributed\")"
   ]
  },
  {
   "cell_type": "code",
   "execution_count": 52,
   "id": "0d9a5c99-2d93-4e68-87d9-acc4ef87f612",
   "metadata": {},
   "outputs": [
    {
     "name": "stdout",
     "output_type": "stream",
     "text": [
      "The p value is : 1.1430681092271567e-20\n",
      "The data is correlated\n"
     ]
    }
   ],
   "source": [
    "from scipy.stats import pearsonr\n",
    "stat,p=pearsonr(df[\"YearsExperience\"],df[\"Salary\"])\n",
    "print(\"The p value is :\",p)\n",
    "if p>0.05:\n",
    "    print(\"The data is not correlated\")\n",
    "else:\n",
    "    print(\"The data is correlated\")"
   ]
  }
 ],
 "metadata": {
  "kernelspec": {
   "display_name": "Python 3 (ipykernel)",
   "language": "python",
   "name": "python3"
  },
  "language_info": {
   "codemirror_mode": {
    "name": "ipython",
    "version": 3
   },
   "file_extension": ".py",
   "mimetype": "text/x-python",
   "name": "python",
   "nbconvert_exporter": "python",
   "pygments_lexer": "ipython3",
   "version": "3.12.4"
  }
 },
 "nbformat": 4,
 "nbformat_minor": 5
}
