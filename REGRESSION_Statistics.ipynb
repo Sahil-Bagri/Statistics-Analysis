{
 "cells": [
  {
   "cell_type": "code",
   "execution_count": 108,
   "id": "16e3e985-e471-441d-80a9-669466dd4561",
   "metadata": {},
   "outputs": [],
   "source": [
    "import pandas as pd\n",
    "import numpy as np"
   ]
  },
  {
   "cell_type": "code",
   "execution_count": 109,
   "id": "b20588bb-62de-4b87-a151-3dae8b183d85",
   "metadata": {},
   "outputs": [],
   "source": [
    "df=pd.read_csv(\"C:\\\\Users\\\\sb193\\\\OneDrive\\\\Documents\\\\salay_dataset.csv\")"
   ]
  },
  {
   "cell_type": "code",
   "execution_count": 110,
   "id": "82d1e6f4-54cc-4c06-a3d3-99fcce08723e",
   "metadata": {},
   "outputs": [
    {
     "data": {
      "text/html": [
       "<div>\n",
       "<style scoped>\n",
       "    .dataframe tbody tr th:only-of-type {\n",
       "        vertical-align: middle;\n",
       "    }\n",
       "\n",
       "    .dataframe tbody tr th {\n",
       "        vertical-align: top;\n",
       "    }\n",
       "\n",
       "    .dataframe thead th {\n",
       "        text-align: right;\n",
       "    }\n",
       "</style>\n",
       "<table border=\"1\" class=\"dataframe\">\n",
       "  <thead>\n",
       "    <tr style=\"text-align: right;\">\n",
       "      <th></th>\n",
       "      <th>YearsExperience</th>\n",
       "      <th>Salary</th>\n",
       "    </tr>\n",
       "  </thead>\n",
       "  <tbody>\n",
       "    <tr>\n",
       "      <th>0</th>\n",
       "      <td>1.1</td>\n",
       "      <td>39343</td>\n",
       "    </tr>\n",
       "    <tr>\n",
       "      <th>1</th>\n",
       "      <td>1.3</td>\n",
       "      <td>46205</td>\n",
       "    </tr>\n",
       "    <tr>\n",
       "      <th>2</th>\n",
       "      <td>1.5</td>\n",
       "      <td>37731</td>\n",
       "    </tr>\n",
       "    <tr>\n",
       "      <th>3</th>\n",
       "      <td>2.0</td>\n",
       "      <td>43525</td>\n",
       "    </tr>\n",
       "    <tr>\n",
       "      <th>4</th>\n",
       "      <td>2.2</td>\n",
       "      <td>39891</td>\n",
       "    </tr>\n",
       "  </tbody>\n",
       "</table>\n",
       "</div>"
      ],
      "text/plain": [
       "   YearsExperience  Salary\n",
       "0              1.1   39343\n",
       "1              1.3   46205\n",
       "2              1.5   37731\n",
       "3              2.0   43525\n",
       "4              2.2   39891"
      ]
     },
     "execution_count": 110,
     "metadata": {},
     "output_type": "execute_result"
    }
   ],
   "source": [
    "df.head()"
   ]
  },
  {
   "cell_type": "markdown",
   "id": "bf245961-287a-4ccf-a2a2-0c80c636ef77",
   "metadata": {},
   "source": [
    "# What will be the salary of an individual having 5years of experiece"
   ]
  },
  {
   "cell_type": "markdown",
   "id": "6b88d617-a016-41c4-b633-8ee9c6a78957",
   "metadata": {},
   "source": [
    "For this we take  YearsExperience as X column and Salary as Y column"
   ]
  },
  {
   "cell_type": "code",
   "execution_count": 113,
   "id": "a5f6388b-109c-4397-9f70-6bb7942c8a58",
   "metadata": {},
   "outputs": [
    {
     "data": {
      "text/plain": [
       "30"
      ]
     },
     "execution_count": 113,
     "metadata": {},
     "output_type": "execute_result"
    }
   ],
   "source": [
    "n=len(df)\n",
    "n"
   ]
  },
  {
   "cell_type": "code",
   "execution_count": 114,
   "id": "858e95d9-0f71-436e-8fdf-cf0fb3f4c89d",
   "metadata": {},
   "outputs": [
    {
     "data": {
      "text/plain": [
       "66212484.0"
      ]
     },
     "execution_count": 114,
     "metadata": {},
     "output_type": "execute_result"
    }
   ],
   "source": [
    "x=(n*((df[\"YearsExperience\"]*df[\"Salary\"]).sum())-df[\"YearsExperience\"].sum()*df[\"Salary\"].sum())\n",
    "x"
   ]
  },
  {
   "cell_type": "code",
   "execution_count": 115,
   "id": "644c08a9-1d10-4457-87b6-fe3ea9f4f28d",
   "metadata": {},
   "outputs": [
    {
     "data": {
      "text/plain": [
       "7006.639999999999"
      ]
     },
     "execution_count": 115,
     "metadata": {},
     "output_type": "execute_result"
    }
   ],
   "source": [
    "y=(n*(df[\"YearsExperience\"]**2).sum()-(df[\"YearsExperience\"].sum())**2)\n",
    "y"
   ]
  },
  {
   "cell_type": "code",
   "execution_count": 116,
   "id": "6056de16-6abc-455d-92bc-e48fb3cd1ce2",
   "metadata": {},
   "outputs": [
    {
     "data": {
      "text/plain": [
       "9449.962321455077"
      ]
     },
     "execution_count": 116,
     "metadata": {},
     "output_type": "execute_result"
    }
   ],
   "source": [
    "slope=x/y\n",
    "slope"
   ]
  },
  {
   "cell_type": "code",
   "execution_count": 117,
   "id": "5516149b-e513-45d6-acf7-6e761da6d6b4",
   "metadata": {},
   "outputs": [
    {
     "data": {
      "text/plain": [
       "25792.200198668685"
      ]
     },
     "execution_count": 117,
     "metadata": {},
     "output_type": "execute_result"
    }
   ],
   "source": [
    "intercept=(df[\"Salary\"].sum()-slope*df[\"YearsExperience\"].sum())/(n)\n",
    "intercept"
   ]
  },
  {
   "cell_type": "code",
   "execution_count": 118,
   "id": "d8ec01f2-61fe-4e17-b850-164b6de23a5a",
   "metadata": {},
   "outputs": [
    {
     "data": {
      "text/plain": [
       "73042.01"
      ]
     },
     "execution_count": 118,
     "metadata": {},
     "output_type": "execute_result"
    }
   ],
   "source": [
    "Y=round((slope*5+intercept),2)\n",
    "Y"
   ]
  },
  {
   "cell_type": "markdown",
   "id": "2c713be3-728b-4471-b942-6dff55f62590",
   "metadata": {},
   "source": [
    "The salary of an individual having 5years of experiece is 73042.01"
   ]
  },
  {
   "cell_type": "markdown",
   "id": "0183a4b2-b825-4cd3-bf18-1197c6fd7838",
   "metadata": {},
   "source": [
    "# What will be the experience of an individual having 50k salary"
   ]
  },
  {
   "cell_type": "markdown",
   "id": "d5a7d8c0-3bf9-4e55-b6cc-fa63795c23df",
   "metadata": {},
   "source": [
    "For this we take Salary as X column and YearsExperience as Y column"
   ]
  },
  {
   "cell_type": "code",
   "execution_count": 122,
   "id": "4368bde4-bd31-4547-b075-41cd2eea384c",
   "metadata": {},
   "outputs": [
    {
     "data": {
      "text/plain": [
       "66212484.0"
      ]
     },
     "execution_count": 122,
     "metadata": {},
     "output_type": "execute_result"
    }
   ],
   "source": [
    "a=(n*((df[\"Salary\"]*df[\"YearsExperience\"]).sum())-df[\"Salary\"].sum()*df[\"YearsExperience\"].sum())\n",
    "a"
   ]
  },
  {
   "cell_type": "code",
   "execution_count": 123,
   "id": "0a3fabab-3c16-4c75-8d94-76516607518b",
   "metadata": {},
   "outputs": [
    {
     "data": {
      "text/plain": [
       "653849335560"
      ]
     },
     "execution_count": 123,
     "metadata": {},
     "output_type": "execute_result"
    }
   ],
   "source": [
    "b=(n*(df[\"Salary\"]**2).sum()-(df[\"Salary\"].sum())**2)\n",
    "b"
   ]
  },
  {
   "cell_type": "code",
   "execution_count": 124,
   "id": "46b51abf-dc40-41b7-be16-5dcb911e2f68",
   "metadata": {},
   "outputs": [
    {
     "data": {
      "text/plain": [
       "0.00010126565922605279"
      ]
     },
     "execution_count": 124,
     "metadata": {},
     "output_type": "execute_result"
    }
   ],
   "source": [
    "slope=a/b\n",
    "slope"
   ]
  },
  {
   "cell_type": "code",
   "execution_count": 125,
   "id": "809e63dc-6c47-4b45-b5dc-15906d9f24d1",
   "metadata": {},
   "outputs": [
    {
     "data": {
      "text/plain": [
       "-2.383160564824357"
      ]
     },
     "execution_count": 125,
     "metadata": {},
     "output_type": "execute_result"
    }
   ],
   "source": [
    "intercept=(df[\"YearsExperience\"].sum()-slope*df[\"Salary\"].sum())/(n)\n",
    "intercept"
   ]
  },
  {
   "cell_type": "code",
   "execution_count": 126,
   "id": "fc2fdcdd-eadc-452b-8385-efa7a4269f8a",
   "metadata": {},
   "outputs": [
    {
     "data": {
      "text/plain": [
       "2.68"
      ]
     },
     "execution_count": 126,
     "metadata": {},
     "output_type": "execute_result"
    }
   ],
   "source": [
    "X=round((slope*50000+intercept),2)\n",
    "X"
   ]
  },
  {
   "cell_type": "markdown",
   "id": "6f965a91-8283-47e6-987e-9868c5742754",
   "metadata": {},
   "source": [
    "The experience of an individual having 50k salary is 2.68\n"
   ]
  },
  {
   "cell_type": "code",
   "execution_count": null,
   "id": "a47d0da9-170d-4db7-a643-db84cd8a271c",
   "metadata": {},
   "outputs": [],
   "source": []
  }
 ],
 "metadata": {
  "kernelspec": {
   "display_name": "Python 3 (ipykernel)",
   "language": "python",
   "name": "python3"
  },
  "language_info": {
   "codemirror_mode": {
    "name": "ipython",
    "version": 3
   },
   "file_extension": ".py",
   "mimetype": "text/x-python",
   "name": "python",
   "nbconvert_exporter": "python",
   "pygments_lexer": "ipython3",
   "version": "3.12.4"
  }
 },
 "nbformat": 4,
 "nbformat_minor": 5
}
